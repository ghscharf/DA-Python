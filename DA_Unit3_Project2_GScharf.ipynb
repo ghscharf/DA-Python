{
  "nbformat": 4,
  "nbformat_minor": 0,
  "metadata": {
    "colab": {
      "name": "DA_Unit3_Project2_GScharf.ipynb",
      "provenance": [],
      "toc_visible": true,
      "authorship_tag": "ABX9TyODS3BPoGiemoSWORnYH8ia",
      "include_colab_link": true
    },
    "kernelspec": {
      "name": "python3",
      "display_name": "Python 3"
    }
  },
  "cells": [
    {
      "cell_type": "markdown",
      "metadata": {
        "id": "view-in-github",
        "colab_type": "text"
      },
      "source": [
        "<a href=\"https://colab.research.google.com/github/ghscharf/DA-Python/blob/master/DA_Unit3_Project2_GScharf.ipynb\" target=\"_parent\"><img src=\"https://colab.research.google.com/assets/colab-badge.svg\" alt=\"Open In Colab\"/></a>"
      ]
    },
    {
      "cell_type": "markdown",
      "metadata": {
        "id": "YnblEedozhfU",
        "colab_type": "text"
      },
      "source": [
        "links: https://chronicdata.cdc.gov/Chronic-Disease-Indicators/U-S-Chronic-Disease-Indicators-CDI-/g4ie-h725\n",
        "\n",
        "https://www.cdc.gov/mmwr/pdf/rr/rr6401.pdf\n",
        "\n",
        "https://dev.socrata.com/foundry/chronicdata.cdc.gov/g4ie-h725"
      ]
    },
    {
      "cell_type": "markdown",
      "metadata": {
        "id": "l3XP6gGTtV30",
        "colab_type": "text"
      },
      "source": [
        "#Data Background"
      ]
    },
    {
      "cell_type": "markdown",
      "metadata": {
        "id": "7DXvL4HAgVvj",
        "colab_type": "text"
      },
      "source": [
        "The data used in this analysis is the Chronic Disease Indicators (CDI) dataset sourced from the CDC. This is a very large dataset containing nearly 815,000 records across a total of 124 indicators related to chronic disease. The dataset was created in 2016 and last updated in January 2020. Definition of each indicator as well as data parameters can be found in the [2015 Morbidity and Mortality Weekly Report](https://www.cdc.gov/mmwr/pdf/rr/rr6401.pdf) (MMWR)."
      ]
    },
    {
      "cell_type": "markdown",
      "metadata": {
        "id": "uJtgV4LjtZho",
        "colab_type": "text"
      },
      "source": [
        "#Data Acquisition"
      ]
    },
    {
      "cell_type": "markdown",
      "metadata": {
        "id": "NzK8CDf7iJKK",
        "colab_type": "text"
      },
      "source": [
        "The data was acquired by accessing the CDI dataset via API using the Python pandas and sodapy grab-and-go codes provided by the CDC [here](https://dev.socrata.com/foundry/chronicdata.cdc.gov/g4ie-h725). In order to more easily manipulate the dataset, I limited the access to 10,000 records. The results were then converted into a dataframe. Next, I did a simple examination of the CDI dataframe by pulling the first 5 records and identifying the shape of the dataframe, which is 10,000 rows and 26 columns. I also did some simple queries to get a basic sense of the dataframe, including the number of unique topics and unique questions (i.e. indicators). Lastly, I queried the count in each topic to determine which topic I wanted to conduct the analysis on, since I wanted to make sure the topic I chose had a substantial amount of records to allow for productive analysis. I ended up choosing Overarching Conditions as my topic of analysis, from which I developed my research questions."
      ]
    },
    {
      "cell_type": "code",
      "metadata": {
        "id": "N0p_rlf38SZF",
        "colab_type": "code",
        "colab": {}
      },
      "source": [
        "import pandas as pd"
      ],
      "execution_count": 17,
      "outputs": []
    },
    {
      "cell_type": "code",
      "metadata": {
        "id": "IVCdZG-Gz2xF",
        "colab_type": "code",
        "colab": {
          "base_uri": "https://localhost:8080/",
          "height": 139
        },
        "outputId": "08128dcf-7d34-4a54-d65a-6be2eb5f0b2d"
      },
      "source": [
        "!pip install sodapy\n",
        "from sodapy import Socrata"
      ],
      "execution_count": 18,
      "outputs": [
        {
          "output_type": "stream",
          "text": [
            "Requirement already satisfied: sodapy in /usr/local/lib/python3.6/dist-packages (2.1.0)\n",
            "Requirement already satisfied: requests>=2.20.0 in /usr/local/lib/python3.6/dist-packages (from sodapy) (2.23.0)\n",
            "Requirement already satisfied: urllib3!=1.25.0,!=1.25.1,<1.26,>=1.21.1 in /usr/local/lib/python3.6/dist-packages (from requests>=2.20.0->sodapy) (1.24.3)\n",
            "Requirement already satisfied: certifi>=2017.4.17 in /usr/local/lib/python3.6/dist-packages (from requests>=2.20.0->sodapy) (2020.6.20)\n",
            "Requirement already satisfied: chardet<4,>=3.0.2 in /usr/local/lib/python3.6/dist-packages (from requests>=2.20.0->sodapy) (3.0.4)\n",
            "Requirement already satisfied: idna<3,>=2.5 in /usr/local/lib/python3.6/dist-packages (from requests>=2.20.0->sodapy) (2.10)\n"
          ],
          "name": "stdout"
        }
      ]
    },
    {
      "cell_type": "code",
      "metadata": {
        "id": "rHEsJiQEz8jq",
        "colab_type": "code",
        "colab": {
          "base_uri": "https://localhost:8080/",
          "height": 34
        },
        "outputId": "a58b5e70-36a2-477c-f3b7-adce9bb1e69c"
      },
      "source": [
        "client = Socrata(\"chronicdata.cdc.gov\",None)"
      ],
      "execution_count": 19,
      "outputs": [
        {
          "output_type": "stream",
          "text": [
            "WARNING:root:Requests made without an app_token will be subject to strict throttling limits.\n"
          ],
          "name": "stderr"
        }
      ]
    },
    {
      "cell_type": "code",
      "metadata": {
        "id": "f-AnhMPy2jMb",
        "colab_type": "code",
        "colab": {}
      },
      "source": [
        "cdi = client.get(\"g4ie-h725\", limit=10000)"
      ],
      "execution_count": 20,
      "outputs": []
    },
    {
      "cell_type": "code",
      "metadata": {
        "id": "nHzCjMKi2qqT",
        "colab_type": "code",
        "colab": {}
      },
      "source": [
        "cdi_df = pd.DataFrame.from_records(cdi)"
      ],
      "execution_count": 21,
      "outputs": []
    },
    {
      "cell_type": "code",
      "metadata": {
        "id": "qHEKcheo2sVX",
        "colab_type": "code",
        "colab": {
          "base_uri": "https://localhost:8080/",
          "height": 479
        },
        "outputId": "799872c5-8d14-41d9-ed00-a9ec06547e98"
      },
      "source": [
        "cdi_df.head()"
      ],
      "execution_count": 22,
      "outputs": [
        {
          "output_type": "execute_result",
          "data": {
            "text/html": [
              "<div>\n",
              "<style scoped>\n",
              "    .dataframe tbody tr th:only-of-type {\n",
              "        vertical-align: middle;\n",
              "    }\n",
              "\n",
              "    .dataframe tbody tr th {\n",
              "        vertical-align: top;\n",
              "    }\n",
              "\n",
              "    .dataframe thead th {\n",
              "        text-align: right;\n",
              "    }\n",
              "</style>\n",
              "<table border=\"1\" class=\"dataframe\">\n",
              "  <thead>\n",
              "    <tr style=\"text-align: right;\">\n",
              "      <th></th>\n",
              "      <th>yearstart</th>\n",
              "      <th>yearend</th>\n",
              "      <th>locationabbr</th>\n",
              "      <th>locationdesc</th>\n",
              "      <th>datasource</th>\n",
              "      <th>topic</th>\n",
              "      <th>question</th>\n",
              "      <th>datavalueunit</th>\n",
              "      <th>datavaluetype</th>\n",
              "      <th>datavalue</th>\n",
              "      <th>datavaluealt</th>\n",
              "      <th>lowconfidencelimit</th>\n",
              "      <th>highconfidencelimit</th>\n",
              "      <th>stratificationcategory1</th>\n",
              "      <th>stratification1</th>\n",
              "      <th>geolocation</th>\n",
              "      <th>locationid</th>\n",
              "      <th>topicid</th>\n",
              "      <th>questionid</th>\n",
              "      <th>datavaluetypeid</th>\n",
              "      <th>stratificationcategoryid1</th>\n",
              "      <th>stratificationid1</th>\n",
              "      <th>:@computed_region_bxsw_vy29</th>\n",
              "      <th>:@computed_region_he4y_prf8</th>\n",
              "      <th>datavaluefootnotesymbol</th>\n",
              "      <th>datavaluefootnote</th>\n",
              "    </tr>\n",
              "  </thead>\n",
              "  <tbody>\n",
              "    <tr>\n",
              "      <th>0</th>\n",
              "      <td>2017</td>\n",
              "      <td>2017</td>\n",
              "      <td>RI</td>\n",
              "      <td>Rhode Island</td>\n",
              "      <td>YRBSS</td>\n",
              "      <td>Tobacco</td>\n",
              "      <td>Current smokeless tobacco use among youth</td>\n",
              "      <td>%</td>\n",
              "      <td>Crude Prevalence</td>\n",
              "      <td>8.0</td>\n",
              "      <td>8.0</td>\n",
              "      <td>5.2</td>\n",
              "      <td>12.3</td>\n",
              "      <td>Gender</td>\n",
              "      <td>Male</td>\n",
              "      <td>{'latitude': '41.70828019300046', 'longitude':...</td>\n",
              "      <td>44</td>\n",
              "      <td>TOB</td>\n",
              "      <td>TOB2_1</td>\n",
              "      <td>CRDPREV</td>\n",
              "      <td>GENDER</td>\n",
              "      <td>GENM</td>\n",
              "      <td>27</td>\n",
              "      <td>2658</td>\n",
              "      <td>NaN</td>\n",
              "      <td>NaN</td>\n",
              "    </tr>\n",
              "    <tr>\n",
              "      <th>1</th>\n",
              "      <td>2013</td>\n",
              "      <td>2013</td>\n",
              "      <td>MS</td>\n",
              "      <td>Mississippi</td>\n",
              "      <td>BRFSS</td>\n",
              "      <td>Arthritis</td>\n",
              "      <td>Fair or poor health among adults aged &gt;= 18 ye...</td>\n",
              "      <td>%</td>\n",
              "      <td>Crude Prevalence</td>\n",
              "      <td>46.9</td>\n",
              "      <td>46.9</td>\n",
              "      <td>42.3</td>\n",
              "      <td>51.6</td>\n",
              "      <td>Gender</td>\n",
              "      <td>Male</td>\n",
              "      <td>{'latitude': '32.745510099000455', 'longitude'...</td>\n",
              "      <td>28</td>\n",
              "      <td>ART</td>\n",
              "      <td>ART4_0</td>\n",
              "      <td>CRDPREV</td>\n",
              "      <td>GENDER</td>\n",
              "      <td>GENM</td>\n",
              "      <td>32</td>\n",
              "      <td>494</td>\n",
              "      <td>NaN</td>\n",
              "      <td>NaN</td>\n",
              "    </tr>\n",
              "    <tr>\n",
              "      <th>2</th>\n",
              "      <td>2016</td>\n",
              "      <td>2016</td>\n",
              "      <td>KY</td>\n",
              "      <td>Kentucky</td>\n",
              "      <td>BRFSS</td>\n",
              "      <td>Cancer</td>\n",
              "      <td>Papanicolaou smear use among adult women aged ...</td>\n",
              "      <td>%</td>\n",
              "      <td>Age-adjusted Prevalence</td>\n",
              "      <td>76.9</td>\n",
              "      <td>76.9</td>\n",
              "      <td>59.4</td>\n",
              "      <td>88.3</td>\n",
              "      <td>Race/Ethnicity</td>\n",
              "      <td>Multiracial, non-Hispanic</td>\n",
              "      <td>{'latitude': '37.645970271000465', 'longitude'...</td>\n",
              "      <td>21</td>\n",
              "      <td>CAN</td>\n",
              "      <td>CAN2_1</td>\n",
              "      <td>AGEADJPREV</td>\n",
              "      <td>RACE</td>\n",
              "      <td>MRC</td>\n",
              "      <td>36</td>\n",
              "      <td>235</td>\n",
              "      <td>NaN</td>\n",
              "      <td>NaN</td>\n",
              "    </tr>\n",
              "    <tr>\n",
              "      <th>3</th>\n",
              "      <td>2015</td>\n",
              "      <td>2015</td>\n",
              "      <td>KS</td>\n",
              "      <td>Kansas</td>\n",
              "      <td>BRFSS</td>\n",
              "      <td>Tobacco</td>\n",
              "      <td>Quit attempts in the past year among current s...</td>\n",
              "      <td>%</td>\n",
              "      <td>Age-adjusted Prevalence</td>\n",
              "      <td>53.2</td>\n",
              "      <td>53.2</td>\n",
              "      <td>50.3</td>\n",
              "      <td>56.0</td>\n",
              "      <td>Gender</td>\n",
              "      <td>Male</td>\n",
              "      <td>{'latitude': '38.34774030000045', 'longitude':...</td>\n",
              "      <td>20</td>\n",
              "      <td>TOB</td>\n",
              "      <td>TOB3_0</td>\n",
              "      <td>AGEADJPREV</td>\n",
              "      <td>GENDER</td>\n",
              "      <td>GENM</td>\n",
              "      <td>17</td>\n",
              "      <td>1287</td>\n",
              "      <td>NaN</td>\n",
              "      <td>NaN</td>\n",
              "    </tr>\n",
              "    <tr>\n",
              "      <th>4</th>\n",
              "      <td>2015</td>\n",
              "      <td>2015</td>\n",
              "      <td>ND</td>\n",
              "      <td>North Dakota</td>\n",
              "      <td>ACS 1-Year Estimates</td>\n",
              "      <td>Overarching Conditions</td>\n",
              "      <td>Poverty</td>\n",
              "      <td>%</td>\n",
              "      <td>Crude Prevalence</td>\n",
              "      <td>8.9</td>\n",
              "      <td>8.9</td>\n",
              "      <td>8.2</td>\n",
              "      <td>9.6</td>\n",
              "      <td>Race/Ethnicity</td>\n",
              "      <td>White, non-Hispanic</td>\n",
              "      <td>{'latitude': '47.47531977900047', 'longitude':...</td>\n",
              "      <td>38</td>\n",
              "      <td>OVC</td>\n",
              "      <td>OVC3_1</td>\n",
              "      <td>CRDPREV</td>\n",
              "      <td>RACE</td>\n",
              "      <td>WHT</td>\n",
              "      <td>3</td>\n",
              "      <td>568</td>\n",
              "      <td>NaN</td>\n",
              "      <td>NaN</td>\n",
              "    </tr>\n",
              "  </tbody>\n",
              "</table>\n",
              "</div>"
            ],
            "text/plain": [
              "  yearstart yearend  ... datavaluefootnotesymbol datavaluefootnote\n",
              "0      2017    2017  ...                     NaN               NaN\n",
              "1      2013    2013  ...                     NaN               NaN\n",
              "2      2016    2016  ...                     NaN               NaN\n",
              "3      2015    2015  ...                     NaN               NaN\n",
              "4      2015    2015  ...                     NaN               NaN\n",
              "\n",
              "[5 rows x 26 columns]"
            ]
          },
          "metadata": {
            "tags": []
          },
          "execution_count": 22
        }
      ]
    },
    {
      "cell_type": "code",
      "metadata": {
        "id": "RZ6zIB8K22Km",
        "colab_type": "code",
        "colab": {
          "base_uri": "https://localhost:8080/",
          "height": 34
        },
        "outputId": "3c959e48-f601-4626-b220-f2404c82cf2e"
      },
      "source": [
        "cdi_df.shape"
      ],
      "execution_count": 23,
      "outputs": [
        {
          "output_type": "execute_result",
          "data": {
            "text/plain": [
              "(10000, 26)"
            ]
          },
          "metadata": {
            "tags": []
          },
          "execution_count": 23
        }
      ]
    },
    {
      "cell_type": "code",
      "metadata": {
        "id": "tD-YP9MX26RK",
        "colab_type": "code",
        "colab": {
          "base_uri": "https://localhost:8080/",
          "height": 170
        },
        "outputId": "dac276d4-d54d-497a-9186-0b2318f62847"
      },
      "source": [
        "cdi_df.columns"
      ],
      "execution_count": 24,
      "outputs": [
        {
          "output_type": "execute_result",
          "data": {
            "text/plain": [
              "Index(['yearstart', 'yearend', 'locationabbr', 'locationdesc', 'datasource',\n",
              "       'topic', 'question', 'datavalueunit', 'datavaluetype', 'datavalue',\n",
              "       'datavaluealt', 'lowconfidencelimit', 'highconfidencelimit',\n",
              "       'stratificationcategory1', 'stratification1', 'geolocation',\n",
              "       'locationid', 'topicid', 'questionid', 'datavaluetypeid',\n",
              "       'stratificationcategoryid1', 'stratificationid1',\n",
              "       ':@computed_region_bxsw_vy29', ':@computed_region_he4y_prf8',\n",
              "       'datavaluefootnotesymbol', 'datavaluefootnote'],\n",
              "      dtype='object')"
            ]
          },
          "metadata": {
            "tags": []
          },
          "execution_count": 24
        }
      ]
    },
    {
      "cell_type": "code",
      "metadata": {
        "id": "XRc29Amht3TR",
        "colab_type": "code",
        "colab": {
          "base_uri": "https://localhost:8080/",
          "height": 136
        },
        "outputId": "89ad4bbd-c304-4f8f-c9d4-73b539b85910"
      },
      "source": [
        "# number of unique topics\n",
        "cdi_df.topic.unique()"
      ],
      "execution_count": 25,
      "outputs": [
        {
          "output_type": "execute_result",
          "data": {
            "text/plain": [
              "array(['Tobacco', 'Arthritis', 'Cancer', 'Overarching Conditions',\n",
              "       'Disability', 'Alcohol', 'Asthma', 'Older Adults',\n",
              "       'Cardiovascular Disease',\n",
              "       'Nutrition, Physical Activity, and Weight Status',\n",
              "       'Chronic Obstructive Pulmonary Disease', 'Chronic Kidney Disease',\n",
              "       'Diabetes', 'Oral Health', 'Mental Health', 'Immunization',\n",
              "       'Reproductive Health'], dtype=object)"
            ]
          },
          "metadata": {
            "tags": []
          },
          "execution_count": 25
        }
      ]
    },
    {
      "cell_type": "code",
      "metadata": {
        "id": "JuBu41EyuKTV",
        "colab_type": "code",
        "colab": {
          "base_uri": "https://localhost:8080/",
          "height": 119
        },
        "outputId": "15c5078f-4226-4b31-d716-60953ebdca0a"
      },
      "source": [
        "# number of unique locations or states\n",
        "cdi_df.locationabbr.unique()"
      ],
      "execution_count": 26,
      "outputs": [
        {
          "output_type": "execute_result",
          "data": {
            "text/plain": [
              "array(['RI', 'MS', 'KY', 'KS', 'ND', 'AZ', 'IA', 'CT', 'US', 'AR', 'NE',\n",
              "       'IL', 'SD', 'TN', 'GU', 'VA', 'PR', 'ID', 'WY', 'MN', 'CO', 'MD',\n",
              "       'NM', 'UT', 'MT', 'OH', 'MO', 'PA', 'AL', 'DE', 'NY', 'NV', 'VI',\n",
              "       'NC', 'OR', 'LA', 'MI', 'ME', 'WI', 'VT', 'WV', 'GA', 'HI', 'TX',\n",
              "       'NJ', 'FL', 'AK', 'CA', 'OK', 'DC', 'SC', 'IN', 'MA', 'WA', 'NH'],\n",
              "      dtype=object)"
            ]
          },
          "metadata": {
            "tags": []
          },
          "execution_count": 26
        }
      ]
    },
    {
      "cell_type": "code",
      "metadata": {
        "id": "qeJrbDhMrcya",
        "colab_type": "code",
        "colab": {
          "base_uri": "https://localhost:8080/",
          "height": 1000
        },
        "outputId": "67bf7c54-6df7-45d2-a2cf-0ccdf3cee9cc"
      },
      "source": [
        "# number of unique questions or indicators\n",
        "cdi_df.question.unique()"
      ],
      "execution_count": 27,
      "outputs": [
        {
          "output_type": "execute_result",
          "data": {
            "text/plain": [
              "array(['Current smokeless tobacco use among youth',\n",
              "       'Fair or poor health among adults aged >= 18 years with arthritis',\n",
              "       'Papanicolaou smear use among adult women aged 21-65 years',\n",
              "       'Quit attempts in the past year among current smokers', 'Poverty',\n",
              "       'Disability among adults aged >= 65 years',\n",
              "       'Chronic liver disease mortality',\n",
              "       'Arthritis among adults aged >= 18 years', 'Asthma mortality rate',\n",
              "       'Hospitalization for hip fracture among Medicare-eligible persons aged >= 65 years',\n",
              "       'Mortality from diseases of the heart',\n",
              "       'Hospitalization for stroke',\n",
              "       'Heavy drinking among adults aged >= 18 years',\n",
              "       'Cancer of the female breast, mortality',\n",
              "       'Cancer of the colon and rectum (colorectal), mortality',\n",
              "       'Melanoma, mortality',\n",
              "       'Arthritis among adults aged >= 18 years who are obese',\n",
              "       'Pneumococcal vaccination among noninstitutionalized adults aged 18-64 years with asthma',\n",
              "       'Binge drinking frequency among adults aged >= 18 years who binge drink',\n",
              "       'Asthma prevalence among women aged 18-44 years',\n",
              "       'Influenza vaccination among noninstitutionalized adults aged 18-64 years with asthma',\n",
              "       'Binge drinking prevalence among adults aged >= 18 years',\n",
              "       'Arthritis among adults aged >= 18 years who have diabetes',\n",
              "       'Physical inactivity among adults aged >= 18 years with arthritis',\n",
              "       'Arthritis among adults aged >= 18 years who have heart disease',\n",
              "       'Influenza vaccination among noninstitutionalized adults aged >= 65 years with asthma',\n",
              "       'Heavy drinking among women aged 18-44 years',\n",
              "       'Current asthma prevalence among adults aged >= 18 years',\n",
              "       'Number of farmers markets per 100,000 residents',\n",
              "       'Pneumococcal vaccination among noninstitutionalized adults aged >= 65 years with asthma',\n",
              "       'Binge drinking intensity among adults aged >= 18 years who binge drink',\n",
              "       'Alcohol use among youth',\n",
              "       'Mammography use among women aged 50-74 years',\n",
              "       'Premature mortality among adults aged 45-64 years',\n",
              "       'Prevalence of current smoking among adults >= 18 with diagnosed chronic obstructive pulmonary disease',\n",
              "       'Pneumococcal vaccination among noninstitutionalized adults aged >= 65 years with a history of coronary heart disease',\n",
              "       'Prevalence of current smoking among adults >= 45 years with diagnosed chronic obstructive pulmonary disease',\n",
              "       'Mortality from coronary heart disease',\n",
              "       'Fecal occult blood test, sigmoidoscopy, or colonoscopy among adults aged 50-75 years',\n",
              "       'Recent Papanicolaou smear use among women aged 21-44 years',\n",
              "       'Prevalence of chronic obstructive pulmonary disease among adults >= 45 years',\n",
              "       'Prevalence of chronic obstructive pulmonary disease among adults >= 18',\n",
              "       'Pneumococcal vaccination among noninstitutionalized adults aged 18-64 years with a history of coronary heart disease',\n",
              "       'Influenza vaccination among noninstitutionalized adults aged 18-64 years with a history of coronary heart disease or stroke',\n",
              "       'Adults aged >= 18 years with arthritis who have taken a class to learn how to manage arthritis symptoms',\n",
              "       'Influenza vaccination among noninstitutionalized adults aged >= 45 years with chronic obstructive pulmonary disease',\n",
              "       'Influenza vaccination among noninstitutionalized adults aged >= 65 years with a history of coronary heart disease or stroke',\n",
              "       'No leisure-time physical activity among adults aged >= 18 years',\n",
              "       'Mortality with end-stage renal disease',\n",
              "       'Mortality from heart failure',\n",
              "       'Pneumococcal vaccination among noninstitutionalized adults aged >= 45 years with chronic obstructive pulmonary disease',\n",
              "       'Proportion of older adults aged 50-64 years who are up to date on a core set of clinical preventive services',\n",
              "       'Prevalence of diagnosed diabetes among adults aged >= 18 years',\n",
              "       'Dilated eye examination among adults aged >= 18 years with diagnosed diabetes',\n",
              "       'Foot examination among adults aged >= 18 years with diagnosed diabetes',\n",
              "       'Influenza vaccination among noninstitutionalized adults aged >= 65 years with diagnosed diabetes',\n",
              "       'Obesity among adults aged >= 18 years',\n",
              "       'Influenza vaccination among noninstitutionalized adults aged 18-64 years with diagnosed diabetes',\n",
              "       'Overweight or obesity among adults aged >= 18 years',\n",
              "       'Glycosylated hemoglobin measurement among adults aged >= 18 years with diagnosed diabetes',\n",
              "       'Pneumococcal vaccination among noninstitutionalized adults aged >= 65 years with diagnosed diabetes',\n",
              "       'Healthy weight among adults aged >= 18 years',\n",
              "       'Diabetes prevalence among women aged 18-44 years',\n",
              "       'Pneumococcal vaccination among noninstitutionalized adults aged 18-64 years with diagnosed diabetes',\n",
              "       'Adults with diagnosed diabetes aged >= 18 years who have taken a diabetes self-management course',\n",
              "       'Visits to dentist or dental clinic among adults aged >= 18 years with diagnosed diabetes',\n",
              "       'Prevalence of depressive disorders among adults aged >= 18 years with diagnosed diabetes',\n",
              "       'Mortality due to diabetes reported as any listed cause of death',\n",
              "       'Mortality from cerebrovascular disease (stroke)',\n",
              "       'Recent activity limitation among adults aged >= 18 years',\n",
              "       'All teeth lost among adults aged >= 65 years',\n",
              "       'Self-rated health status among women aged 18-44 years',\n",
              "       'No tooth loss among adults aged 18-64 years',\n",
              "       'Current lack of health insurance among adults aged 18-64 years',\n",
              "       'Recent mentally unhealthy days among adults aged >= 18 years',\n",
              "       'Recent physically unhealthy days among adults aged >= 18 years',\n",
              "       'Fair or poor self-rated health status among adults aged >= 18 years',\n",
              "       'Prevalence of sufficient sleep among adults aged >= 18 years',\n",
              "       'Visits to dentist or dental clinic among adults aged >= 18 years',\n",
              "       'Proportion of older adults aged >= 65 years who are up to date on a core set of clinical preventive services',\n",
              "       'Six or more teeth lost among adults aged >= 65 years',\n",
              "       'Influenza vaccination among noninstitutionalized adults aged >= 18 years',\n",
              "       'Prevalence of chronic kidney disease among adults aged >= 18 years',\n",
              "       'Pneumococcal vaccination among noninstitutionalized adults aged 18-64 years who smoke',\n",
              "       'Pneumococcal vaccination among noninstitutionalized adults aged >= 65 years who smoke',\n",
              "       'Binge drinking prevalence among youth',\n",
              "       'Amount of alcohol excise tax by beverage type (beer)',\n",
              "       'Current cigarette smoking among youth',\n",
              "       'Current smoking among adults aged >= 18 years',\n",
              "       'Television viewing among high school students',\n",
              "       'Computer use among high school students',\n",
              "       'Amount of alcohol excise tax by beverage type (wine)',\n",
              "       'Current smokeless tobacco use among adults aged >= 18 years',\n",
              "       'Obesity among high school students',\n",
              "       'High school completion among adults aged 18-24 years',\n",
              "       'Hospitalization for chronic obstructive pulmonary disease as any diagnosis among Medicare-eligible persons aged >= 65 years',\n",
              "       'Current cigarette smoking among women aged 18-44 years',\n",
              "       'Soda consumption among high school students',\n",
              "       'Gini Index of income inequality',\n",
              "       'Binge drinking prevalence among women aged 18-44 years',\n",
              "       'Prevalence of high cholesterol among adults aged >= 18 years with diagnosed diabetes',\n",
              "       'Prevalence of high blood pressure among adults aged >= 18 years with diagnosed diabetes',\n",
              "       'Cholesterol screening among adults aged >= 18 years',\n",
              "       'Meeting aerobic physical activity guidelines for substantial health benefits and for muscle-strengthening activity among adults aged >= 18 years',\n",
              "       'Awareness of high blood pressure among adults aged >= 18 years',\n",
              "       'Meeting aerobic physical activity guidelines for substantial health benefits among adults aged >= 18 years',\n",
              "       'At least 14 recent mentally unhealthy days among women aged 18-44 years',\n",
              "       'High cholesterol prevalence among adults aged >= 18 years',\n",
              "       'Taking medicine for high blood pressure control among adults aged >= 18 years with high blood pressure',\n",
              "       'Meeting aerobic physical activity guidelines for additional and more extensive health benefits among adults aged >= 18 years',\n",
              "       'Awareness of high blood pressure among women aged 18-44 years',\n",
              "       'Current health care coverage among women aged 18-44 years',\n",
              "       'Cigarette smoking before pregnancy',\n",
              "       'Overweight or obesity among high school students',\n",
              "       'Mortality from total cardiovascular diseases',\n",
              "       'Mortality with diabetic ketoacidosis reported as any listed cause of death',\n",
              "       'Participation in daily school physical education classes among high school students',\n",
              "       'Work limitation due to arthritis among adults aged 18-64 years who have doctor-diagnosed arthritis',\n",
              "       'Severe joint pain due to arthritis among adults aged >= 18 years who have doctor-diagnosed arthritis',\n",
              "       'Meeting aerobic physical activity guidelines among high school students',\n",
              "       'Oral health services at Federally Qualified Health Centers',\n",
              "       'Prevalence of activity limitation among adults >= 18 with diagnosed chronic obstructive pulmonary disease',\n",
              "       'Prevalence of activity limitation among adults >= 45 years with diagnosed chronic obstructive pulmonary disease',\n",
              "       'Timeliness of routine health care checkup among women aged 18-44 years',\n",
              "       'Hospitalization for acute myocardial infarction',\n",
              "       'Dental visits among children and adolescents aged 1-17 years',\n",
              "       'Hospitalization for heart failure among Medicare-eligible persons aged >= 65 years',\n",
              "       'Overweight or obesity among women aged 18-44 years',\n",
              "       'Mortality with chronic obstructive pulmonary disease as underlying cause among adults aged >= 45 years',\n",
              "       'Per capita alcohol consumption among persons aged >= 14 years',\n",
              "       'High school completion among women aged 18-44 years',\n",
              "       'Preventive dental visits among children and adolescents aged 1-17 years',\n",
              "       'Postpartum checkup', 'Folic acid supplementation',\n",
              "       'Sale of cigarette packs', 'Poverty among women aged 18-44 years',\n",
              "       'Hospitalizations for asthma', 'Alcohol use before pregnancy',\n",
              "       'Incidence of treated end-stage renal disease',\n",
              "       'Secondary schools that allow students to purchase sports drinks',\n",
              "       'Emergency department visit rate for asthma',\n",
              "       'Hospitalization with diabetes as a listed diagnosis',\n",
              "       'Amputation of a lower extremity attributable to diabetes',\n",
              "       'Amount of tobacco product excise tax',\n",
              "       'Secondary schools that have a comprehensive tobacco-free school policy in place',\n",
              "       'Percent tobacco revenue to fund at CDC recommended level',\n",
              "       'States with strong polices that require retail licenses to sell tobacco products',\n",
              "       'States that allow stronger local tobacco control and prevention laws',\n",
              "       'Live births occurring at Baby Friendly Facilities',\n",
              "       'Amount of alcohol excise tax by beverage type (distilled spirits)',\n",
              "       'Cancer of the oral cavity and pharynx, mortality',\n",
              "       'Cancer of the prostate, mortality',\n",
              "       'Invasive cancer of the prostate, incidence',\n",
              "       'Invasive cancer (all sites combined), mortality',\n",
              "       'Cancer of the female cervix, mortality',\n",
              "       'Cancer of the lung and bronchus, mortality',\n",
              "       'Cancer of the lung and bronchus, incidence',\n",
              "       'Invasive melanoma, incidence',\n",
              "       'Invasive cancer (all sites combined), incidence',\n",
              "       'Pre-pregnancy hypertension',\n",
              "       'Invasive cancer of the oral cavity or pharynx, incidence',\n",
              "       'Invasive cancer of the cervix, incidence',\n",
              "       'Invasive cancer of the female breast, incidence',\n",
              "       'Life expectancy at birth', 'Life expectancy at age 65 years',\n",
              "       'Prevalence of pre-pregnancy diabetes',\n",
              "       'Postpartum depressive symptoms',\n",
              "       'Preventive dental care before pregnancy',\n",
              "       'Health insurance coverage before pregnancy',\n",
              "       'Cancer of the colon and rectum (colorectal), incidence',\n",
              "       'Incidence of treated end-stage renal disease attributed to diabetes',\n",
              "       'Farmers markets that accept Women and Infant Children (WIC) farmers market nutrition program coupons',\n",
              "       'Median daily frequency of vegetable consumption among high school students',\n",
              "       'Mortality with chronic obstructive pulmonary disease as underlying or contributing cause among adults aged >= 45 years',\n",
              "       'Prevalence of 2 or more chronic conditions among Medicare-enrolled persons aged >= 65 years',\n",
              "       'Farmers markets that accept Supplemental Nutrition Assistance Program (SNAP) benefits',\n",
              "       'Hospitalization for chronic obstructive pulmonary disease as first-listed diagnosis among Medicare-eligible persons aged >= 65 years',\n",
              "       'Emergency department visit rate for chronic obstructive pulmonary disease as first-listed diagnosis',\n",
              "       'Hospitalization for chronic obstructive pulmonary disease as first-listed diagnosis',\n",
              "       'Healthy weight among high school students'], dtype=object)"
            ]
          },
          "metadata": {
            "tags": []
          },
          "execution_count": 27
        }
      ]
    },
    {
      "cell_type": "code",
      "metadata": {
        "id": "X0x7KnnIFdZX",
        "colab_type": "code",
        "colab": {
          "base_uri": "https://localhost:8080/",
          "height": 340
        },
        "outputId": "68ebebde-f979-47b8-e49c-02d1cfd267b2"
      },
      "source": [
        "# count of each topic\n",
        "cdi_df.groupby(['topic'])['datavalue'].count()"
      ],
      "execution_count": 28,
      "outputs": [
        {
          "output_type": "execute_result",
          "data": {
            "text/plain": [
              "topic\n",
              "Alcohol                                            1036\n",
              "Arthritis                                          1036\n",
              "Asthma                                              894\n",
              "Cancer                                              562\n",
              "Cardiovascular Disease                              805\n",
              "Chronic Kidney Disease                              216\n",
              "Chronic Obstructive Pulmonary Disease               145\n",
              "Diabetes                                            742\n",
              "Disability                                           50\n",
              "Immunization                                         96\n",
              "Mental Health                                       185\n",
              "Nutrition, Physical Activity, and Weight Status     508\n",
              "Older Adults                                        199\n",
              "Oral Health                                         507\n",
              "Overarching Conditions                              962\n",
              "Reproductive Health                                  64\n",
              "Tobacco                                             431\n",
              "Name: datavalue, dtype: int64"
            ]
          },
          "metadata": {
            "tags": []
          },
          "execution_count": 28
        }
      ]
    },
    {
      "cell_type": "markdown",
      "metadata": {
        "id": "IgeLcndmcPnS",
        "colab_type": "text"
      },
      "source": [
        "#Research Questions"
      ]
    },
    {
      "cell_type": "markdown",
      "metadata": {
        "id": "TDHKGKx-H7rT",
        "colab_type": "text"
      },
      "source": [
        "Q1) Provide basic insights into the Overarching Conditions dataset."
      ]
    },
    {
      "cell_type": "markdown",
      "metadata": {
        "id": "BVN7Rq0IIFgU",
        "colab_type": "text"
      },
      "source": [
        "Q2) Identify 3-4 questions/indicators for further analysis such as descriptive statistics."
      ]
    },
    {
      "cell_type": "markdown",
      "metadata": {
        "id": "_-JpzViLnUF9",
        "colab_type": "text"
      },
      "source": [
        "Q3) For each of the indicators chosen, subset the data by state."
      ]
    },
    {
      "cell_type": "markdown",
      "metadata": {
        "id": "NcoPexDenZ8v",
        "colab_type": "text"
      },
      "source": [
        "Q4) For each of the chosen indicators, trend the data over time."
      ]
    },
    {
      "cell_type": "markdown",
      "metadata": {
        "id": "sByf0ZgankU1",
        "colab_type": "text"
      },
      "source": [
        "Q5) Choose one indicator to explore using visualization packages such as seaborn and plotly."
      ]
    },
    {
      "cell_type": "markdown",
      "metadata": {
        "id": "1Ruemnf3tgP5",
        "colab_type": "text"
      },
      "source": [
        "#Data Wrangling"
      ]
    },
    {
      "cell_type": "code",
      "metadata": {
        "id": "leHqkjcS5FLR",
        "colab_type": "code",
        "colab": {
          "base_uri": "https://localhost:8080/",
          "height": 71
        },
        "outputId": "c9c751fc-905f-451e-a3a7-966a404dcf1f"
      },
      "source": [
        "# load packages\n",
        "import pandas as pd\n",
        "import numpy as np\n",
        "import matplotlib.pyplot as plt\n",
        "%matplotlib inline\n",
        "import seaborn as sns"
      ],
      "execution_count": 29,
      "outputs": [
        {
          "output_type": "stream",
          "text": [
            "/usr/local/lib/python3.6/dist-packages/statsmodels/tools/_testing.py:19: FutureWarning: pandas.util.testing is deprecated. Use the functions in the public API at pandas.testing instead.\n",
            "  import pandas.util.testing as tm\n"
          ],
          "name": "stderr"
        }
      ]
    },
    {
      "cell_type": "markdown",
      "metadata": {
        "id": "Y89_S570JN1t",
        "colab_type": "text"
      },
      "source": [
        "**1) Basic Insights:**\n",
        "---\n",
        "\n"
      ]
    },
    {
      "cell_type": "code",
      "metadata": {
        "id": "EU_bJ0LGt-92",
        "colab_type": "code",
        "colab": {}
      },
      "source": [
        "oc_df = cdi_df[cdi_df['topic']=='Overarching Conditions']"
      ],
      "execution_count": 75,
      "outputs": []
    },
    {
      "cell_type": "code",
      "metadata": {
        "id": "QDOAmImSxUZ_",
        "colab_type": "code",
        "colab": {
          "base_uri": "https://localhost:8080/",
          "height": 1000
        },
        "outputId": "f9e7beca-670d-49e7-fda9-8cf3e24a9df4"
      },
      "source": [
        "oc_df"
      ],
      "execution_count": 76,
      "outputs": [
        {
          "output_type": "execute_result",
          "data": {
            "text/html": [
              "<div>\n",
              "<style scoped>\n",
              "    .dataframe tbody tr th:only-of-type {\n",
              "        vertical-align: middle;\n",
              "    }\n",
              "\n",
              "    .dataframe tbody tr th {\n",
              "        vertical-align: top;\n",
              "    }\n",
              "\n",
              "    .dataframe thead th {\n",
              "        text-align: right;\n",
              "    }\n",
              "</style>\n",
              "<table border=\"1\" class=\"dataframe\">\n",
              "  <thead>\n",
              "    <tr style=\"text-align: right;\">\n",
              "      <th></th>\n",
              "      <th>yearstart</th>\n",
              "      <th>yearend</th>\n",
              "      <th>locationabbr</th>\n",
              "      <th>locationdesc</th>\n",
              "      <th>datasource</th>\n",
              "      <th>topic</th>\n",
              "      <th>question</th>\n",
              "      <th>datavalueunit</th>\n",
              "      <th>datavaluetype</th>\n",
              "      <th>datavalue</th>\n",
              "      <th>datavaluealt</th>\n",
              "      <th>lowconfidencelimit</th>\n",
              "      <th>highconfidencelimit</th>\n",
              "      <th>stratificationcategory1</th>\n",
              "      <th>stratification1</th>\n",
              "      <th>geolocation</th>\n",
              "      <th>locationid</th>\n",
              "      <th>topicid</th>\n",
              "      <th>questionid</th>\n",
              "      <th>datavaluetypeid</th>\n",
              "      <th>stratificationcategoryid1</th>\n",
              "      <th>stratificationid1</th>\n",
              "      <th>:@computed_region_bxsw_vy29</th>\n",
              "      <th>:@computed_region_he4y_prf8</th>\n",
              "      <th>datavaluefootnotesymbol</th>\n",
              "      <th>datavaluefootnote</th>\n",
              "    </tr>\n",
              "  </thead>\n",
              "  <tbody>\n",
              "    <tr>\n",
              "      <th>4</th>\n",
              "      <td>2015</td>\n",
              "      <td>2015</td>\n",
              "      <td>ND</td>\n",
              "      <td>North Dakota</td>\n",
              "      <td>ACS 1-Year Estimates</td>\n",
              "      <td>Overarching Conditions</td>\n",
              "      <td>Poverty</td>\n",
              "      <td>%</td>\n",
              "      <td>Crude Prevalence</td>\n",
              "      <td>8.9</td>\n",
              "      <td>8.9</td>\n",
              "      <td>8.2</td>\n",
              "      <td>9.6</td>\n",
              "      <td>Race/Ethnicity</td>\n",
              "      <td>White, non-Hispanic</td>\n",
              "      <td>{'latitude': '47.47531977900047', 'longitude':...</td>\n",
              "      <td>38</td>\n",
              "      <td>OVC</td>\n",
              "      <td>OVC3_1</td>\n",
              "      <td>CRDPREV</td>\n",
              "      <td>RACE</td>\n",
              "      <td>WHT</td>\n",
              "      <td>3</td>\n",
              "      <td>568</td>\n",
              "      <td>NaN</td>\n",
              "      <td>NaN</td>\n",
              "    </tr>\n",
              "    <tr>\n",
              "      <th>122</th>\n",
              "      <td>2016</td>\n",
              "      <td>2016</td>\n",
              "      <td>OK</td>\n",
              "      <td>Oklahoma</td>\n",
              "      <td>NVSS</td>\n",
              "      <td>Overarching Conditions</td>\n",
              "      <td>Premature mortality among adults aged 45-64 years</td>\n",
              "      <td>Number</td>\n",
              "      <td>Number</td>\n",
              "      <td>69</td>\n",
              "      <td>69</td>\n",
              "      <td>NaN</td>\n",
              "      <td>NaN</td>\n",
              "      <td>Race/Ethnicity</td>\n",
              "      <td>Asian or Pacific Islander</td>\n",
              "      <td>{'latitude': '35.47203135600046', 'longitude':...</td>\n",
              "      <td>40</td>\n",
              "      <td>OVC</td>\n",
              "      <td>OVC5_0</td>\n",
              "      <td>NMBR</td>\n",
              "      <td>RACE</td>\n",
              "      <td>API</td>\n",
              "      <td>20</td>\n",
              "      <td>712</td>\n",
              "      <td>NaN</td>\n",
              "      <td>NaN</td>\n",
              "    </tr>\n",
              "    <tr>\n",
              "      <th>370</th>\n",
              "      <td>2018</td>\n",
              "      <td>2018</td>\n",
              "      <td>VI</td>\n",
              "      <td>Virgin Islands</td>\n",
              "      <td>BRFSS</td>\n",
              "      <td>Overarching Conditions</td>\n",
              "      <td>Recent activity limitation among adults aged &gt;...</td>\n",
              "      <td>Number</td>\n",
              "      <td>Mean</td>\n",
              "      <td>NaN</td>\n",
              "      <td>NaN</td>\n",
              "      <td>NaN</td>\n",
              "      <td>NaN</td>\n",
              "      <td>Gender</td>\n",
              "      <td>Female</td>\n",
              "      <td>{'latitude': '18.335765', 'longitude': '-64.89...</td>\n",
              "      <td>78</td>\n",
              "      <td>OVC</td>\n",
              "      <td>OVC7_2</td>\n",
              "      <td>MEAN</td>\n",
              "      <td>GENDER</td>\n",
              "      <td>GENF</td>\n",
              "      <td>NaN</td>\n",
              "      <td>NaN</td>\n",
              "      <td>-</td>\n",
              "      <td>No data available</td>\n",
              "    </tr>\n",
              "    <tr>\n",
              "      <th>372</th>\n",
              "      <td>2018</td>\n",
              "      <td>2018</td>\n",
              "      <td>NV</td>\n",
              "      <td>Nevada</td>\n",
              "      <td>BRFSS</td>\n",
              "      <td>Overarching Conditions</td>\n",
              "      <td>Self-rated health status among women aged 18-4...</td>\n",
              "      <td>%</td>\n",
              "      <td>Crude Prevalence</td>\n",
              "      <td>83.1</td>\n",
              "      <td>83.1</td>\n",
              "      <td>78.5</td>\n",
              "      <td>86.8</td>\n",
              "      <td>Overall</td>\n",
              "      <td>Overall</td>\n",
              "      <td>{'latitude': '39.493240390000494', 'longitude'...</td>\n",
              "      <td>32</td>\n",
              "      <td>OVC</td>\n",
              "      <td>OVC6_2</td>\n",
              "      <td>CRDPREV</td>\n",
              "      <td>OVERALL</td>\n",
              "      <td>OVR</td>\n",
              "      <td>10</td>\n",
              "      <td>481</td>\n",
              "      <td>NaN</td>\n",
              "      <td>NaN</td>\n",
              "    </tr>\n",
              "    <tr>\n",
              "      <th>374</th>\n",
              "      <td>2018</td>\n",
              "      <td>2018</td>\n",
              "      <td>PA</td>\n",
              "      <td>Pennsylvania</td>\n",
              "      <td>BRFSS</td>\n",
              "      <td>Overarching Conditions</td>\n",
              "      <td>Current lack of health insurance among adults ...</td>\n",
              "      <td>%</td>\n",
              "      <td>Crude Prevalence</td>\n",
              "      <td>11.6</td>\n",
              "      <td>11.6</td>\n",
              "      <td>9.7</td>\n",
              "      <td>13.8</td>\n",
              "      <td>Gender</td>\n",
              "      <td>Male</td>\n",
              "      <td>{'latitude': '40.79373015200048', 'longitude':...</td>\n",
              "      <td>42</td>\n",
              "      <td>OVC</td>\n",
              "      <td>OVC1_1</td>\n",
              "      <td>CRDPREV</td>\n",
              "      <td>GENDER</td>\n",
              "      <td>GENM</td>\n",
              "      <td>48</td>\n",
              "      <td>2495</td>\n",
              "      <td>NaN</td>\n",
              "      <td>NaN</td>\n",
              "    </tr>\n",
              "    <tr>\n",
              "      <th>...</th>\n",
              "      <td>...</td>\n",
              "      <td>...</td>\n",
              "      <td>...</td>\n",
              "      <td>...</td>\n",
              "      <td>...</td>\n",
              "      <td>...</td>\n",
              "      <td>...</td>\n",
              "      <td>...</td>\n",
              "      <td>...</td>\n",
              "      <td>...</td>\n",
              "      <td>...</td>\n",
              "      <td>...</td>\n",
              "      <td>...</td>\n",
              "      <td>...</td>\n",
              "      <td>...</td>\n",
              "      <td>...</td>\n",
              "      <td>...</td>\n",
              "      <td>...</td>\n",
              "      <td>...</td>\n",
              "      <td>...</td>\n",
              "      <td>...</td>\n",
              "      <td>...</td>\n",
              "      <td>...</td>\n",
              "      <td>...</td>\n",
              "      <td>...</td>\n",
              "      <td>...</td>\n",
              "    </tr>\n",
              "    <tr>\n",
              "      <th>9554</th>\n",
              "      <td>2015</td>\n",
              "      <td>2015</td>\n",
              "      <td>OK</td>\n",
              "      <td>Oklahoma</td>\n",
              "      <td>BRFSS</td>\n",
              "      <td>Overarching Conditions</td>\n",
              "      <td>Recent physically unhealthy days among adults ...</td>\n",
              "      <td>Number</td>\n",
              "      <td>Mean</td>\n",
              "      <td>4.6</td>\n",
              "      <td>4.6</td>\n",
              "      <td>4.3</td>\n",
              "      <td>4.9</td>\n",
              "      <td>Overall</td>\n",
              "      <td>Overall</td>\n",
              "      <td>{'latitude': '35.47203135600046', 'longitude':...</td>\n",
              "      <td>40</td>\n",
              "      <td>OVC</td>\n",
              "      <td>OVC7_1</td>\n",
              "      <td>MEAN</td>\n",
              "      <td>OVERALL</td>\n",
              "      <td>OVR</td>\n",
              "      <td>20</td>\n",
              "      <td>712</td>\n",
              "      <td>NaN</td>\n",
              "      <td>NaN</td>\n",
              "    </tr>\n",
              "    <tr>\n",
              "      <th>9674</th>\n",
              "      <td>2015</td>\n",
              "      <td>2015</td>\n",
              "      <td>LA</td>\n",
              "      <td>Louisiana</td>\n",
              "      <td>NVSS</td>\n",
              "      <td>Overarching Conditions</td>\n",
              "      <td>Premature mortality among adults aged 45-64 years</td>\n",
              "      <td>Number</td>\n",
              "      <td>Number</td>\n",
              "      <td>4126</td>\n",
              "      <td>4126</td>\n",
              "      <td>NaN</td>\n",
              "      <td>NaN</td>\n",
              "      <td>Race/Ethnicity</td>\n",
              "      <td>Black, non-Hispanic</td>\n",
              "      <td>{'latitude': '31.31266064400046', 'longitude':...</td>\n",
              "      <td>22</td>\n",
              "      <td>OVC</td>\n",
              "      <td>OVC5_0</td>\n",
              "      <td>NMBR</td>\n",
              "      <td>RACE</td>\n",
              "      <td>BLK</td>\n",
              "      <td>22</td>\n",
              "      <td>1697</td>\n",
              "      <td>NaN</td>\n",
              "      <td>NaN</td>\n",
              "    </tr>\n",
              "    <tr>\n",
              "      <th>9825</th>\n",
              "      <td>2014</td>\n",
              "      <td>2014</td>\n",
              "      <td>MA</td>\n",
              "      <td>Massachusetts</td>\n",
              "      <td>ACS 1-Year Estimates</td>\n",
              "      <td>Overarching Conditions</td>\n",
              "      <td>Poverty</td>\n",
              "      <td>%</td>\n",
              "      <td>Crude Prevalence</td>\n",
              "      <td>30.6</td>\n",
              "      <td>30.6</td>\n",
              "      <td>29</td>\n",
              "      <td>32.2</td>\n",
              "      <td>Race/Ethnicity</td>\n",
              "      <td>Hispanic</td>\n",
              "      <td>{'latitude': '42.27687047000046', 'longitude':...</td>\n",
              "      <td>25</td>\n",
              "      <td>OVC</td>\n",
              "      <td>OVC3_1</td>\n",
              "      <td>CRDPREV</td>\n",
              "      <td>RACE</td>\n",
              "      <td>HIS</td>\n",
              "      <td>25</td>\n",
              "      <td>1919</td>\n",
              "      <td>NaN</td>\n",
              "      <td>NaN</td>\n",
              "    </tr>\n",
              "    <tr>\n",
              "      <th>9884</th>\n",
              "      <td>2015</td>\n",
              "      <td>2015</td>\n",
              "      <td>ID</td>\n",
              "      <td>Idaho</td>\n",
              "      <td>Current Population Survey</td>\n",
              "      <td>Overarching Conditions</td>\n",
              "      <td>Poverty among women aged 18-44 years</td>\n",
              "      <td>%</td>\n",
              "      <td>Crude Prevalence</td>\n",
              "      <td>35.5</td>\n",
              "      <td>35.5</td>\n",
              "      <td>NaN</td>\n",
              "      <td>NaN</td>\n",
              "      <td>Overall</td>\n",
              "      <td>Overall</td>\n",
              "      <td>{'latitude': '43.682630005000476', 'longitude'...</td>\n",
              "      <td>16</td>\n",
              "      <td>OVC</td>\n",
              "      <td>OVC3_2</td>\n",
              "      <td>CRDPREV</td>\n",
              "      <td>OVERALL</td>\n",
              "      <td>OVR</td>\n",
              "      <td>5</td>\n",
              "      <td>1687</td>\n",
              "      <td>NaN</td>\n",
              "      <td>NaN</td>\n",
              "    </tr>\n",
              "    <tr>\n",
              "      <th>9917</th>\n",
              "      <td>2015</td>\n",
              "      <td>2015</td>\n",
              "      <td>IA</td>\n",
              "      <td>Iowa</td>\n",
              "      <td>NVSS</td>\n",
              "      <td>Overarching Conditions</td>\n",
              "      <td>Premature mortality among adults aged 45-64 years</td>\n",
              "      <td>cases per 100,000</td>\n",
              "      <td>Crude Rate</td>\n",
              "      <td>724.9</td>\n",
              "      <td>724.9</td>\n",
              "      <td>698.7</td>\n",
              "      <td>751.1</td>\n",
              "      <td>Gender</td>\n",
              "      <td>Male</td>\n",
              "      <td>{'latitude': '42.46940091300047', 'longitude':...</td>\n",
              "      <td>19</td>\n",
              "      <td>OVC</td>\n",
              "      <td>OVC5_0</td>\n",
              "      <td>CRDRATE</td>\n",
              "      <td>GENDER</td>\n",
              "      <td>GENM</td>\n",
              "      <td>16</td>\n",
              "      <td>281</td>\n",
              "      <td>NaN</td>\n",
              "      <td>NaN</td>\n",
              "    </tr>\n",
              "  </tbody>\n",
              "</table>\n",
              "<p>1005 rows × 26 columns</p>\n",
              "</div>"
            ],
            "text/plain": [
              "     yearstart yearend  ... datavaluefootnotesymbol  datavaluefootnote\n",
              "4         2015    2015  ...                     NaN                NaN\n",
              "122       2016    2016  ...                     NaN                NaN\n",
              "370       2018    2018  ...                       -  No data available\n",
              "372       2018    2018  ...                     NaN                NaN\n",
              "374       2018    2018  ...                     NaN                NaN\n",
              "...        ...     ...  ...                     ...                ...\n",
              "9554      2015    2015  ...                     NaN                NaN\n",
              "9674      2015    2015  ...                     NaN                NaN\n",
              "9825      2014    2014  ...                     NaN                NaN\n",
              "9884      2015    2015  ...                     NaN                NaN\n",
              "9917      2015    2015  ...                     NaN                NaN\n",
              "\n",
              "[1005 rows x 26 columns]"
            ]
          },
          "metadata": {
            "tags": []
          },
          "execution_count": 76
        }
      ]
    },
    {
      "cell_type": "code",
      "metadata": {
        "id": "OFgmxabXxWtb",
        "colab_type": "code",
        "colab": {
          "base_uri": "https://localhost:8080/",
          "height": 255
        },
        "outputId": "03d8d221-7038-4fa5-bc57-2b9bb71c7c66"
      },
      "source": [
        "oc_df.question.unique()"
      ],
      "execution_count": 77,
      "outputs": [
        {
          "output_type": "execute_result",
          "data": {
            "text/plain": [
              "array(['Poverty', 'Premature mortality among adults aged 45-64 years',\n",
              "       'Recent activity limitation among adults aged >= 18 years',\n",
              "       'Self-rated health status among women aged 18-44 years',\n",
              "       'Current lack of health insurance among adults aged 18-64 years',\n",
              "       'Recent physically unhealthy days among adults aged >= 18 years',\n",
              "       'Fair or poor self-rated health status among adults aged >= 18 years',\n",
              "       'Prevalence of sufficient sleep among adults aged >= 18 years',\n",
              "       'High school completion among adults aged 18-24 years',\n",
              "       'Gini Index of income inequality',\n",
              "       'Current health care coverage among women aged 18-44 years',\n",
              "       'High school completion among women aged 18-44 years',\n",
              "       'Poverty among women aged 18-44 years', 'Life expectancy at birth',\n",
              "       'Life expectancy at age 65 years',\n",
              "       'Health insurance coverage before pregnancy'], dtype=object)"
            ]
          },
          "metadata": {
            "tags": []
          },
          "execution_count": 77
        }
      ]
    },
    {
      "cell_type": "code",
      "metadata": {
        "id": "LV0Njbvi2PzK",
        "colab_type": "code",
        "colab": {
          "base_uri": "https://localhost:8080/",
          "height": 323
        },
        "outputId": "131f3605-3e16-46d1-e77b-44b6087c47ab"
      },
      "source": [
        "oc_df.groupby(['question'])['datavalue'].count()"
      ],
      "execution_count": 78,
      "outputs": [
        {
          "output_type": "execute_result",
          "data": {
            "text/plain": [
              "question\n",
              "Current health care coverage among women aged 18-44 years               40\n",
              "Current lack of health insurance among adults aged 18-64 years         116\n",
              "Fair or poor self-rated health status among adults aged >= 18 years    114\n",
              "Gini Index of income inequality                                          8\n",
              "Health insurance coverage before pregnancy                               1\n",
              "High school completion among adults aged 18-24 years                    17\n",
              "High school completion among women aged 18-44 years                      6\n",
              "Life expectancy at age 65 years                                         12\n",
              "Life expectancy at birth                                                 8\n",
              "Poverty                                                                 96\n",
              "Poverty among women aged 18-44 years                                     8\n",
              "Premature mortality among adults aged 45-64 years                      111\n",
              "Prevalence of sufficient sleep among adults aged >= 18 years           133\n",
              "Recent activity limitation among adults aged >= 18 years               120\n",
              "Recent physically unhealthy days among adults aged >= 18 years         140\n",
              "Self-rated health status among women aged 18-44 years                   32\n",
              "Name: datavalue, dtype: int64"
            ]
          },
          "metadata": {
            "tags": []
          },
          "execution_count": 78
        }
      ]
    },
    {
      "cell_type": "code",
      "metadata": {
        "id": "zxx_7UlAJeKF",
        "colab_type": "code",
        "colab": {
          "base_uri": "https://localhost:8080/",
          "height": 34
        },
        "outputId": "be042fd2-a5de-4bf3-d787-73d88f1530a3"
      },
      "source": [
        "oc_df.shape"
      ],
      "execution_count": 34,
      "outputs": [
        {
          "output_type": "execute_result",
          "data": {
            "text/plain": [
              "(1005, 26)"
            ]
          },
          "metadata": {
            "tags": []
          },
          "execution_count": 34
        }
      ]
    },
    {
      "cell_type": "code",
      "metadata": {
        "id": "t2WZXDydylm3",
        "colab_type": "code",
        "colab": {
          "base_uri": "https://localhost:8080/",
          "height": 170
        },
        "outputId": "2744611d-49c4-4340-c368-76abd0e45f00"
      },
      "source": [
        "oc_df.columns"
      ],
      "execution_count": 35,
      "outputs": [
        {
          "output_type": "execute_result",
          "data": {
            "text/plain": [
              "Index(['yearstart', 'yearend', 'locationabbr', 'locationdesc', 'datasource',\n",
              "       'topic', 'question', 'datavalueunit', 'datavaluetype', 'datavalue',\n",
              "       'datavaluealt', 'lowconfidencelimit', 'highconfidencelimit',\n",
              "       'stratificationcategory1', 'stratification1', 'geolocation',\n",
              "       'locationid', 'topicid', 'questionid', 'datavaluetypeid',\n",
              "       'stratificationcategoryid1', 'stratificationid1',\n",
              "       ':@computed_region_bxsw_vy29', ':@computed_region_he4y_prf8',\n",
              "       'datavaluefootnotesymbol', 'datavaluefootnote'],\n",
              "      dtype='object')"
            ]
          },
          "metadata": {
            "tags": []
          },
          "execution_count": 35
        }
      ]
    },
    {
      "cell_type": "code",
      "metadata": {
        "id": "_Rg68_7kJjCA",
        "colab_type": "code",
        "colab": {
          "base_uri": "https://localhost:8080/",
          "height": 615
        },
        "outputId": "477c38a3-5e9a-46d4-e2e1-0cb27f5a3244"
      },
      "source": [
        "oc_df.head()"
      ],
      "execution_count": 36,
      "outputs": [
        {
          "output_type": "execute_result",
          "data": {
            "text/html": [
              "<div>\n",
              "<style scoped>\n",
              "    .dataframe tbody tr th:only-of-type {\n",
              "        vertical-align: middle;\n",
              "    }\n",
              "\n",
              "    .dataframe tbody tr th {\n",
              "        vertical-align: top;\n",
              "    }\n",
              "\n",
              "    .dataframe thead th {\n",
              "        text-align: right;\n",
              "    }\n",
              "</style>\n",
              "<table border=\"1\" class=\"dataframe\">\n",
              "  <thead>\n",
              "    <tr style=\"text-align: right;\">\n",
              "      <th></th>\n",
              "      <th>yearstart</th>\n",
              "      <th>yearend</th>\n",
              "      <th>locationabbr</th>\n",
              "      <th>locationdesc</th>\n",
              "      <th>datasource</th>\n",
              "      <th>topic</th>\n",
              "      <th>question</th>\n",
              "      <th>datavalueunit</th>\n",
              "      <th>datavaluetype</th>\n",
              "      <th>datavalue</th>\n",
              "      <th>datavaluealt</th>\n",
              "      <th>lowconfidencelimit</th>\n",
              "      <th>highconfidencelimit</th>\n",
              "      <th>stratificationcategory1</th>\n",
              "      <th>stratification1</th>\n",
              "      <th>geolocation</th>\n",
              "      <th>locationid</th>\n",
              "      <th>topicid</th>\n",
              "      <th>questionid</th>\n",
              "      <th>datavaluetypeid</th>\n",
              "      <th>stratificationcategoryid1</th>\n",
              "      <th>stratificationid1</th>\n",
              "      <th>:@computed_region_bxsw_vy29</th>\n",
              "      <th>:@computed_region_he4y_prf8</th>\n",
              "      <th>datavaluefootnotesymbol</th>\n",
              "      <th>datavaluefootnote</th>\n",
              "    </tr>\n",
              "  </thead>\n",
              "  <tbody>\n",
              "    <tr>\n",
              "      <th>4</th>\n",
              "      <td>2015</td>\n",
              "      <td>2015</td>\n",
              "      <td>ND</td>\n",
              "      <td>North Dakota</td>\n",
              "      <td>ACS 1-Year Estimates</td>\n",
              "      <td>Overarching Conditions</td>\n",
              "      <td>Poverty</td>\n",
              "      <td>%</td>\n",
              "      <td>Crude Prevalence</td>\n",
              "      <td>8.9</td>\n",
              "      <td>8.9</td>\n",
              "      <td>8.2</td>\n",
              "      <td>9.6</td>\n",
              "      <td>Race/Ethnicity</td>\n",
              "      <td>White, non-Hispanic</td>\n",
              "      <td>{'latitude': '47.47531977900047', 'longitude':...</td>\n",
              "      <td>38</td>\n",
              "      <td>OVC</td>\n",
              "      <td>OVC3_1</td>\n",
              "      <td>CRDPREV</td>\n",
              "      <td>RACE</td>\n",
              "      <td>WHT</td>\n",
              "      <td>3</td>\n",
              "      <td>568</td>\n",
              "      <td>NaN</td>\n",
              "      <td>NaN</td>\n",
              "    </tr>\n",
              "    <tr>\n",
              "      <th>122</th>\n",
              "      <td>2016</td>\n",
              "      <td>2016</td>\n",
              "      <td>OK</td>\n",
              "      <td>Oklahoma</td>\n",
              "      <td>NVSS</td>\n",
              "      <td>Overarching Conditions</td>\n",
              "      <td>Premature mortality among adults aged 45-64 years</td>\n",
              "      <td>Number</td>\n",
              "      <td>Number</td>\n",
              "      <td>69</td>\n",
              "      <td>69</td>\n",
              "      <td>NaN</td>\n",
              "      <td>NaN</td>\n",
              "      <td>Race/Ethnicity</td>\n",
              "      <td>Asian or Pacific Islander</td>\n",
              "      <td>{'latitude': '35.47203135600046', 'longitude':...</td>\n",
              "      <td>40</td>\n",
              "      <td>OVC</td>\n",
              "      <td>OVC5_0</td>\n",
              "      <td>NMBR</td>\n",
              "      <td>RACE</td>\n",
              "      <td>API</td>\n",
              "      <td>20</td>\n",
              "      <td>712</td>\n",
              "      <td>NaN</td>\n",
              "      <td>NaN</td>\n",
              "    </tr>\n",
              "    <tr>\n",
              "      <th>370</th>\n",
              "      <td>2018</td>\n",
              "      <td>2018</td>\n",
              "      <td>VI</td>\n",
              "      <td>Virgin Islands</td>\n",
              "      <td>BRFSS</td>\n",
              "      <td>Overarching Conditions</td>\n",
              "      <td>Recent activity limitation among adults aged &gt;...</td>\n",
              "      <td>Number</td>\n",
              "      <td>Mean</td>\n",
              "      <td>NaN</td>\n",
              "      <td>NaN</td>\n",
              "      <td>NaN</td>\n",
              "      <td>NaN</td>\n",
              "      <td>Gender</td>\n",
              "      <td>Female</td>\n",
              "      <td>{'latitude': '18.335765', 'longitude': '-64.89...</td>\n",
              "      <td>78</td>\n",
              "      <td>OVC</td>\n",
              "      <td>OVC7_2</td>\n",
              "      <td>MEAN</td>\n",
              "      <td>GENDER</td>\n",
              "      <td>GENF</td>\n",
              "      <td>NaN</td>\n",
              "      <td>NaN</td>\n",
              "      <td>-</td>\n",
              "      <td>No data available</td>\n",
              "    </tr>\n",
              "    <tr>\n",
              "      <th>372</th>\n",
              "      <td>2018</td>\n",
              "      <td>2018</td>\n",
              "      <td>NV</td>\n",
              "      <td>Nevada</td>\n",
              "      <td>BRFSS</td>\n",
              "      <td>Overarching Conditions</td>\n",
              "      <td>Self-rated health status among women aged 18-4...</td>\n",
              "      <td>%</td>\n",
              "      <td>Crude Prevalence</td>\n",
              "      <td>83.1</td>\n",
              "      <td>83.1</td>\n",
              "      <td>78.5</td>\n",
              "      <td>86.8</td>\n",
              "      <td>Overall</td>\n",
              "      <td>Overall</td>\n",
              "      <td>{'latitude': '39.493240390000494', 'longitude'...</td>\n",
              "      <td>32</td>\n",
              "      <td>OVC</td>\n",
              "      <td>OVC6_2</td>\n",
              "      <td>CRDPREV</td>\n",
              "      <td>OVERALL</td>\n",
              "      <td>OVR</td>\n",
              "      <td>10</td>\n",
              "      <td>481</td>\n",
              "      <td>NaN</td>\n",
              "      <td>NaN</td>\n",
              "    </tr>\n",
              "    <tr>\n",
              "      <th>374</th>\n",
              "      <td>2018</td>\n",
              "      <td>2018</td>\n",
              "      <td>PA</td>\n",
              "      <td>Pennsylvania</td>\n",
              "      <td>BRFSS</td>\n",
              "      <td>Overarching Conditions</td>\n",
              "      <td>Current lack of health insurance among adults ...</td>\n",
              "      <td>%</td>\n",
              "      <td>Crude Prevalence</td>\n",
              "      <td>11.6</td>\n",
              "      <td>11.6</td>\n",
              "      <td>9.7</td>\n",
              "      <td>13.8</td>\n",
              "      <td>Gender</td>\n",
              "      <td>Male</td>\n",
              "      <td>{'latitude': '40.79373015200048', 'longitude':...</td>\n",
              "      <td>42</td>\n",
              "      <td>OVC</td>\n",
              "      <td>OVC1_1</td>\n",
              "      <td>CRDPREV</td>\n",
              "      <td>GENDER</td>\n",
              "      <td>GENM</td>\n",
              "      <td>48</td>\n",
              "      <td>2495</td>\n",
              "      <td>NaN</td>\n",
              "      <td>NaN</td>\n",
              "    </tr>\n",
              "  </tbody>\n",
              "</table>\n",
              "</div>"
            ],
            "text/plain": [
              "    yearstart yearend  ... datavaluefootnotesymbol  datavaluefootnote\n",
              "4        2015    2015  ...                     NaN                NaN\n",
              "122      2016    2016  ...                     NaN                NaN\n",
              "370      2018    2018  ...                       -  No data available\n",
              "372      2018    2018  ...                     NaN                NaN\n",
              "374      2018    2018  ...                     NaN                NaN\n",
              "\n",
              "[5 rows x 26 columns]"
            ]
          },
          "metadata": {
            "tags": []
          },
          "execution_count": 36
        }
      ]
    },
    {
      "cell_type": "code",
      "metadata": {
        "id": "8MrbtdS7Jz2d",
        "colab_type": "code",
        "colab": {
          "base_uri": "https://localhost:8080/",
          "height": 581
        },
        "outputId": "169420cd-2b26-4c8b-cc83-6a1383f4419c"
      },
      "source": [
        "oc_df.tail()"
      ],
      "execution_count": 37,
      "outputs": [
        {
          "output_type": "execute_result",
          "data": {
            "text/html": [
              "<div>\n",
              "<style scoped>\n",
              "    .dataframe tbody tr th:only-of-type {\n",
              "        vertical-align: middle;\n",
              "    }\n",
              "\n",
              "    .dataframe tbody tr th {\n",
              "        vertical-align: top;\n",
              "    }\n",
              "\n",
              "    .dataframe thead th {\n",
              "        text-align: right;\n",
              "    }\n",
              "</style>\n",
              "<table border=\"1\" class=\"dataframe\">\n",
              "  <thead>\n",
              "    <tr style=\"text-align: right;\">\n",
              "      <th></th>\n",
              "      <th>yearstart</th>\n",
              "      <th>yearend</th>\n",
              "      <th>locationabbr</th>\n",
              "      <th>locationdesc</th>\n",
              "      <th>datasource</th>\n",
              "      <th>topic</th>\n",
              "      <th>question</th>\n",
              "      <th>datavalueunit</th>\n",
              "      <th>datavaluetype</th>\n",
              "      <th>datavalue</th>\n",
              "      <th>datavaluealt</th>\n",
              "      <th>lowconfidencelimit</th>\n",
              "      <th>highconfidencelimit</th>\n",
              "      <th>stratificationcategory1</th>\n",
              "      <th>stratification1</th>\n",
              "      <th>geolocation</th>\n",
              "      <th>locationid</th>\n",
              "      <th>topicid</th>\n",
              "      <th>questionid</th>\n",
              "      <th>datavaluetypeid</th>\n",
              "      <th>stratificationcategoryid1</th>\n",
              "      <th>stratificationid1</th>\n",
              "      <th>:@computed_region_bxsw_vy29</th>\n",
              "      <th>:@computed_region_he4y_prf8</th>\n",
              "      <th>datavaluefootnotesymbol</th>\n",
              "      <th>datavaluefootnote</th>\n",
              "    </tr>\n",
              "  </thead>\n",
              "  <tbody>\n",
              "    <tr>\n",
              "      <th>9554</th>\n",
              "      <td>2015</td>\n",
              "      <td>2015</td>\n",
              "      <td>OK</td>\n",
              "      <td>Oklahoma</td>\n",
              "      <td>BRFSS</td>\n",
              "      <td>Overarching Conditions</td>\n",
              "      <td>Recent physically unhealthy days among adults ...</td>\n",
              "      <td>Number</td>\n",
              "      <td>Mean</td>\n",
              "      <td>4.6</td>\n",
              "      <td>4.6</td>\n",
              "      <td>4.3</td>\n",
              "      <td>4.9</td>\n",
              "      <td>Overall</td>\n",
              "      <td>Overall</td>\n",
              "      <td>{'latitude': '35.47203135600046', 'longitude':...</td>\n",
              "      <td>40</td>\n",
              "      <td>OVC</td>\n",
              "      <td>OVC7_1</td>\n",
              "      <td>MEAN</td>\n",
              "      <td>OVERALL</td>\n",
              "      <td>OVR</td>\n",
              "      <td>20</td>\n",
              "      <td>712</td>\n",
              "      <td>NaN</td>\n",
              "      <td>NaN</td>\n",
              "    </tr>\n",
              "    <tr>\n",
              "      <th>9674</th>\n",
              "      <td>2015</td>\n",
              "      <td>2015</td>\n",
              "      <td>LA</td>\n",
              "      <td>Louisiana</td>\n",
              "      <td>NVSS</td>\n",
              "      <td>Overarching Conditions</td>\n",
              "      <td>Premature mortality among adults aged 45-64 years</td>\n",
              "      <td>Number</td>\n",
              "      <td>Number</td>\n",
              "      <td>4126</td>\n",
              "      <td>4126</td>\n",
              "      <td>NaN</td>\n",
              "      <td>NaN</td>\n",
              "      <td>Race/Ethnicity</td>\n",
              "      <td>Black, non-Hispanic</td>\n",
              "      <td>{'latitude': '31.31266064400046', 'longitude':...</td>\n",
              "      <td>22</td>\n",
              "      <td>OVC</td>\n",
              "      <td>OVC5_0</td>\n",
              "      <td>NMBR</td>\n",
              "      <td>RACE</td>\n",
              "      <td>BLK</td>\n",
              "      <td>22</td>\n",
              "      <td>1697</td>\n",
              "      <td>NaN</td>\n",
              "      <td>NaN</td>\n",
              "    </tr>\n",
              "    <tr>\n",
              "      <th>9825</th>\n",
              "      <td>2014</td>\n",
              "      <td>2014</td>\n",
              "      <td>MA</td>\n",
              "      <td>Massachusetts</td>\n",
              "      <td>ACS 1-Year Estimates</td>\n",
              "      <td>Overarching Conditions</td>\n",
              "      <td>Poverty</td>\n",
              "      <td>%</td>\n",
              "      <td>Crude Prevalence</td>\n",
              "      <td>30.6</td>\n",
              "      <td>30.6</td>\n",
              "      <td>29</td>\n",
              "      <td>32.2</td>\n",
              "      <td>Race/Ethnicity</td>\n",
              "      <td>Hispanic</td>\n",
              "      <td>{'latitude': '42.27687047000046', 'longitude':...</td>\n",
              "      <td>25</td>\n",
              "      <td>OVC</td>\n",
              "      <td>OVC3_1</td>\n",
              "      <td>CRDPREV</td>\n",
              "      <td>RACE</td>\n",
              "      <td>HIS</td>\n",
              "      <td>25</td>\n",
              "      <td>1919</td>\n",
              "      <td>NaN</td>\n",
              "      <td>NaN</td>\n",
              "    </tr>\n",
              "    <tr>\n",
              "      <th>9884</th>\n",
              "      <td>2015</td>\n",
              "      <td>2015</td>\n",
              "      <td>ID</td>\n",
              "      <td>Idaho</td>\n",
              "      <td>Current Population Survey</td>\n",
              "      <td>Overarching Conditions</td>\n",
              "      <td>Poverty among women aged 18-44 years</td>\n",
              "      <td>%</td>\n",
              "      <td>Crude Prevalence</td>\n",
              "      <td>35.5</td>\n",
              "      <td>35.5</td>\n",
              "      <td>NaN</td>\n",
              "      <td>NaN</td>\n",
              "      <td>Overall</td>\n",
              "      <td>Overall</td>\n",
              "      <td>{'latitude': '43.682630005000476', 'longitude'...</td>\n",
              "      <td>16</td>\n",
              "      <td>OVC</td>\n",
              "      <td>OVC3_2</td>\n",
              "      <td>CRDPREV</td>\n",
              "      <td>OVERALL</td>\n",
              "      <td>OVR</td>\n",
              "      <td>5</td>\n",
              "      <td>1687</td>\n",
              "      <td>NaN</td>\n",
              "      <td>NaN</td>\n",
              "    </tr>\n",
              "    <tr>\n",
              "      <th>9917</th>\n",
              "      <td>2015</td>\n",
              "      <td>2015</td>\n",
              "      <td>IA</td>\n",
              "      <td>Iowa</td>\n",
              "      <td>NVSS</td>\n",
              "      <td>Overarching Conditions</td>\n",
              "      <td>Premature mortality among adults aged 45-64 years</td>\n",
              "      <td>cases per 100,000</td>\n",
              "      <td>Crude Rate</td>\n",
              "      <td>724.9</td>\n",
              "      <td>724.9</td>\n",
              "      <td>698.7</td>\n",
              "      <td>751.1</td>\n",
              "      <td>Gender</td>\n",
              "      <td>Male</td>\n",
              "      <td>{'latitude': '42.46940091300047', 'longitude':...</td>\n",
              "      <td>19</td>\n",
              "      <td>OVC</td>\n",
              "      <td>OVC5_0</td>\n",
              "      <td>CRDRATE</td>\n",
              "      <td>GENDER</td>\n",
              "      <td>GENM</td>\n",
              "      <td>16</td>\n",
              "      <td>281</td>\n",
              "      <td>NaN</td>\n",
              "      <td>NaN</td>\n",
              "    </tr>\n",
              "  </tbody>\n",
              "</table>\n",
              "</div>"
            ],
            "text/plain": [
              "     yearstart yearend  ... datavaluefootnotesymbol datavaluefootnote\n",
              "9554      2015    2015  ...                     NaN               NaN\n",
              "9674      2015    2015  ...                     NaN               NaN\n",
              "9825      2014    2014  ...                     NaN               NaN\n",
              "9884      2015    2015  ...                     NaN               NaN\n",
              "9917      2015    2015  ...                     NaN               NaN\n",
              "\n",
              "[5 rows x 26 columns]"
            ]
          },
          "metadata": {
            "tags": []
          },
          "execution_count": 37
        }
      ]
    },
    {
      "cell_type": "markdown",
      "metadata": {
        "id": "_ppikMIPpLLX",
        "colab_type": "text"
      },
      "source": [
        "**2) Modify Dataset / Data Tidying**\n",
        "---\n",
        "\n"
      ]
    },
    {
      "cell_type": "code",
      "metadata": {
        "id": "Y1ARrSq8zHxr",
        "colab_type": "code",
        "colab": {}
      },
      "source": [
        "keep_columns = ['yearstart', 'yearend', 'locationabbr', 'locationdesc', 'datasource',\n",
        "       'topic', 'question', 'datavalueunit', 'datavaluetype', 'datavalue',\n",
        "       'datavaluealt', 'lowconfidencelimit', 'highconfidencelimit']"
      ],
      "execution_count": 38,
      "outputs": []
    },
    {
      "cell_type": "code",
      "metadata": {
        "id": "KEB2k1ZhyxoX",
        "colab_type": "code",
        "colab": {}
      },
      "source": [
        "oc_clean_df = oc_df[keep_columns]"
      ],
      "execution_count": 39,
      "outputs": []
    },
    {
      "cell_type": "code",
      "metadata": {
        "id": "f90OT7D6zQ1i",
        "colab_type": "code",
        "colab": {
          "base_uri": "https://localhost:8080/",
          "height": 1000
        },
        "outputId": "a7f404e2-dc86-4606-bc2f-c515938c3ca3"
      },
      "source": [
        "oc_clean_df"
      ],
      "execution_count": 40,
      "outputs": [
        {
          "output_type": "execute_result",
          "data": {
            "text/html": [
              "<div>\n",
              "<style scoped>\n",
              "    .dataframe tbody tr th:only-of-type {\n",
              "        vertical-align: middle;\n",
              "    }\n",
              "\n",
              "    .dataframe tbody tr th {\n",
              "        vertical-align: top;\n",
              "    }\n",
              "\n",
              "    .dataframe thead th {\n",
              "        text-align: right;\n",
              "    }\n",
              "</style>\n",
              "<table border=\"1\" class=\"dataframe\">\n",
              "  <thead>\n",
              "    <tr style=\"text-align: right;\">\n",
              "      <th></th>\n",
              "      <th>yearstart</th>\n",
              "      <th>yearend</th>\n",
              "      <th>locationabbr</th>\n",
              "      <th>locationdesc</th>\n",
              "      <th>datasource</th>\n",
              "      <th>topic</th>\n",
              "      <th>question</th>\n",
              "      <th>datavalueunit</th>\n",
              "      <th>datavaluetype</th>\n",
              "      <th>datavalue</th>\n",
              "      <th>datavaluealt</th>\n",
              "      <th>lowconfidencelimit</th>\n",
              "      <th>highconfidencelimit</th>\n",
              "    </tr>\n",
              "  </thead>\n",
              "  <tbody>\n",
              "    <tr>\n",
              "      <th>4</th>\n",
              "      <td>2015</td>\n",
              "      <td>2015</td>\n",
              "      <td>ND</td>\n",
              "      <td>North Dakota</td>\n",
              "      <td>ACS 1-Year Estimates</td>\n",
              "      <td>Overarching Conditions</td>\n",
              "      <td>Poverty</td>\n",
              "      <td>%</td>\n",
              "      <td>Crude Prevalence</td>\n",
              "      <td>8.9</td>\n",
              "      <td>8.9</td>\n",
              "      <td>8.2</td>\n",
              "      <td>9.6</td>\n",
              "    </tr>\n",
              "    <tr>\n",
              "      <th>122</th>\n",
              "      <td>2016</td>\n",
              "      <td>2016</td>\n",
              "      <td>OK</td>\n",
              "      <td>Oklahoma</td>\n",
              "      <td>NVSS</td>\n",
              "      <td>Overarching Conditions</td>\n",
              "      <td>Premature mortality among adults aged 45-64 years</td>\n",
              "      <td>Number</td>\n",
              "      <td>Number</td>\n",
              "      <td>69</td>\n",
              "      <td>69</td>\n",
              "      <td>NaN</td>\n",
              "      <td>NaN</td>\n",
              "    </tr>\n",
              "    <tr>\n",
              "      <th>370</th>\n",
              "      <td>2018</td>\n",
              "      <td>2018</td>\n",
              "      <td>VI</td>\n",
              "      <td>Virgin Islands</td>\n",
              "      <td>BRFSS</td>\n",
              "      <td>Overarching Conditions</td>\n",
              "      <td>Recent activity limitation among adults aged &gt;...</td>\n",
              "      <td>Number</td>\n",
              "      <td>Mean</td>\n",
              "      <td>NaN</td>\n",
              "      <td>NaN</td>\n",
              "      <td>NaN</td>\n",
              "      <td>NaN</td>\n",
              "    </tr>\n",
              "    <tr>\n",
              "      <th>372</th>\n",
              "      <td>2018</td>\n",
              "      <td>2018</td>\n",
              "      <td>NV</td>\n",
              "      <td>Nevada</td>\n",
              "      <td>BRFSS</td>\n",
              "      <td>Overarching Conditions</td>\n",
              "      <td>Self-rated health status among women aged 18-4...</td>\n",
              "      <td>%</td>\n",
              "      <td>Crude Prevalence</td>\n",
              "      <td>83.1</td>\n",
              "      <td>83.1</td>\n",
              "      <td>78.5</td>\n",
              "      <td>86.8</td>\n",
              "    </tr>\n",
              "    <tr>\n",
              "      <th>374</th>\n",
              "      <td>2018</td>\n",
              "      <td>2018</td>\n",
              "      <td>PA</td>\n",
              "      <td>Pennsylvania</td>\n",
              "      <td>BRFSS</td>\n",
              "      <td>Overarching Conditions</td>\n",
              "      <td>Current lack of health insurance among adults ...</td>\n",
              "      <td>%</td>\n",
              "      <td>Crude Prevalence</td>\n",
              "      <td>11.6</td>\n",
              "      <td>11.6</td>\n",
              "      <td>9.7</td>\n",
              "      <td>13.8</td>\n",
              "    </tr>\n",
              "    <tr>\n",
              "      <th>...</th>\n",
              "      <td>...</td>\n",
              "      <td>...</td>\n",
              "      <td>...</td>\n",
              "      <td>...</td>\n",
              "      <td>...</td>\n",
              "      <td>...</td>\n",
              "      <td>...</td>\n",
              "      <td>...</td>\n",
              "      <td>...</td>\n",
              "      <td>...</td>\n",
              "      <td>...</td>\n",
              "      <td>...</td>\n",
              "      <td>...</td>\n",
              "    </tr>\n",
              "    <tr>\n",
              "      <th>9554</th>\n",
              "      <td>2015</td>\n",
              "      <td>2015</td>\n",
              "      <td>OK</td>\n",
              "      <td>Oklahoma</td>\n",
              "      <td>BRFSS</td>\n",
              "      <td>Overarching Conditions</td>\n",
              "      <td>Recent physically unhealthy days among adults ...</td>\n",
              "      <td>Number</td>\n",
              "      <td>Mean</td>\n",
              "      <td>4.6</td>\n",
              "      <td>4.6</td>\n",
              "      <td>4.3</td>\n",
              "      <td>4.9</td>\n",
              "    </tr>\n",
              "    <tr>\n",
              "      <th>9674</th>\n",
              "      <td>2015</td>\n",
              "      <td>2015</td>\n",
              "      <td>LA</td>\n",
              "      <td>Louisiana</td>\n",
              "      <td>NVSS</td>\n",
              "      <td>Overarching Conditions</td>\n",
              "      <td>Premature mortality among adults aged 45-64 years</td>\n",
              "      <td>Number</td>\n",
              "      <td>Number</td>\n",
              "      <td>4126</td>\n",
              "      <td>4126</td>\n",
              "      <td>NaN</td>\n",
              "      <td>NaN</td>\n",
              "    </tr>\n",
              "    <tr>\n",
              "      <th>9825</th>\n",
              "      <td>2014</td>\n",
              "      <td>2014</td>\n",
              "      <td>MA</td>\n",
              "      <td>Massachusetts</td>\n",
              "      <td>ACS 1-Year Estimates</td>\n",
              "      <td>Overarching Conditions</td>\n",
              "      <td>Poverty</td>\n",
              "      <td>%</td>\n",
              "      <td>Crude Prevalence</td>\n",
              "      <td>30.6</td>\n",
              "      <td>30.6</td>\n",
              "      <td>29</td>\n",
              "      <td>32.2</td>\n",
              "    </tr>\n",
              "    <tr>\n",
              "      <th>9884</th>\n",
              "      <td>2015</td>\n",
              "      <td>2015</td>\n",
              "      <td>ID</td>\n",
              "      <td>Idaho</td>\n",
              "      <td>Current Population Survey</td>\n",
              "      <td>Overarching Conditions</td>\n",
              "      <td>Poverty among women aged 18-44 years</td>\n",
              "      <td>%</td>\n",
              "      <td>Crude Prevalence</td>\n",
              "      <td>35.5</td>\n",
              "      <td>35.5</td>\n",
              "      <td>NaN</td>\n",
              "      <td>NaN</td>\n",
              "    </tr>\n",
              "    <tr>\n",
              "      <th>9917</th>\n",
              "      <td>2015</td>\n",
              "      <td>2015</td>\n",
              "      <td>IA</td>\n",
              "      <td>Iowa</td>\n",
              "      <td>NVSS</td>\n",
              "      <td>Overarching Conditions</td>\n",
              "      <td>Premature mortality among adults aged 45-64 years</td>\n",
              "      <td>cases per 100,000</td>\n",
              "      <td>Crude Rate</td>\n",
              "      <td>724.9</td>\n",
              "      <td>724.9</td>\n",
              "      <td>698.7</td>\n",
              "      <td>751.1</td>\n",
              "    </tr>\n",
              "  </tbody>\n",
              "</table>\n",
              "<p>1005 rows × 13 columns</p>\n",
              "</div>"
            ],
            "text/plain": [
              "     yearstart yearend  ... lowconfidencelimit highconfidencelimit\n",
              "4         2015    2015  ...                8.2                 9.6\n",
              "122       2016    2016  ...                NaN                 NaN\n",
              "370       2018    2018  ...                NaN                 NaN\n",
              "372       2018    2018  ...               78.5                86.8\n",
              "374       2018    2018  ...                9.7                13.8\n",
              "...        ...     ...  ...                ...                 ...\n",
              "9554      2015    2015  ...                4.3                 4.9\n",
              "9674      2015    2015  ...                NaN                 NaN\n",
              "9825      2014    2014  ...                 29                32.2\n",
              "9884      2015    2015  ...                NaN                 NaN\n",
              "9917      2015    2015  ...              698.7               751.1\n",
              "\n",
              "[1005 rows x 13 columns]"
            ]
          },
          "metadata": {
            "tags": []
          },
          "execution_count": 40
        }
      ]
    },
    {
      "cell_type": "markdown",
      "metadata": {
        "id": "Adts4QYWJ5bW",
        "colab_type": "text"
      },
      "source": [
        "**3) Subsetting the Data**\n",
        "---\n",
        "\n",
        "Attempt to drop the missing values from the Premature Mortality subset yields an empty dataframe, which means that there were no missing values in the subset.\n"
      ]
    },
    {
      "cell_type": "code",
      "metadata": {
        "id": "O2xwBMuULpOS",
        "colab_type": "code",
        "colab": {
          "base_uri": "https://localhost:8080/",
          "height": 323
        },
        "outputId": "b26bd8c4-71d1-43db-b2d4-c7cf4b4b68d9"
      },
      "source": [
        "oc_clean_df.groupby(['question'])['datavalue'].count()"
      ],
      "execution_count": 74,
      "outputs": [
        {
          "output_type": "execute_result",
          "data": {
            "text/plain": [
              "question\n",
              "Current health care coverage among women aged 18-44 years               40\n",
              "Current lack of health insurance among adults aged 18-64 years         116\n",
              "Fair or poor self-rated health status among adults aged >= 18 years    114\n",
              "Gini Index of income inequality                                          8\n",
              "Health insurance coverage before pregnancy                               1\n",
              "High school completion among adults aged 18-24 years                    17\n",
              "High school completion among women aged 18-44 years                      6\n",
              "Life expectancy at age 65 years                                         12\n",
              "Life expectancy at birth                                                 8\n",
              "Poverty                                                                 96\n",
              "Poverty among women aged 18-44 years                                     8\n",
              "Premature mortality among adults aged 45-64 years                      111\n",
              "Prevalence of sufficient sleep among adults aged >= 18 years           133\n",
              "Recent activity limitation among adults aged >= 18 years               120\n",
              "Recent physically unhealthy days among adults aged >= 18 years         140\n",
              "Self-rated health status among women aged 18-44 years                   32\n",
              "Name: datavalue, dtype: int64"
            ]
          },
          "metadata": {
            "tags": []
          },
          "execution_count": 74
        }
      ]
    },
    {
      "cell_type": "code",
      "metadata": {
        "id": "Vq2Blk8UKWIy",
        "colab_type": "code",
        "colab": {
          "base_uri": "https://localhost:8080/",
          "height": 139
        },
        "outputId": "51a7f600-9cab-4f92-d0b4-4a4e1bd0d53b"
      },
      "source": [
        "oc_clean_df['datavalue'] = pd.to_numeric(oc_clean_df['datavalue'])"
      ],
      "execution_count": 42,
      "outputs": [
        {
          "output_type": "stream",
          "text": [
            "/usr/local/lib/python3.6/dist-packages/ipykernel_launcher.py:1: SettingWithCopyWarning: \n",
            "A value is trying to be set on a copy of a slice from a DataFrame.\n",
            "Try using .loc[row_indexer,col_indexer] = value instead\n",
            "\n",
            "See the caveats in the documentation: https://pandas.pydata.org/pandas-docs/stable/user_guide/indexing.html#returning-a-view-versus-a-copy\n",
            "  \"\"\"Entry point for launching an IPython kernel.\n"
          ],
          "name": "stderr"
        }
      ]
    },
    {
      "cell_type": "code",
      "metadata": {
        "id": "e7vvGHLaAOsp",
        "colab_type": "code",
        "colab": {
          "base_uri": "https://localhost:8080/",
          "height": 649
        },
        "outputId": "ae6faa26-1182-4811-c52b-1c53643a88ba"
      },
      "source": [
        "#Subset the data for Recent physically unhealthy days among adults aged >= 18 years\n",
        "unhealthy_df = oc_clean_df[(oc_clean_df['question']=='Recent physically unhealthy days among adults aged >= 18 years') & (oc_clean_df['datavalueunit']=='Number')]\n",
        "unhealthy_df.head()"
      ],
      "execution_count": 119,
      "outputs": [
        {
          "output_type": "execute_result",
          "data": {
            "text/html": [
              "<div>\n",
              "<style scoped>\n",
              "    .dataframe tbody tr th:only-of-type {\n",
              "        vertical-align: middle;\n",
              "    }\n",
              "\n",
              "    .dataframe tbody tr th {\n",
              "        vertical-align: top;\n",
              "    }\n",
              "\n",
              "    .dataframe thead th {\n",
              "        text-align: right;\n",
              "    }\n",
              "</style>\n",
              "<table border=\"1\" class=\"dataframe\">\n",
              "  <thead>\n",
              "    <tr style=\"text-align: right;\">\n",
              "      <th></th>\n",
              "      <th>yearstart</th>\n",
              "      <th>yearend</th>\n",
              "      <th>locationabbr</th>\n",
              "      <th>locationdesc</th>\n",
              "      <th>datasource</th>\n",
              "      <th>topic</th>\n",
              "      <th>question</th>\n",
              "      <th>datavalueunit</th>\n",
              "      <th>datavaluetype</th>\n",
              "      <th>datavalue</th>\n",
              "      <th>datavaluealt</th>\n",
              "      <th>lowconfidencelimit</th>\n",
              "      <th>highconfidencelimit</th>\n",
              "    </tr>\n",
              "  </thead>\n",
              "  <tbody>\n",
              "    <tr>\n",
              "      <th>377</th>\n",
              "      <td>2018-01-01</td>\n",
              "      <td>2018</td>\n",
              "      <td>VA</td>\n",
              "      <td>Virginia</td>\n",
              "      <td>BRFSS</td>\n",
              "      <td>Overarching Conditions</td>\n",
              "      <td>Recent physically unhealthy days among adults ...</td>\n",
              "      <td>Number</td>\n",
              "      <td>Mean</td>\n",
              "      <td>3.7</td>\n",
              "      <td>3.7</td>\n",
              "      <td>3.5</td>\n",
              "      <td>3.9</td>\n",
              "    </tr>\n",
              "    <tr>\n",
              "      <th>378</th>\n",
              "      <td>2018-01-01</td>\n",
              "      <td>2018</td>\n",
              "      <td>IN</td>\n",
              "      <td>Indiana</td>\n",
              "      <td>BRFSS</td>\n",
              "      <td>Overarching Conditions</td>\n",
              "      <td>Recent physically unhealthy days among adults ...</td>\n",
              "      <td>Number</td>\n",
              "      <td>Mean</td>\n",
              "      <td>3.4</td>\n",
              "      <td>3.4</td>\n",
              "      <td>2.2</td>\n",
              "      <td>4.6</td>\n",
              "    </tr>\n",
              "    <tr>\n",
              "      <th>885</th>\n",
              "      <td>2014-01-01</td>\n",
              "      <td>2014</td>\n",
              "      <td>OK</td>\n",
              "      <td>Oklahoma</td>\n",
              "      <td>BRFSS</td>\n",
              "      <td>Overarching Conditions</td>\n",
              "      <td>Recent physically unhealthy days among adults ...</td>\n",
              "      <td>Number</td>\n",
              "      <td>Mean</td>\n",
              "      <td>4.5</td>\n",
              "      <td>4.5</td>\n",
              "      <td>4.2</td>\n",
              "      <td>4.7</td>\n",
              "    </tr>\n",
              "    <tr>\n",
              "      <th>969</th>\n",
              "      <td>2017-01-01</td>\n",
              "      <td>2017</td>\n",
              "      <td>MT</td>\n",
              "      <td>Montana</td>\n",
              "      <td>BRFSS</td>\n",
              "      <td>Overarching Conditions</td>\n",
              "      <td>Recent physically unhealthy days among adults ...</td>\n",
              "      <td>Number</td>\n",
              "      <td>Age-adjusted Mean</td>\n",
              "      <td>4.1</td>\n",
              "      <td>4.1</td>\n",
              "      <td>3.7</td>\n",
              "      <td>4.6</td>\n",
              "    </tr>\n",
              "    <tr>\n",
              "      <th>981</th>\n",
              "      <td>2017-01-01</td>\n",
              "      <td>2017</td>\n",
              "      <td>KY</td>\n",
              "      <td>Kentucky</td>\n",
              "      <td>BRFSS</td>\n",
              "      <td>Overarching Conditions</td>\n",
              "      <td>Recent physically unhealthy days among adults ...</td>\n",
              "      <td>Number</td>\n",
              "      <td>Mean</td>\n",
              "      <td>5.5</td>\n",
              "      <td>5.5</td>\n",
              "      <td>5.1</td>\n",
              "      <td>6.0</td>\n",
              "    </tr>\n",
              "  </tbody>\n",
              "</table>\n",
              "</div>"
            ],
            "text/plain": [
              "     yearstart yearend  ... lowconfidencelimit highconfidencelimit\n",
              "377 2018-01-01    2018  ...                3.5                 3.9\n",
              "378 2018-01-01    2018  ...                2.2                 4.6\n",
              "885 2014-01-01    2014  ...                4.2                 4.7\n",
              "969 2017-01-01    2017  ...                3.7                 4.6\n",
              "981 2017-01-01    2017  ...                5.1                 6.0\n",
              "\n",
              "[5 rows x 13 columns]"
            ]
          },
          "metadata": {
            "tags": []
          },
          "execution_count": 119
        }
      ]
    },
    {
      "cell_type": "code",
      "metadata": {
        "id": "wbZQzMHHHlMp",
        "colab_type": "code",
        "colab": {
          "base_uri": "https://localhost:8080/",
          "height": 649
        },
        "outputId": "0490bcb0-cb3c-49d4-8c38-8889644a1678"
      },
      "source": [
        "#drop missing values from the unhealthy DF\n",
        "unhealthy_clean_df = unhealthy_df.dropna()\n",
        "unhealthy_clean_df.head()"
      ],
      "execution_count": 150,
      "outputs": [
        {
          "output_type": "execute_result",
          "data": {
            "text/html": [
              "<div>\n",
              "<style scoped>\n",
              "    .dataframe tbody tr th:only-of-type {\n",
              "        vertical-align: middle;\n",
              "    }\n",
              "\n",
              "    .dataframe tbody tr th {\n",
              "        vertical-align: top;\n",
              "    }\n",
              "\n",
              "    .dataframe thead th {\n",
              "        text-align: right;\n",
              "    }\n",
              "</style>\n",
              "<table border=\"1\" class=\"dataframe\">\n",
              "  <thead>\n",
              "    <tr style=\"text-align: right;\">\n",
              "      <th></th>\n",
              "      <th>yearstart</th>\n",
              "      <th>yearend</th>\n",
              "      <th>locationabbr</th>\n",
              "      <th>locationdesc</th>\n",
              "      <th>datasource</th>\n",
              "      <th>topic</th>\n",
              "      <th>question</th>\n",
              "      <th>datavalueunit</th>\n",
              "      <th>datavaluetype</th>\n",
              "      <th>datavalue</th>\n",
              "      <th>datavaluealt</th>\n",
              "      <th>lowconfidencelimit</th>\n",
              "      <th>highconfidencelimit</th>\n",
              "    </tr>\n",
              "  </thead>\n",
              "  <tbody>\n",
              "    <tr>\n",
              "      <th>377</th>\n",
              "      <td>2018-01-01</td>\n",
              "      <td>2018</td>\n",
              "      <td>VA</td>\n",
              "      <td>Virginia</td>\n",
              "      <td>BRFSS</td>\n",
              "      <td>Overarching Conditions</td>\n",
              "      <td>Recent physically unhealthy days among adults ...</td>\n",
              "      <td>Number</td>\n",
              "      <td>Mean</td>\n",
              "      <td>3.7</td>\n",
              "      <td>3.7</td>\n",
              "      <td>3.5</td>\n",
              "      <td>3.9</td>\n",
              "    </tr>\n",
              "    <tr>\n",
              "      <th>378</th>\n",
              "      <td>2018-01-01</td>\n",
              "      <td>2018</td>\n",
              "      <td>IN</td>\n",
              "      <td>Indiana</td>\n",
              "      <td>BRFSS</td>\n",
              "      <td>Overarching Conditions</td>\n",
              "      <td>Recent physically unhealthy days among adults ...</td>\n",
              "      <td>Number</td>\n",
              "      <td>Mean</td>\n",
              "      <td>3.4</td>\n",
              "      <td>3.4</td>\n",
              "      <td>2.2</td>\n",
              "      <td>4.6</td>\n",
              "    </tr>\n",
              "    <tr>\n",
              "      <th>885</th>\n",
              "      <td>2014-01-01</td>\n",
              "      <td>2014</td>\n",
              "      <td>OK</td>\n",
              "      <td>Oklahoma</td>\n",
              "      <td>BRFSS</td>\n",
              "      <td>Overarching Conditions</td>\n",
              "      <td>Recent physically unhealthy days among adults ...</td>\n",
              "      <td>Number</td>\n",
              "      <td>Mean</td>\n",
              "      <td>4.5</td>\n",
              "      <td>4.5</td>\n",
              "      <td>4.2</td>\n",
              "      <td>4.7</td>\n",
              "    </tr>\n",
              "    <tr>\n",
              "      <th>969</th>\n",
              "      <td>2017-01-01</td>\n",
              "      <td>2017</td>\n",
              "      <td>MT</td>\n",
              "      <td>Montana</td>\n",
              "      <td>BRFSS</td>\n",
              "      <td>Overarching Conditions</td>\n",
              "      <td>Recent physically unhealthy days among adults ...</td>\n",
              "      <td>Number</td>\n",
              "      <td>Age-adjusted Mean</td>\n",
              "      <td>4.1</td>\n",
              "      <td>4.1</td>\n",
              "      <td>3.7</td>\n",
              "      <td>4.6</td>\n",
              "    </tr>\n",
              "    <tr>\n",
              "      <th>981</th>\n",
              "      <td>2017-01-01</td>\n",
              "      <td>2017</td>\n",
              "      <td>KY</td>\n",
              "      <td>Kentucky</td>\n",
              "      <td>BRFSS</td>\n",
              "      <td>Overarching Conditions</td>\n",
              "      <td>Recent physically unhealthy days among adults ...</td>\n",
              "      <td>Number</td>\n",
              "      <td>Mean</td>\n",
              "      <td>5.5</td>\n",
              "      <td>5.5</td>\n",
              "      <td>5.1</td>\n",
              "      <td>6.0</td>\n",
              "    </tr>\n",
              "  </tbody>\n",
              "</table>\n",
              "</div>"
            ],
            "text/plain": [
              "     yearstart yearend  ... lowconfidencelimit highconfidencelimit\n",
              "377 2018-01-01    2018  ...                3.5                 3.9\n",
              "378 2018-01-01    2018  ...                2.2                 4.6\n",
              "885 2014-01-01    2014  ...                4.2                 4.7\n",
              "969 2017-01-01    2017  ...                3.7                 4.6\n",
              "981 2017-01-01    2017  ...                5.1                 6.0\n",
              "\n",
              "[5 rows x 13 columns]"
            ]
          },
          "metadata": {
            "tags": []
          },
          "execution_count": 150
        }
      ]
    },
    {
      "cell_type": "code",
      "metadata": {
        "id": "GfMCNr4aJ8iK",
        "colab_type": "code",
        "colab": {
          "base_uri": "https://localhost:8080/",
          "height": 1000
        },
        "outputId": "7b562e5d-e3df-424c-9350-46425177cb60"
      },
      "source": [
        "#Subset the data by state for Recent physically unhealthy days among adults aged >= 18 years  \n",
        "unhealthy_pivot = pd.pivot_table(unhealthy_clean_df, index=['locationabbr'])\n",
        "unhealthy_pivot"
      ],
      "execution_count": 151,
      "outputs": [
        {
          "output_type": "execute_result",
          "data": {
            "text/html": [
              "<div>\n",
              "<style scoped>\n",
              "    .dataframe tbody tr th:only-of-type {\n",
              "        vertical-align: middle;\n",
              "    }\n",
              "\n",
              "    .dataframe tbody tr th {\n",
              "        vertical-align: top;\n",
              "    }\n",
              "\n",
              "    .dataframe thead th {\n",
              "        text-align: right;\n",
              "    }\n",
              "</style>\n",
              "<table border=\"1\" class=\"dataframe\">\n",
              "  <thead>\n",
              "    <tr style=\"text-align: right;\">\n",
              "      <th></th>\n",
              "      <th>datavalue</th>\n",
              "    </tr>\n",
              "    <tr>\n",
              "      <th>locationabbr</th>\n",
              "      <th></th>\n",
              "    </tr>\n",
              "  </thead>\n",
              "  <tbody>\n",
              "    <tr>\n",
              "      <th>AK</th>\n",
              "      <td>3.700000</td>\n",
              "    </tr>\n",
              "    <tr>\n",
              "      <th>AL</th>\n",
              "      <td>4.400000</td>\n",
              "    </tr>\n",
              "    <tr>\n",
              "      <th>AR</th>\n",
              "      <td>5.200000</td>\n",
              "    </tr>\n",
              "    <tr>\n",
              "      <th>AZ</th>\n",
              "      <td>5.725000</td>\n",
              "    </tr>\n",
              "    <tr>\n",
              "      <th>CA</th>\n",
              "      <td>2.700000</td>\n",
              "    </tr>\n",
              "    <tr>\n",
              "      <th>CO</th>\n",
              "      <td>3.600000</td>\n",
              "    </tr>\n",
              "    <tr>\n",
              "      <th>CT</th>\n",
              "      <td>3.600000</td>\n",
              "    </tr>\n",
              "    <tr>\n",
              "      <th>DC</th>\n",
              "      <td>2.800000</td>\n",
              "    </tr>\n",
              "    <tr>\n",
              "      <th>DE</th>\n",
              "      <td>3.350000</td>\n",
              "    </tr>\n",
              "    <tr>\n",
              "      <th>GA</th>\n",
              "      <td>4.000000</td>\n",
              "    </tr>\n",
              "    <tr>\n",
              "      <th>GU</th>\n",
              "      <td>3.200000</td>\n",
              "    </tr>\n",
              "    <tr>\n",
              "      <th>IL</th>\n",
              "      <td>4.000000</td>\n",
              "    </tr>\n",
              "    <tr>\n",
              "      <th>IN</th>\n",
              "      <td>3.400000</td>\n",
              "    </tr>\n",
              "    <tr>\n",
              "      <th>KS</th>\n",
              "      <td>3.716667</td>\n",
              "    </tr>\n",
              "    <tr>\n",
              "      <th>KY</th>\n",
              "      <td>4.925000</td>\n",
              "    </tr>\n",
              "    <tr>\n",
              "      <th>LA</th>\n",
              "      <td>4.000000</td>\n",
              "    </tr>\n",
              "    <tr>\n",
              "      <th>MA</th>\n",
              "      <td>4.000000</td>\n",
              "    </tr>\n",
              "    <tr>\n",
              "      <th>MD</th>\n",
              "      <td>3.225000</td>\n",
              "    </tr>\n",
              "    <tr>\n",
              "      <th>ME</th>\n",
              "      <td>4.600000</td>\n",
              "    </tr>\n",
              "    <tr>\n",
              "      <th>MI</th>\n",
              "      <td>4.800000</td>\n",
              "    </tr>\n",
              "    <tr>\n",
              "      <th>MN</th>\n",
              "      <td>3.400000</td>\n",
              "    </tr>\n",
              "    <tr>\n",
              "      <th>MO</th>\n",
              "      <td>4.250000</td>\n",
              "    </tr>\n",
              "    <tr>\n",
              "      <th>MS</th>\n",
              "      <td>4.450000</td>\n",
              "    </tr>\n",
              "    <tr>\n",
              "      <th>MT</th>\n",
              "      <td>3.733333</td>\n",
              "    </tr>\n",
              "    <tr>\n",
              "      <th>NC</th>\n",
              "      <td>3.700000</td>\n",
              "    </tr>\n",
              "    <tr>\n",
              "      <th>ND</th>\n",
              "      <td>3.800000</td>\n",
              "    </tr>\n",
              "    <tr>\n",
              "      <th>NE</th>\n",
              "      <td>4.666667</td>\n",
              "    </tr>\n",
              "    <tr>\n",
              "      <th>NH</th>\n",
              "      <td>4.800000</td>\n",
              "    </tr>\n",
              "    <tr>\n",
              "      <th>NJ</th>\n",
              "      <td>3.300000</td>\n",
              "    </tr>\n",
              "    <tr>\n",
              "      <th>NM</th>\n",
              "      <td>4.700000</td>\n",
              "    </tr>\n",
              "    <tr>\n",
              "      <th>NV</th>\n",
              "      <td>4.540000</td>\n",
              "    </tr>\n",
              "    <tr>\n",
              "      <th>NY</th>\n",
              "      <td>2.400000</td>\n",
              "    </tr>\n",
              "    <tr>\n",
              "      <th>OH</th>\n",
              "      <td>4.733333</td>\n",
              "    </tr>\n",
              "    <tr>\n",
              "      <th>OK</th>\n",
              "      <td>4.483333</td>\n",
              "    </tr>\n",
              "    <tr>\n",
              "      <th>OR</th>\n",
              "      <td>3.650000</td>\n",
              "    </tr>\n",
              "    <tr>\n",
              "      <th>PA</th>\n",
              "      <td>4.250000</td>\n",
              "    </tr>\n",
              "    <tr>\n",
              "      <th>PR</th>\n",
              "      <td>4.700000</td>\n",
              "    </tr>\n",
              "    <tr>\n",
              "      <th>RI</th>\n",
              "      <td>4.100000</td>\n",
              "    </tr>\n",
              "    <tr>\n",
              "      <th>SC</th>\n",
              "      <td>4.400000</td>\n",
              "    </tr>\n",
              "    <tr>\n",
              "      <th>SD</th>\n",
              "      <td>3.100000</td>\n",
              "    </tr>\n",
              "    <tr>\n",
              "      <th>TN</th>\n",
              "      <td>6.750000</td>\n",
              "    </tr>\n",
              "    <tr>\n",
              "      <th>TX</th>\n",
              "      <td>3.500000</td>\n",
              "    </tr>\n",
              "    <tr>\n",
              "      <th>UT</th>\n",
              "      <td>3.833333</td>\n",
              "    </tr>\n",
              "    <tr>\n",
              "      <th>VA</th>\n",
              "      <td>3.550000</td>\n",
              "    </tr>\n",
              "    <tr>\n",
              "      <th>VI</th>\n",
              "      <td>4.500000</td>\n",
              "    </tr>\n",
              "    <tr>\n",
              "      <th>VT</th>\n",
              "      <td>4.333333</td>\n",
              "    </tr>\n",
              "    <tr>\n",
              "      <th>WA</th>\n",
              "      <td>3.850000</td>\n",
              "    </tr>\n",
              "    <tr>\n",
              "      <th>WI</th>\n",
              "      <td>3.750000</td>\n",
              "    </tr>\n",
              "    <tr>\n",
              "      <th>WV</th>\n",
              "      <td>4.700000</td>\n",
              "    </tr>\n",
              "    <tr>\n",
              "      <th>WY</th>\n",
              "      <td>4.083333</td>\n",
              "    </tr>\n",
              "  </tbody>\n",
              "</table>\n",
              "</div>"
            ],
            "text/plain": [
              "              datavalue\n",
              "locationabbr           \n",
              "AK             3.700000\n",
              "AL             4.400000\n",
              "AR             5.200000\n",
              "AZ             5.725000\n",
              "CA             2.700000\n",
              "CO             3.600000\n",
              "CT             3.600000\n",
              "DC             2.800000\n",
              "DE             3.350000\n",
              "GA             4.000000\n",
              "GU             3.200000\n",
              "IL             4.000000\n",
              "IN             3.400000\n",
              "KS             3.716667\n",
              "KY             4.925000\n",
              "LA             4.000000\n",
              "MA             4.000000\n",
              "MD             3.225000\n",
              "ME             4.600000\n",
              "MI             4.800000\n",
              "MN             3.400000\n",
              "MO             4.250000\n",
              "MS             4.450000\n",
              "MT             3.733333\n",
              "NC             3.700000\n",
              "ND             3.800000\n",
              "NE             4.666667\n",
              "NH             4.800000\n",
              "NJ             3.300000\n",
              "NM             4.700000\n",
              "NV             4.540000\n",
              "NY             2.400000\n",
              "OH             4.733333\n",
              "OK             4.483333\n",
              "OR             3.650000\n",
              "PA             4.250000\n",
              "PR             4.700000\n",
              "RI             4.100000\n",
              "SC             4.400000\n",
              "SD             3.100000\n",
              "TN             6.750000\n",
              "TX             3.500000\n",
              "UT             3.833333\n",
              "VA             3.550000\n",
              "VI             4.500000\n",
              "VT             4.333333\n",
              "WA             3.850000\n",
              "WI             3.750000\n",
              "WV             4.700000\n",
              "WY             4.083333"
            ]
          },
          "metadata": {
            "tags": []
          },
          "execution_count": 151
        }
      ]
    },
    {
      "cell_type": "code",
      "metadata": {
        "id": "qgxCuWXSAhAE",
        "colab_type": "code",
        "colab": {
          "base_uri": "https://localhost:8080/",
          "height": 564
        },
        "outputId": "685c4221-1680-473c-b3c4-ab3d31cc79d9"
      },
      "source": [
        "#Subset the data for Prevalence of sufficient sleep among adults aged >= 18 years\n",
        "sleep_df = oc_clean_df[(oc_clean_df['question']=='Prevalence of sufficient sleep among adults aged >= 18 years') & (oc_clean_df['datavalueunit']=='%')]\n",
        "sleep_df.head()"
      ],
      "execution_count": 123,
      "outputs": [
        {
          "output_type": "execute_result",
          "data": {
            "text/html": [
              "<div>\n",
              "<style scoped>\n",
              "    .dataframe tbody tr th:only-of-type {\n",
              "        vertical-align: middle;\n",
              "    }\n",
              "\n",
              "    .dataframe tbody tr th {\n",
              "        vertical-align: top;\n",
              "    }\n",
              "\n",
              "    .dataframe thead th {\n",
              "        text-align: right;\n",
              "    }\n",
              "</style>\n",
              "<table border=\"1\" class=\"dataframe\">\n",
              "  <thead>\n",
              "    <tr style=\"text-align: right;\">\n",
              "      <th></th>\n",
              "      <th>yearstart</th>\n",
              "      <th>yearend</th>\n",
              "      <th>locationabbr</th>\n",
              "      <th>locationdesc</th>\n",
              "      <th>datasource</th>\n",
              "      <th>topic</th>\n",
              "      <th>question</th>\n",
              "      <th>datavalueunit</th>\n",
              "      <th>datavaluetype</th>\n",
              "      <th>datavalue</th>\n",
              "      <th>datavaluealt</th>\n",
              "      <th>lowconfidencelimit</th>\n",
              "      <th>highconfidencelimit</th>\n",
              "    </tr>\n",
              "  </thead>\n",
              "  <tbody>\n",
              "    <tr>\n",
              "      <th>385</th>\n",
              "      <td>2018-01-01</td>\n",
              "      <td>2018</td>\n",
              "      <td>VI</td>\n",
              "      <td>Virgin Islands</td>\n",
              "      <td>BRFSS</td>\n",
              "      <td>Overarching Conditions</td>\n",
              "      <td>Prevalence of sufficient sleep among adults ag...</td>\n",
              "      <td>%</td>\n",
              "      <td>Crude Prevalence</td>\n",
              "      <td>NaN</td>\n",
              "      <td>NaN</td>\n",
              "      <td>NaN</td>\n",
              "      <td>NaN</td>\n",
              "    </tr>\n",
              "    <tr>\n",
              "      <th>438</th>\n",
              "      <td>2018-01-01</td>\n",
              "      <td>2018</td>\n",
              "      <td>WY</td>\n",
              "      <td>Wyoming</td>\n",
              "      <td>BRFSS</td>\n",
              "      <td>Overarching Conditions</td>\n",
              "      <td>Prevalence of sufficient sleep among adults ag...</td>\n",
              "      <td>%</td>\n",
              "      <td>Crude Prevalence</td>\n",
              "      <td>64.7</td>\n",
              "      <td>64.7</td>\n",
              "      <td>62.8</td>\n",
              "      <td>66.5</td>\n",
              "    </tr>\n",
              "    <tr>\n",
              "      <th>441</th>\n",
              "      <td>2018-01-01</td>\n",
              "      <td>2018</td>\n",
              "      <td>OK</td>\n",
              "      <td>Oklahoma</td>\n",
              "      <td>BRFSS</td>\n",
              "      <td>Overarching Conditions</td>\n",
              "      <td>Prevalence of sufficient sleep among adults ag...</td>\n",
              "      <td>%</td>\n",
              "      <td>Crude Prevalence</td>\n",
              "      <td>52.9</td>\n",
              "      <td>52.9</td>\n",
              "      <td>45.6</td>\n",
              "      <td>60.1</td>\n",
              "    </tr>\n",
              "    <tr>\n",
              "      <th>966</th>\n",
              "      <td>2017-01-01</td>\n",
              "      <td>2017</td>\n",
              "      <td>MT</td>\n",
              "      <td>Montana</td>\n",
              "      <td>BRFSS</td>\n",
              "      <td>Overarching Conditions</td>\n",
              "      <td>Prevalence of sufficient sleep among adults ag...</td>\n",
              "      <td>%</td>\n",
              "      <td>Age-adjusted Prevalence</td>\n",
              "      <td>NaN</td>\n",
              "      <td>NaN</td>\n",
              "      <td>NaN</td>\n",
              "      <td>NaN</td>\n",
              "    </tr>\n",
              "    <tr>\n",
              "      <th>971</th>\n",
              "      <td>2017-01-01</td>\n",
              "      <td>2017</td>\n",
              "      <td>AL</td>\n",
              "      <td>Alabama</td>\n",
              "      <td>BRFSS</td>\n",
              "      <td>Overarching Conditions</td>\n",
              "      <td>Prevalence of sufficient sleep among adults ag...</td>\n",
              "      <td>%</td>\n",
              "      <td>Age-adjusted Prevalence</td>\n",
              "      <td>NaN</td>\n",
              "      <td>NaN</td>\n",
              "      <td>NaN</td>\n",
              "      <td>NaN</td>\n",
              "    </tr>\n",
              "  </tbody>\n",
              "</table>\n",
              "</div>"
            ],
            "text/plain": [
              "     yearstart yearend  ... lowconfidencelimit highconfidencelimit\n",
              "385 2018-01-01    2018  ...                NaN                 NaN\n",
              "438 2018-01-01    2018  ...               62.8                66.5\n",
              "441 2018-01-01    2018  ...               45.6                60.1\n",
              "966 2017-01-01    2017  ...                NaN                 NaN\n",
              "971 2017-01-01    2017  ...                NaN                 NaN\n",
              "\n",
              "[5 rows x 13 columns]"
            ]
          },
          "metadata": {
            "tags": []
          },
          "execution_count": 123
        }
      ]
    },
    {
      "cell_type": "code",
      "metadata": {
        "id": "ByVn4rASEaiI",
        "colab_type": "code",
        "colab": {
          "base_uri": "https://localhost:8080/",
          "height": 564
        },
        "outputId": "20f2b622-e7a3-4a71-ab57-59a031033b9a"
      },
      "source": [
        "#drop missing values from sleep DF\n",
        "sleep_clean_df = sleep_df.dropna()\n",
        "sleep_clean_df.head()"
      ],
      "execution_count": 126,
      "outputs": [
        {
          "output_type": "execute_result",
          "data": {
            "text/html": [
              "<div>\n",
              "<style scoped>\n",
              "    .dataframe tbody tr th:only-of-type {\n",
              "        vertical-align: middle;\n",
              "    }\n",
              "\n",
              "    .dataframe tbody tr th {\n",
              "        vertical-align: top;\n",
              "    }\n",
              "\n",
              "    .dataframe thead th {\n",
              "        text-align: right;\n",
              "    }\n",
              "</style>\n",
              "<table border=\"1\" class=\"dataframe\">\n",
              "  <thead>\n",
              "    <tr style=\"text-align: right;\">\n",
              "      <th></th>\n",
              "      <th>yearstart</th>\n",
              "      <th>yearend</th>\n",
              "      <th>locationabbr</th>\n",
              "      <th>locationdesc</th>\n",
              "      <th>datasource</th>\n",
              "      <th>topic</th>\n",
              "      <th>question</th>\n",
              "      <th>datavalueunit</th>\n",
              "      <th>datavaluetype</th>\n",
              "      <th>datavalue</th>\n",
              "      <th>datavaluealt</th>\n",
              "      <th>lowconfidencelimit</th>\n",
              "      <th>highconfidencelimit</th>\n",
              "    </tr>\n",
              "  </thead>\n",
              "  <tbody>\n",
              "    <tr>\n",
              "      <th>438</th>\n",
              "      <td>2018-01-01</td>\n",
              "      <td>2018</td>\n",
              "      <td>WY</td>\n",
              "      <td>Wyoming</td>\n",
              "      <td>BRFSS</td>\n",
              "      <td>Overarching Conditions</td>\n",
              "      <td>Prevalence of sufficient sleep among adults ag...</td>\n",
              "      <td>%</td>\n",
              "      <td>Crude Prevalence</td>\n",
              "      <td>64.7</td>\n",
              "      <td>64.7</td>\n",
              "      <td>62.8</td>\n",
              "      <td>66.5</td>\n",
              "    </tr>\n",
              "    <tr>\n",
              "      <th>441</th>\n",
              "      <td>2018-01-01</td>\n",
              "      <td>2018</td>\n",
              "      <td>OK</td>\n",
              "      <td>Oklahoma</td>\n",
              "      <td>BRFSS</td>\n",
              "      <td>Overarching Conditions</td>\n",
              "      <td>Prevalence of sufficient sleep among adults ag...</td>\n",
              "      <td>%</td>\n",
              "      <td>Crude Prevalence</td>\n",
              "      <td>52.9</td>\n",
              "      <td>52.9</td>\n",
              "      <td>45.6</td>\n",
              "      <td>60.1</td>\n",
              "    </tr>\n",
              "    <tr>\n",
              "      <th>1032</th>\n",
              "      <td>2017-01-01</td>\n",
              "      <td>2017</td>\n",
              "      <td>TN</td>\n",
              "      <td>Tennessee</td>\n",
              "      <td>BRFSS</td>\n",
              "      <td>Overarching Conditions</td>\n",
              "      <td>Prevalence of sufficient sleep among adults ag...</td>\n",
              "      <td>%</td>\n",
              "      <td>Age-adjusted Prevalence</td>\n",
              "      <td>59.7</td>\n",
              "      <td>59.7</td>\n",
              "      <td>56.4</td>\n",
              "      <td>63.0</td>\n",
              "    </tr>\n",
              "    <tr>\n",
              "      <th>1616</th>\n",
              "      <td>2016-01-01</td>\n",
              "      <td>2016</td>\n",
              "      <td>MT</td>\n",
              "      <td>Montana</td>\n",
              "      <td>BRFSS</td>\n",
              "      <td>Overarching Conditions</td>\n",
              "      <td>Prevalence of sufficient sleep among adults ag...</td>\n",
              "      <td>%</td>\n",
              "      <td>Age-adjusted Prevalence</td>\n",
              "      <td>70.6</td>\n",
              "      <td>70.6</td>\n",
              "      <td>68.5</td>\n",
              "      <td>72.6</td>\n",
              "    </tr>\n",
              "    <tr>\n",
              "      <th>1691</th>\n",
              "      <td>2016-01-01</td>\n",
              "      <td>2016</td>\n",
              "      <td>NE</td>\n",
              "      <td>Nebraska</td>\n",
              "      <td>BRFSS</td>\n",
              "      <td>Overarching Conditions</td>\n",
              "      <td>Prevalence of sufficient sleep among adults ag...</td>\n",
              "      <td>%</td>\n",
              "      <td>Age-adjusted Prevalence</td>\n",
              "      <td>67.2</td>\n",
              "      <td>67.2</td>\n",
              "      <td>65.4</td>\n",
              "      <td>68.9</td>\n",
              "    </tr>\n",
              "  </tbody>\n",
              "</table>\n",
              "</div>"
            ],
            "text/plain": [
              "      yearstart yearend  ... lowconfidencelimit highconfidencelimit\n",
              "438  2018-01-01    2018  ...               62.8                66.5\n",
              "441  2018-01-01    2018  ...               45.6                60.1\n",
              "1032 2017-01-01    2017  ...               56.4                63.0\n",
              "1616 2016-01-01    2016  ...               68.5                72.6\n",
              "1691 2016-01-01    2016  ...               65.4                68.9\n",
              "\n",
              "[5 rows x 13 columns]"
            ]
          },
          "metadata": {
            "tags": []
          },
          "execution_count": 126
        }
      ]
    },
    {
      "cell_type": "code",
      "metadata": {
        "id": "gTK0ooNOLYCV",
        "colab_type": "code",
        "colab": {
          "base_uri": "https://localhost:8080/",
          "height": 1000
        },
        "outputId": "7617311f-25ce-4ffe-c176-48419e81c9fd"
      },
      "source": [
        "#Subset the data by state for Prevalence of sufficient sleep among adults aged >= 18 years\n",
        "sleep_pivot = pd.pivot_table(sleep_clean_df, index=['locationabbr'])\n",
        "sleep_pivot"
      ],
      "execution_count": 127,
      "outputs": [
        {
          "output_type": "execute_result",
          "data": {
            "text/html": [
              "<div>\n",
              "<style scoped>\n",
              "    .dataframe tbody tr th:only-of-type {\n",
              "        vertical-align: middle;\n",
              "    }\n",
              "\n",
              "    .dataframe tbody tr th {\n",
              "        vertical-align: top;\n",
              "    }\n",
              "\n",
              "    .dataframe thead th {\n",
              "        text-align: right;\n",
              "    }\n",
              "</style>\n",
              "<table border=\"1\" class=\"dataframe\">\n",
              "  <thead>\n",
              "    <tr style=\"text-align: right;\">\n",
              "      <th></th>\n",
              "      <th>datavalue</th>\n",
              "    </tr>\n",
              "    <tr>\n",
              "      <th>locationabbr</th>\n",
              "      <th></th>\n",
              "    </tr>\n",
              "  </thead>\n",
              "  <tbody>\n",
              "    <tr>\n",
              "      <th>AK</th>\n",
              "      <td>64.250000</td>\n",
              "    </tr>\n",
              "    <tr>\n",
              "      <th>AL</th>\n",
              "      <td>54.225000</td>\n",
              "    </tr>\n",
              "    <tr>\n",
              "      <th>AR</th>\n",
              "      <td>58.100000</td>\n",
              "    </tr>\n",
              "    <tr>\n",
              "      <th>AZ</th>\n",
              "      <td>59.520000</td>\n",
              "    </tr>\n",
              "    <tr>\n",
              "      <th>CA</th>\n",
              "      <td>64.666667</td>\n",
              "    </tr>\n",
              "    <tr>\n",
              "      <th>CO</th>\n",
              "      <td>65.150000</td>\n",
              "    </tr>\n",
              "    <tr>\n",
              "      <th>CT</th>\n",
              "      <td>60.600000</td>\n",
              "    </tr>\n",
              "    <tr>\n",
              "      <th>DE</th>\n",
              "      <td>59.725000</td>\n",
              "    </tr>\n",
              "    <tr>\n",
              "      <th>FL</th>\n",
              "      <td>59.300000</td>\n",
              "    </tr>\n",
              "    <tr>\n",
              "      <th>GA</th>\n",
              "      <td>53.433333</td>\n",
              "    </tr>\n",
              "    <tr>\n",
              "      <th>GU</th>\n",
              "      <td>50.800000</td>\n",
              "    </tr>\n",
              "    <tr>\n",
              "      <th>HI</th>\n",
              "      <td>57.866667</td>\n",
              "    </tr>\n",
              "    <tr>\n",
              "      <th>IA</th>\n",
              "      <td>64.080000</td>\n",
              "    </tr>\n",
              "    <tr>\n",
              "      <th>ID</th>\n",
              "      <td>68.100000</td>\n",
              "    </tr>\n",
              "    <tr>\n",
              "      <th>IL</th>\n",
              "      <td>64.633333</td>\n",
              "    </tr>\n",
              "    <tr>\n",
              "      <th>IN</th>\n",
              "      <td>61.666667</td>\n",
              "    </tr>\n",
              "    <tr>\n",
              "      <th>KY</th>\n",
              "      <td>50.633333</td>\n",
              "    </tr>\n",
              "    <tr>\n",
              "      <th>LA</th>\n",
              "      <td>59.066667</td>\n",
              "    </tr>\n",
              "    <tr>\n",
              "      <th>MA</th>\n",
              "      <td>59.000000</td>\n",
              "    </tr>\n",
              "    <tr>\n",
              "      <th>MD</th>\n",
              "      <td>63.100000</td>\n",
              "    </tr>\n",
              "    <tr>\n",
              "      <th>ME</th>\n",
              "      <td>66.100000</td>\n",
              "    </tr>\n",
              "    <tr>\n",
              "      <th>MN</th>\n",
              "      <td>65.100000</td>\n",
              "    </tr>\n",
              "    <tr>\n",
              "      <th>MO</th>\n",
              "      <td>56.300000</td>\n",
              "    </tr>\n",
              "    <tr>\n",
              "      <th>MS</th>\n",
              "      <td>61.800000</td>\n",
              "    </tr>\n",
              "    <tr>\n",
              "      <th>MT</th>\n",
              "      <td>68.966667</td>\n",
              "    </tr>\n",
              "    <tr>\n",
              "      <th>NC</th>\n",
              "      <td>63.400000</td>\n",
              "    </tr>\n",
              "    <tr>\n",
              "      <th>ND</th>\n",
              "      <td>66.066667</td>\n",
              "    </tr>\n",
              "    <tr>\n",
              "      <th>NE</th>\n",
              "      <td>65.350000</td>\n",
              "    </tr>\n",
              "    <tr>\n",
              "      <th>NH</th>\n",
              "      <td>38.800000</td>\n",
              "    </tr>\n",
              "    <tr>\n",
              "      <th>NJ</th>\n",
              "      <td>61.150000</td>\n",
              "    </tr>\n",
              "    <tr>\n",
              "      <th>NM</th>\n",
              "      <td>66.250000</td>\n",
              "    </tr>\n",
              "    <tr>\n",
              "      <th>NV</th>\n",
              "      <td>58.225000</td>\n",
              "    </tr>\n",
              "    <tr>\n",
              "      <th>NY</th>\n",
              "      <td>62.000000</td>\n",
              "    </tr>\n",
              "    <tr>\n",
              "      <th>OH</th>\n",
              "      <td>60.300000</td>\n",
              "    </tr>\n",
              "    <tr>\n",
              "      <th>OK</th>\n",
              "      <td>56.950000</td>\n",
              "    </tr>\n",
              "    <tr>\n",
              "      <th>OR</th>\n",
              "      <td>61.650000</td>\n",
              "    </tr>\n",
              "    <tr>\n",
              "      <th>PA</th>\n",
              "      <td>55.625000</td>\n",
              "    </tr>\n",
              "    <tr>\n",
              "      <th>PR</th>\n",
              "      <td>61.100000</td>\n",
              "    </tr>\n",
              "    <tr>\n",
              "      <th>SC</th>\n",
              "      <td>61.900000</td>\n",
              "    </tr>\n",
              "    <tr>\n",
              "      <th>SD</th>\n",
              "      <td>68.800000</td>\n",
              "    </tr>\n",
              "    <tr>\n",
              "      <th>TN</th>\n",
              "      <td>61.975000</td>\n",
              "    </tr>\n",
              "    <tr>\n",
              "      <th>TX</th>\n",
              "      <td>61.400000</td>\n",
              "    </tr>\n",
              "    <tr>\n",
              "      <th>US</th>\n",
              "      <td>63.500000</td>\n",
              "    </tr>\n",
              "    <tr>\n",
              "      <th>UT</th>\n",
              "      <td>66.014286</td>\n",
              "    </tr>\n",
              "    <tr>\n",
              "      <th>VA</th>\n",
              "      <td>63.200000</td>\n",
              "    </tr>\n",
              "    <tr>\n",
              "      <th>VI</th>\n",
              "      <td>60.200000</td>\n",
              "    </tr>\n",
              "    <tr>\n",
              "      <th>VT</th>\n",
              "      <td>66.600000</td>\n",
              "    </tr>\n",
              "    <tr>\n",
              "      <th>WA</th>\n",
              "      <td>60.900000</td>\n",
              "    </tr>\n",
              "    <tr>\n",
              "      <th>WI</th>\n",
              "      <td>61.600000</td>\n",
              "    </tr>\n",
              "    <tr>\n",
              "      <th>WV</th>\n",
              "      <td>61.700000</td>\n",
              "    </tr>\n",
              "    <tr>\n",
              "      <th>WY</th>\n",
              "      <td>65.500000</td>\n",
              "    </tr>\n",
              "  </tbody>\n",
              "</table>\n",
              "</div>"
            ],
            "text/plain": [
              "              datavalue\n",
              "locationabbr           \n",
              "AK            64.250000\n",
              "AL            54.225000\n",
              "AR            58.100000\n",
              "AZ            59.520000\n",
              "CA            64.666667\n",
              "CO            65.150000\n",
              "CT            60.600000\n",
              "DE            59.725000\n",
              "FL            59.300000\n",
              "GA            53.433333\n",
              "GU            50.800000\n",
              "HI            57.866667\n",
              "IA            64.080000\n",
              "ID            68.100000\n",
              "IL            64.633333\n",
              "IN            61.666667\n",
              "KY            50.633333\n",
              "LA            59.066667\n",
              "MA            59.000000\n",
              "MD            63.100000\n",
              "ME            66.100000\n",
              "MN            65.100000\n",
              "MO            56.300000\n",
              "MS            61.800000\n",
              "MT            68.966667\n",
              "NC            63.400000\n",
              "ND            66.066667\n",
              "NE            65.350000\n",
              "NH            38.800000\n",
              "NJ            61.150000\n",
              "NM            66.250000\n",
              "NV            58.225000\n",
              "NY            62.000000\n",
              "OH            60.300000\n",
              "OK            56.950000\n",
              "OR            61.650000\n",
              "PA            55.625000\n",
              "PR            61.100000\n",
              "SC            61.900000\n",
              "SD            68.800000\n",
              "TN            61.975000\n",
              "TX            61.400000\n",
              "US            63.500000\n",
              "UT            66.014286\n",
              "VA            63.200000\n",
              "VI            60.200000\n",
              "VT            66.600000\n",
              "WA            60.900000\n",
              "WI            61.600000\n",
              "WV            61.700000\n",
              "WY            65.500000"
            ]
          },
          "metadata": {
            "tags": []
          },
          "execution_count": 127
        }
      ]
    },
    {
      "cell_type": "code",
      "metadata": {
        "id": "NXm5VlbiB8lM",
        "colab_type": "code",
        "colab": {
          "base_uri": "https://localhost:8080/",
          "height": 649
        },
        "outputId": "a335dc8d-acd8-4133-e421-553c00dd07a5"
      },
      "source": [
        "#Subset the data for Recent activity limitation among adults aged >= 18 years\n",
        "activity_df = oc_clean_df[(oc_clean_df['question']=='Recent activity limitation among adults aged >= 18 years') & (oc_clean_df['datavalueunit']=='Number')]\n",
        "activity_df.head()"
      ],
      "execution_count": 128,
      "outputs": [
        {
          "output_type": "execute_result",
          "data": {
            "text/html": [
              "<div>\n",
              "<style scoped>\n",
              "    .dataframe tbody tr th:only-of-type {\n",
              "        vertical-align: middle;\n",
              "    }\n",
              "\n",
              "    .dataframe tbody tr th {\n",
              "        vertical-align: top;\n",
              "    }\n",
              "\n",
              "    .dataframe thead th {\n",
              "        text-align: right;\n",
              "    }\n",
              "</style>\n",
              "<table border=\"1\" class=\"dataframe\">\n",
              "  <thead>\n",
              "    <tr style=\"text-align: right;\">\n",
              "      <th></th>\n",
              "      <th>yearstart</th>\n",
              "      <th>yearend</th>\n",
              "      <th>locationabbr</th>\n",
              "      <th>locationdesc</th>\n",
              "      <th>datasource</th>\n",
              "      <th>topic</th>\n",
              "      <th>question</th>\n",
              "      <th>datavalueunit</th>\n",
              "      <th>datavaluetype</th>\n",
              "      <th>datavalue</th>\n",
              "      <th>datavaluealt</th>\n",
              "      <th>lowconfidencelimit</th>\n",
              "      <th>highconfidencelimit</th>\n",
              "    </tr>\n",
              "  </thead>\n",
              "  <tbody>\n",
              "    <tr>\n",
              "      <th>370</th>\n",
              "      <td>2018-01-01</td>\n",
              "      <td>2018</td>\n",
              "      <td>VI</td>\n",
              "      <td>Virgin Islands</td>\n",
              "      <td>BRFSS</td>\n",
              "      <td>Overarching Conditions</td>\n",
              "      <td>Recent activity limitation among adults aged &gt;...</td>\n",
              "      <td>Number</td>\n",
              "      <td>Mean</td>\n",
              "      <td>NaN</td>\n",
              "      <td>NaN</td>\n",
              "      <td>NaN</td>\n",
              "      <td>NaN</td>\n",
              "    </tr>\n",
              "    <tr>\n",
              "      <th>380</th>\n",
              "      <td>2018-01-01</td>\n",
              "      <td>2018</td>\n",
              "      <td>KS</td>\n",
              "      <td>Kansas</td>\n",
              "      <td>BRFSS</td>\n",
              "      <td>Overarching Conditions</td>\n",
              "      <td>Recent activity limitation among adults aged &gt;...</td>\n",
              "      <td>Number</td>\n",
              "      <td>Mean</td>\n",
              "      <td>2.5</td>\n",
              "      <td>2.5</td>\n",
              "      <td>2.3</td>\n",
              "      <td>2.7</td>\n",
              "    </tr>\n",
              "    <tr>\n",
              "      <th>396</th>\n",
              "      <td>2018-01-01</td>\n",
              "      <td>2018</td>\n",
              "      <td>DE</td>\n",
              "      <td>Delaware</td>\n",
              "      <td>BRFSS</td>\n",
              "      <td>Overarching Conditions</td>\n",
              "      <td>Recent activity limitation among adults aged &gt;...</td>\n",
              "      <td>Number</td>\n",
              "      <td>Mean</td>\n",
              "      <td>2.2</td>\n",
              "      <td>2.2</td>\n",
              "      <td>1.8</td>\n",
              "      <td>2.5</td>\n",
              "    </tr>\n",
              "    <tr>\n",
              "      <th>412</th>\n",
              "      <td>2018-01-01</td>\n",
              "      <td>2018</td>\n",
              "      <td>CA</td>\n",
              "      <td>California</td>\n",
              "      <td>BRFSS</td>\n",
              "      <td>Overarching Conditions</td>\n",
              "      <td>Recent activity limitation among adults aged &gt;...</td>\n",
              "      <td>Number</td>\n",
              "      <td>Mean</td>\n",
              "      <td>2.9</td>\n",
              "      <td>2.9</td>\n",
              "      <td>2.6</td>\n",
              "      <td>3.1</td>\n",
              "    </tr>\n",
              "    <tr>\n",
              "      <th>422</th>\n",
              "      <td>2018-01-01</td>\n",
              "      <td>2018</td>\n",
              "      <td>GU</td>\n",
              "      <td>Guam</td>\n",
              "      <td>BRFSS</td>\n",
              "      <td>Overarching Conditions</td>\n",
              "      <td>Recent activity limitation among adults aged &gt;...</td>\n",
              "      <td>Number</td>\n",
              "      <td>Mean</td>\n",
              "      <td>2.4</td>\n",
              "      <td>2.4</td>\n",
              "      <td>1.6</td>\n",
              "      <td>3.2</td>\n",
              "    </tr>\n",
              "  </tbody>\n",
              "</table>\n",
              "</div>"
            ],
            "text/plain": [
              "     yearstart yearend  ... lowconfidencelimit highconfidencelimit\n",
              "370 2018-01-01    2018  ...                NaN                 NaN\n",
              "380 2018-01-01    2018  ...                2.3                 2.7\n",
              "396 2018-01-01    2018  ...                1.8                 2.5\n",
              "412 2018-01-01    2018  ...                2.6                 3.1\n",
              "422 2018-01-01    2018  ...                1.6                 3.2\n",
              "\n",
              "[5 rows x 13 columns]"
            ]
          },
          "metadata": {
            "tags": []
          },
          "execution_count": 128
        }
      ]
    },
    {
      "cell_type": "code",
      "metadata": {
        "id": "fXYM_MwQExj6",
        "colab_type": "code",
        "colab": {
          "base_uri": "https://localhost:8080/",
          "height": 649
        },
        "outputId": "1df46b7e-5fc4-4a66-f11b-d911d8e5aa08"
      },
      "source": [
        "#drop missing values from activity DF\n",
        "activity_clean_df = activity_df.dropna()\n",
        "activity_clean_df.head()"
      ],
      "execution_count": 130,
      "outputs": [
        {
          "output_type": "execute_result",
          "data": {
            "text/html": [
              "<div>\n",
              "<style scoped>\n",
              "    .dataframe tbody tr th:only-of-type {\n",
              "        vertical-align: middle;\n",
              "    }\n",
              "\n",
              "    .dataframe tbody tr th {\n",
              "        vertical-align: top;\n",
              "    }\n",
              "\n",
              "    .dataframe thead th {\n",
              "        text-align: right;\n",
              "    }\n",
              "</style>\n",
              "<table border=\"1\" class=\"dataframe\">\n",
              "  <thead>\n",
              "    <tr style=\"text-align: right;\">\n",
              "      <th></th>\n",
              "      <th>yearstart</th>\n",
              "      <th>yearend</th>\n",
              "      <th>locationabbr</th>\n",
              "      <th>locationdesc</th>\n",
              "      <th>datasource</th>\n",
              "      <th>topic</th>\n",
              "      <th>question</th>\n",
              "      <th>datavalueunit</th>\n",
              "      <th>datavaluetype</th>\n",
              "      <th>datavalue</th>\n",
              "      <th>datavaluealt</th>\n",
              "      <th>lowconfidencelimit</th>\n",
              "      <th>highconfidencelimit</th>\n",
              "    </tr>\n",
              "  </thead>\n",
              "  <tbody>\n",
              "    <tr>\n",
              "      <th>380</th>\n",
              "      <td>2018-01-01</td>\n",
              "      <td>2018</td>\n",
              "      <td>KS</td>\n",
              "      <td>Kansas</td>\n",
              "      <td>BRFSS</td>\n",
              "      <td>Overarching Conditions</td>\n",
              "      <td>Recent activity limitation among adults aged &gt;...</td>\n",
              "      <td>Number</td>\n",
              "      <td>Mean</td>\n",
              "      <td>2.5</td>\n",
              "      <td>2.5</td>\n",
              "      <td>2.3</td>\n",
              "      <td>2.7</td>\n",
              "    </tr>\n",
              "    <tr>\n",
              "      <th>396</th>\n",
              "      <td>2018-01-01</td>\n",
              "      <td>2018</td>\n",
              "      <td>DE</td>\n",
              "      <td>Delaware</td>\n",
              "      <td>BRFSS</td>\n",
              "      <td>Overarching Conditions</td>\n",
              "      <td>Recent activity limitation among adults aged &gt;...</td>\n",
              "      <td>Number</td>\n",
              "      <td>Mean</td>\n",
              "      <td>2.2</td>\n",
              "      <td>2.2</td>\n",
              "      <td>1.8</td>\n",
              "      <td>2.5</td>\n",
              "    </tr>\n",
              "    <tr>\n",
              "      <th>412</th>\n",
              "      <td>2018-01-01</td>\n",
              "      <td>2018</td>\n",
              "      <td>CA</td>\n",
              "      <td>California</td>\n",
              "      <td>BRFSS</td>\n",
              "      <td>Overarching Conditions</td>\n",
              "      <td>Recent activity limitation among adults aged &gt;...</td>\n",
              "      <td>Number</td>\n",
              "      <td>Mean</td>\n",
              "      <td>2.9</td>\n",
              "      <td>2.9</td>\n",
              "      <td>2.6</td>\n",
              "      <td>3.1</td>\n",
              "    </tr>\n",
              "    <tr>\n",
              "      <th>422</th>\n",
              "      <td>2018-01-01</td>\n",
              "      <td>2018</td>\n",
              "      <td>GU</td>\n",
              "      <td>Guam</td>\n",
              "      <td>BRFSS</td>\n",
              "      <td>Overarching Conditions</td>\n",
              "      <td>Recent activity limitation among adults aged &gt;...</td>\n",
              "      <td>Number</td>\n",
              "      <td>Mean</td>\n",
              "      <td>2.4</td>\n",
              "      <td>2.4</td>\n",
              "      <td>1.6</td>\n",
              "      <td>3.2</td>\n",
              "    </tr>\n",
              "    <tr>\n",
              "      <th>439</th>\n",
              "      <td>2018-01-01</td>\n",
              "      <td>2018</td>\n",
              "      <td>MT</td>\n",
              "      <td>Montana</td>\n",
              "      <td>BRFSS</td>\n",
              "      <td>Overarching Conditions</td>\n",
              "      <td>Recent activity limitation among adults aged &gt;...</td>\n",
              "      <td>Number</td>\n",
              "      <td>Mean</td>\n",
              "      <td>1.6</td>\n",
              "      <td>1.6</td>\n",
              "      <td>0.7</td>\n",
              "      <td>2.5</td>\n",
              "    </tr>\n",
              "  </tbody>\n",
              "</table>\n",
              "</div>"
            ],
            "text/plain": [
              "     yearstart yearend  ... lowconfidencelimit highconfidencelimit\n",
              "380 2018-01-01    2018  ...                2.3                 2.7\n",
              "396 2018-01-01    2018  ...                1.8                 2.5\n",
              "412 2018-01-01    2018  ...                2.6                 3.1\n",
              "422 2018-01-01    2018  ...                1.6                 3.2\n",
              "439 2018-01-01    2018  ...                0.7                 2.5\n",
              "\n",
              "[5 rows x 13 columns]"
            ]
          },
          "metadata": {
            "tags": []
          },
          "execution_count": 130
        }
      ]
    },
    {
      "cell_type": "code",
      "metadata": {
        "id": "v1lX6Y3dCKSV",
        "colab_type": "code",
        "colab": {
          "base_uri": "https://localhost:8080/",
          "height": 1000
        },
        "outputId": "2bdf16ad-ee56-478e-9f72-e8ef52f3328a"
      },
      "source": [
        "#Subset the data by state for Recent activity limitation among adults aged >= 18 years\n",
        "activity_pivot = pd.pivot_table(activity_clean_df, index=['locationabbr'])\n",
        "activity_pivot"
      ],
      "execution_count": 131,
      "outputs": [
        {
          "output_type": "execute_result",
          "data": {
            "text/html": [
              "<div>\n",
              "<style scoped>\n",
              "    .dataframe tbody tr th:only-of-type {\n",
              "        vertical-align: middle;\n",
              "    }\n",
              "\n",
              "    .dataframe tbody tr th {\n",
              "        vertical-align: top;\n",
              "    }\n",
              "\n",
              "    .dataframe thead th {\n",
              "        text-align: right;\n",
              "    }\n",
              "</style>\n",
              "<table border=\"1\" class=\"dataframe\">\n",
              "  <thead>\n",
              "    <tr style=\"text-align: right;\">\n",
              "      <th></th>\n",
              "      <th>datavalue</th>\n",
              "    </tr>\n",
              "    <tr>\n",
              "      <th>locationabbr</th>\n",
              "      <th></th>\n",
              "    </tr>\n",
              "  </thead>\n",
              "  <tbody>\n",
              "    <tr>\n",
              "      <th>AK</th>\n",
              "      <td>1.950000</td>\n",
              "    </tr>\n",
              "    <tr>\n",
              "      <th>AL</th>\n",
              "      <td>3.100000</td>\n",
              "    </tr>\n",
              "    <tr>\n",
              "      <th>AR</th>\n",
              "      <td>3.600000</td>\n",
              "    </tr>\n",
              "    <tr>\n",
              "      <th>AZ</th>\n",
              "      <td>2.800000</td>\n",
              "    </tr>\n",
              "    <tr>\n",
              "      <th>CA</th>\n",
              "      <td>2.166667</td>\n",
              "    </tr>\n",
              "    <tr>\n",
              "      <th>CO</th>\n",
              "      <td>2.233333</td>\n",
              "    </tr>\n",
              "    <tr>\n",
              "      <th>CT</th>\n",
              "      <td>2.200000</td>\n",
              "    </tr>\n",
              "    <tr>\n",
              "      <th>DE</th>\n",
              "      <td>2.233333</td>\n",
              "    </tr>\n",
              "    <tr>\n",
              "      <th>FL</th>\n",
              "      <td>3.450000</td>\n",
              "    </tr>\n",
              "    <tr>\n",
              "      <th>GU</th>\n",
              "      <td>2.580000</td>\n",
              "    </tr>\n",
              "    <tr>\n",
              "      <th>HI</th>\n",
              "      <td>2.580000</td>\n",
              "    </tr>\n",
              "    <tr>\n",
              "      <th>IA</th>\n",
              "      <td>1.650000</td>\n",
              "    </tr>\n",
              "    <tr>\n",
              "      <th>ID</th>\n",
              "      <td>2.100000</td>\n",
              "    </tr>\n",
              "    <tr>\n",
              "      <th>IL</th>\n",
              "      <td>2.300000</td>\n",
              "    </tr>\n",
              "    <tr>\n",
              "      <th>IN</th>\n",
              "      <td>2.900000</td>\n",
              "    </tr>\n",
              "    <tr>\n",
              "      <th>KS</th>\n",
              "      <td>2.650000</td>\n",
              "    </tr>\n",
              "    <tr>\n",
              "      <th>KY</th>\n",
              "      <td>3.300000</td>\n",
              "    </tr>\n",
              "    <tr>\n",
              "      <th>LA</th>\n",
              "      <td>2.800000</td>\n",
              "    </tr>\n",
              "    <tr>\n",
              "      <th>MA</th>\n",
              "      <td>2.000000</td>\n",
              "    </tr>\n",
              "    <tr>\n",
              "      <th>MD</th>\n",
              "      <td>1.100000</td>\n",
              "    </tr>\n",
              "    <tr>\n",
              "      <th>ME</th>\n",
              "      <td>2.600000</td>\n",
              "    </tr>\n",
              "    <tr>\n",
              "      <th>MI</th>\n",
              "      <td>2.900000</td>\n",
              "    </tr>\n",
              "    <tr>\n",
              "      <th>MN</th>\n",
              "      <td>1.800000</td>\n",
              "    </tr>\n",
              "    <tr>\n",
              "      <th>MO</th>\n",
              "      <td>2.800000</td>\n",
              "    </tr>\n",
              "    <tr>\n",
              "      <th>MS</th>\n",
              "      <td>3.766667</td>\n",
              "    </tr>\n",
              "    <tr>\n",
              "      <th>MT</th>\n",
              "      <td>2.700000</td>\n",
              "    </tr>\n",
              "    <tr>\n",
              "      <th>NC</th>\n",
              "      <td>2.300000</td>\n",
              "    </tr>\n",
              "    <tr>\n",
              "      <th>ND</th>\n",
              "      <td>1.800000</td>\n",
              "    </tr>\n",
              "    <tr>\n",
              "      <th>NE</th>\n",
              "      <td>1.600000</td>\n",
              "    </tr>\n",
              "    <tr>\n",
              "      <th>NH</th>\n",
              "      <td>3.266667</td>\n",
              "    </tr>\n",
              "    <tr>\n",
              "      <th>NJ</th>\n",
              "      <td>3.300000</td>\n",
              "    </tr>\n",
              "    <tr>\n",
              "      <th>NV</th>\n",
              "      <td>2.550000</td>\n",
              "    </tr>\n",
              "    <tr>\n",
              "      <th>NY</th>\n",
              "      <td>2.600000</td>\n",
              "    </tr>\n",
              "    <tr>\n",
              "      <th>OH</th>\n",
              "      <td>2.200000</td>\n",
              "    </tr>\n",
              "    <tr>\n",
              "      <th>OK</th>\n",
              "      <td>3.000000</td>\n",
              "    </tr>\n",
              "    <tr>\n",
              "      <th>OR</th>\n",
              "      <td>2.633333</td>\n",
              "    </tr>\n",
              "    <tr>\n",
              "      <th>PA</th>\n",
              "      <td>3.000000</td>\n",
              "    </tr>\n",
              "    <tr>\n",
              "      <th>SD</th>\n",
              "      <td>2.240000</td>\n",
              "    </tr>\n",
              "    <tr>\n",
              "      <th>TN</th>\n",
              "      <td>3.933333</td>\n",
              "    </tr>\n",
              "    <tr>\n",
              "      <th>TX</th>\n",
              "      <td>1.966667</td>\n",
              "    </tr>\n",
              "    <tr>\n",
              "      <th>US</th>\n",
              "      <td>2.450000</td>\n",
              "    </tr>\n",
              "    <tr>\n",
              "      <th>UT</th>\n",
              "      <td>2.200000</td>\n",
              "    </tr>\n",
              "    <tr>\n",
              "      <th>VA</th>\n",
              "      <td>1.800000</td>\n",
              "    </tr>\n",
              "    <tr>\n",
              "      <th>VI</th>\n",
              "      <td>1.750000</td>\n",
              "    </tr>\n",
              "    <tr>\n",
              "      <th>WA</th>\n",
              "      <td>2.900000</td>\n",
              "    </tr>\n",
              "    <tr>\n",
              "      <th>WI</th>\n",
              "      <td>2.500000</td>\n",
              "    </tr>\n",
              "    <tr>\n",
              "      <th>WV</th>\n",
              "      <td>3.600000</td>\n",
              "    </tr>\n",
              "    <tr>\n",
              "      <th>WY</th>\n",
              "      <td>2.400000</td>\n",
              "    </tr>\n",
              "  </tbody>\n",
              "</table>\n",
              "</div>"
            ],
            "text/plain": [
              "              datavalue\n",
              "locationabbr           \n",
              "AK             1.950000\n",
              "AL             3.100000\n",
              "AR             3.600000\n",
              "AZ             2.800000\n",
              "CA             2.166667\n",
              "CO             2.233333\n",
              "CT             2.200000\n",
              "DE             2.233333\n",
              "FL             3.450000\n",
              "GU             2.580000\n",
              "HI             2.580000\n",
              "IA             1.650000\n",
              "ID             2.100000\n",
              "IL             2.300000\n",
              "IN             2.900000\n",
              "KS             2.650000\n",
              "KY             3.300000\n",
              "LA             2.800000\n",
              "MA             2.000000\n",
              "MD             1.100000\n",
              "ME             2.600000\n",
              "MI             2.900000\n",
              "MN             1.800000\n",
              "MO             2.800000\n",
              "MS             3.766667\n",
              "MT             2.700000\n",
              "NC             2.300000\n",
              "ND             1.800000\n",
              "NE             1.600000\n",
              "NH             3.266667\n",
              "NJ             3.300000\n",
              "NV             2.550000\n",
              "NY             2.600000\n",
              "OH             2.200000\n",
              "OK             3.000000\n",
              "OR             2.633333\n",
              "PA             3.000000\n",
              "SD             2.240000\n",
              "TN             3.933333\n",
              "TX             1.966667\n",
              "US             2.450000\n",
              "UT             2.200000\n",
              "VA             1.800000\n",
              "VI             1.750000\n",
              "WA             2.900000\n",
              "WI             2.500000\n",
              "WV             3.600000\n",
              "WY             2.400000"
            ]
          },
          "metadata": {
            "tags": []
          },
          "execution_count": 131
        }
      ]
    },
    {
      "cell_type": "code",
      "metadata": {
        "id": "J0ujNSN6CWyN",
        "colab_type": "code",
        "colab": {
          "base_uri": "https://localhost:8080/",
          "height": 649
        },
        "outputId": "10233c43-a2a5-4c7d-8885-78b6684e0898"
      },
      "source": [
        "#Subset the data for Premature mortality among adults aged 45-64 years\n",
        "premort_df = oc_clean_df[(oc_clean_df['question']=='Premature mortality among adults aged 45-64 years') & (oc_clean_df['datavaluetype']=='Number')]\n",
        "premort_df.head()"
      ],
      "execution_count": 114,
      "outputs": [
        {
          "output_type": "execute_result",
          "data": {
            "text/html": [
              "<div>\n",
              "<style scoped>\n",
              "    .dataframe tbody tr th:only-of-type {\n",
              "        vertical-align: middle;\n",
              "    }\n",
              "\n",
              "    .dataframe tbody tr th {\n",
              "        vertical-align: top;\n",
              "    }\n",
              "\n",
              "    .dataframe thead th {\n",
              "        text-align: right;\n",
              "    }\n",
              "</style>\n",
              "<table border=\"1\" class=\"dataframe\">\n",
              "  <thead>\n",
              "    <tr style=\"text-align: right;\">\n",
              "      <th></th>\n",
              "      <th>yearstart</th>\n",
              "      <th>yearend</th>\n",
              "      <th>locationabbr</th>\n",
              "      <th>locationdesc</th>\n",
              "      <th>datasource</th>\n",
              "      <th>topic</th>\n",
              "      <th>question</th>\n",
              "      <th>datavalueunit</th>\n",
              "      <th>datavaluetype</th>\n",
              "      <th>datavalue</th>\n",
              "      <th>datavaluealt</th>\n",
              "      <th>lowconfidencelimit</th>\n",
              "      <th>highconfidencelimit</th>\n",
              "    </tr>\n",
              "  </thead>\n",
              "  <tbody>\n",
              "    <tr>\n",
              "      <th>122</th>\n",
              "      <td>2016-01-01</td>\n",
              "      <td>2016</td>\n",
              "      <td>OK</td>\n",
              "      <td>Oklahoma</td>\n",
              "      <td>NVSS</td>\n",
              "      <td>Overarching Conditions</td>\n",
              "      <td>Premature mortality among adults aged 45-64 years</td>\n",
              "      <td>Number</td>\n",
              "      <td>Number</td>\n",
              "      <td>69.0</td>\n",
              "      <td>69</td>\n",
              "      <td>NaN</td>\n",
              "      <td>NaN</td>\n",
              "    </tr>\n",
              "    <tr>\n",
              "      <th>1042</th>\n",
              "      <td>2017-01-01</td>\n",
              "      <td>2017</td>\n",
              "      <td>CO</td>\n",
              "      <td>Colorado</td>\n",
              "      <td>NVSS</td>\n",
              "      <td>Overarching Conditions</td>\n",
              "      <td>Premature mortality among adults aged 45-64 years</td>\n",
              "      <td>Number</td>\n",
              "      <td>Number</td>\n",
              "      <td>7437.0</td>\n",
              "      <td>7437</td>\n",
              "      <td>NaN</td>\n",
              "      <td>NaN</td>\n",
              "    </tr>\n",
              "    <tr>\n",
              "      <th>1071</th>\n",
              "      <td>2017-01-01</td>\n",
              "      <td>2017</td>\n",
              "      <td>UT</td>\n",
              "      <td>Utah</td>\n",
              "      <td>NVSS</td>\n",
              "      <td>Overarching Conditions</td>\n",
              "      <td>Premature mortality among adults aged 45-64 years</td>\n",
              "      <td>Number</td>\n",
              "      <td>Number</td>\n",
              "      <td>87.0</td>\n",
              "      <td>87</td>\n",
              "      <td>NaN</td>\n",
              "      <td>NaN</td>\n",
              "    </tr>\n",
              "    <tr>\n",
              "      <th>1074</th>\n",
              "      <td>2017-01-01</td>\n",
              "      <td>2017</td>\n",
              "      <td>NE</td>\n",
              "      <td>Nebraska</td>\n",
              "      <td>NVSS</td>\n",
              "      <td>Overarching Conditions</td>\n",
              "      <td>Premature mortality among adults aged 45-64 years</td>\n",
              "      <td>Number</td>\n",
              "      <td>Number</td>\n",
              "      <td>2743.0</td>\n",
              "      <td>2743</td>\n",
              "      <td>NaN</td>\n",
              "      <td>NaN</td>\n",
              "    </tr>\n",
              "    <tr>\n",
              "      <th>1088</th>\n",
              "      <td>2017-01-01</td>\n",
              "      <td>2017</td>\n",
              "      <td>AK</td>\n",
              "      <td>Alaska</td>\n",
              "      <td>NVSS</td>\n",
              "      <td>Overarching Conditions</td>\n",
              "      <td>Premature mortality among adults aged 45-64 years</td>\n",
              "      <td>Number</td>\n",
              "      <td>Number</td>\n",
              "      <td>701.0</td>\n",
              "      <td>701</td>\n",
              "      <td>NaN</td>\n",
              "      <td>NaN</td>\n",
              "    </tr>\n",
              "  </tbody>\n",
              "</table>\n",
              "</div>"
            ],
            "text/plain": [
              "      yearstart yearend  ... lowconfidencelimit highconfidencelimit\n",
              "122  2016-01-01    2016  ...                NaN                 NaN\n",
              "1042 2017-01-01    2017  ...                NaN                 NaN\n",
              "1071 2017-01-01    2017  ...                NaN                 NaN\n",
              "1074 2017-01-01    2017  ...                NaN                 NaN\n",
              "1088 2017-01-01    2017  ...                NaN                 NaN\n",
              "\n",
              "[5 rows x 13 columns]"
            ]
          },
          "metadata": {
            "tags": []
          },
          "execution_count": 114
        }
      ]
    },
    {
      "cell_type": "code",
      "metadata": {
        "id": "JTPsKp4xFAeA",
        "colab_type": "code",
        "colab": {
          "base_uri": "https://localhost:8080/",
          "height": 69
        },
        "outputId": "9fff51b6-71dc-4fae-9c11-6047c3b9d23d"
      },
      "source": [
        "#drop missing values from premort DF\n",
        "premort_clean_df = premort_df.dropna()\n",
        "premort_clean_df.head()"
      ],
      "execution_count": 134,
      "outputs": [
        {
          "output_type": "execute_result",
          "data": {
            "text/html": [
              "<div>\n",
              "<style scoped>\n",
              "    .dataframe tbody tr th:only-of-type {\n",
              "        vertical-align: middle;\n",
              "    }\n",
              "\n",
              "    .dataframe tbody tr th {\n",
              "        vertical-align: top;\n",
              "    }\n",
              "\n",
              "    .dataframe thead th {\n",
              "        text-align: right;\n",
              "    }\n",
              "</style>\n",
              "<table border=\"1\" class=\"dataframe\">\n",
              "  <thead>\n",
              "    <tr style=\"text-align: right;\">\n",
              "      <th></th>\n",
              "      <th>yearstart</th>\n",
              "      <th>yearend</th>\n",
              "      <th>locationabbr</th>\n",
              "      <th>locationdesc</th>\n",
              "      <th>datasource</th>\n",
              "      <th>topic</th>\n",
              "      <th>question</th>\n",
              "      <th>datavalueunit</th>\n",
              "      <th>datavaluetype</th>\n",
              "      <th>datavalue</th>\n",
              "      <th>datavaluealt</th>\n",
              "      <th>lowconfidencelimit</th>\n",
              "      <th>highconfidencelimit</th>\n",
              "    </tr>\n",
              "  </thead>\n",
              "  <tbody>\n",
              "  </tbody>\n",
              "</table>\n",
              "</div>"
            ],
            "text/plain": [
              "Empty DataFrame\n",
              "Columns: [yearstart, yearend, locationabbr, locationdesc, datasource, topic, question, datavalueunit, datavaluetype, datavalue, datavaluealt, lowconfidencelimit, highconfidencelimit]\n",
              "Index: []"
            ]
          },
          "metadata": {
            "tags": []
          },
          "execution_count": 134
        }
      ]
    },
    {
      "cell_type": "code",
      "metadata": {
        "id": "1tTYAZYKL-sm",
        "colab_type": "code",
        "colab": {
          "base_uri": "https://localhost:8080/",
          "height": 1000
        },
        "outputId": "91bcc886-7ebd-4490-e6fa-b0a8cfe1aa37"
      },
      "source": [
        "#Subset the data by state for Premature mortality among adults aged 45-64 years\n",
        "premort_pivot = pd.pivot_table(premort_df, index=['locationabbr'])\n",
        "premort_pivot"
      ],
      "execution_count": 135,
      "outputs": [
        {
          "output_type": "execute_result",
          "data": {
            "text/html": [
              "<div>\n",
              "<style scoped>\n",
              "    .dataframe tbody tr th:only-of-type {\n",
              "        vertical-align: middle;\n",
              "    }\n",
              "\n",
              "    .dataframe tbody tr th {\n",
              "        vertical-align: top;\n",
              "    }\n",
              "\n",
              "    .dataframe thead th {\n",
              "        text-align: right;\n",
              "    }\n",
              "</style>\n",
              "<table border=\"1\" class=\"dataframe\">\n",
              "  <thead>\n",
              "    <tr style=\"text-align: right;\">\n",
              "      <th></th>\n",
              "      <th>datavalue</th>\n",
              "    </tr>\n",
              "    <tr>\n",
              "      <th>locationabbr</th>\n",
              "      <th></th>\n",
              "    </tr>\n",
              "  </thead>\n",
              "  <tbody>\n",
              "    <tr>\n",
              "      <th>AK</th>\n",
              "      <td>378.000000</td>\n",
              "    </tr>\n",
              "    <tr>\n",
              "      <th>AL</th>\n",
              "      <td>1515.333333</td>\n",
              "    </tr>\n",
              "    <tr>\n",
              "      <th>AR</th>\n",
              "      <td>2018.000000</td>\n",
              "    </tr>\n",
              "    <tr>\n",
              "      <th>AZ</th>\n",
              "      <td>2105.750000</td>\n",
              "    </tr>\n",
              "    <tr>\n",
              "      <th>CO</th>\n",
              "      <td>5289.666667</td>\n",
              "    </tr>\n",
              "    <tr>\n",
              "      <th>CT</th>\n",
              "      <td>558.000000</td>\n",
              "    </tr>\n",
              "    <tr>\n",
              "      <th>DE</th>\n",
              "      <td>1612.000000</td>\n",
              "    </tr>\n",
              "    <tr>\n",
              "      <th>FL</th>\n",
              "      <td>12716.000000</td>\n",
              "    </tr>\n",
              "    <tr>\n",
              "      <th>GA</th>\n",
              "      <td>8732.000000</td>\n",
              "    </tr>\n",
              "    <tr>\n",
              "      <th>HI</th>\n",
              "      <td>115.000000</td>\n",
              "    </tr>\n",
              "    <tr>\n",
              "      <th>IA</th>\n",
              "      <td>4641.000000</td>\n",
              "    </tr>\n",
              "    <tr>\n",
              "      <th>ID</th>\n",
              "      <td>1358.000000</td>\n",
              "    </tr>\n",
              "    <tr>\n",
              "      <th>IL</th>\n",
              "      <td>13493.000000</td>\n",
              "    </tr>\n",
              "    <tr>\n",
              "      <th>IN</th>\n",
              "      <td>3037.500000</td>\n",
              "    </tr>\n",
              "    <tr>\n",
              "      <th>KS</th>\n",
              "      <td>4006.000000</td>\n",
              "    </tr>\n",
              "    <tr>\n",
              "      <th>LA</th>\n",
              "      <td>4126.000000</td>\n",
              "    </tr>\n",
              "    <tr>\n",
              "      <th>MD</th>\n",
              "      <td>3127.500000</td>\n",
              "    </tr>\n",
              "    <tr>\n",
              "      <th>ME</th>\n",
              "      <td>1539.000000</td>\n",
              "    </tr>\n",
              "    <tr>\n",
              "      <th>MI</th>\n",
              "      <td>7527.000000</td>\n",
              "    </tr>\n",
              "    <tr>\n",
              "      <th>MN</th>\n",
              "      <td>135.000000</td>\n",
              "    </tr>\n",
              "    <tr>\n",
              "      <th>MO</th>\n",
              "      <td>29.000000</td>\n",
              "    </tr>\n",
              "    <tr>\n",
              "      <th>MS</th>\n",
              "      <td>1038.666667</td>\n",
              "    </tr>\n",
              "    <tr>\n",
              "      <th>MT</th>\n",
              "      <td>1541.000000</td>\n",
              "    </tr>\n",
              "    <tr>\n",
              "      <th>NC</th>\n",
              "      <td>4701.000000</td>\n",
              "    </tr>\n",
              "    <tr>\n",
              "      <th>NE</th>\n",
              "      <td>2743.000000</td>\n",
              "    </tr>\n",
              "    <tr>\n",
              "      <th>NH</th>\n",
              "      <td>1467.500000</td>\n",
              "    </tr>\n",
              "    <tr>\n",
              "      <th>NJ</th>\n",
              "      <td>7933.000000</td>\n",
              "    </tr>\n",
              "    <tr>\n",
              "      <th>NM</th>\n",
              "      <td>1226.666667</td>\n",
              "    </tr>\n",
              "    <tr>\n",
              "      <th>NV</th>\n",
              "      <td>1726.666667</td>\n",
              "    </tr>\n",
              "    <tr>\n",
              "      <th>NY</th>\n",
              "      <td>10764.000000</td>\n",
              "    </tr>\n",
              "    <tr>\n",
              "      <th>OH</th>\n",
              "      <td>240.000000</td>\n",
              "    </tr>\n",
              "    <tr>\n",
              "      <th>OK</th>\n",
              "      <td>4625.666667</td>\n",
              "    </tr>\n",
              "    <tr>\n",
              "      <th>OR</th>\n",
              "      <td>4943.000000</td>\n",
              "    </tr>\n",
              "    <tr>\n",
              "      <th>PA</th>\n",
              "      <td>668.000000</td>\n",
              "    </tr>\n",
              "    <tr>\n",
              "      <th>RI</th>\n",
              "      <td>102.000000</td>\n",
              "    </tr>\n",
              "    <tr>\n",
              "      <th>SC</th>\n",
              "      <td>21.000000</td>\n",
              "    </tr>\n",
              "    <tr>\n",
              "      <th>TX</th>\n",
              "      <td>25192.400000</td>\n",
              "    </tr>\n",
              "    <tr>\n",
              "      <th>UT</th>\n",
              "      <td>1126.750000</td>\n",
              "    </tr>\n",
              "    <tr>\n",
              "      <th>VA</th>\n",
              "      <td>3462.000000</td>\n",
              "    </tr>\n",
              "    <tr>\n",
              "      <th>WA</th>\n",
              "      <td>2356.000000</td>\n",
              "    </tr>\n",
              "    <tr>\n",
              "      <th>WI</th>\n",
              "      <td>791.000000</td>\n",
              "    </tr>\n",
              "    <tr>\n",
              "      <th>WV</th>\n",
              "      <td>4159.000000</td>\n",
              "    </tr>\n",
              "  </tbody>\n",
              "</table>\n",
              "</div>"
            ],
            "text/plain": [
              "                 datavalue\n",
              "locationabbr              \n",
              "AK              378.000000\n",
              "AL             1515.333333\n",
              "AR             2018.000000\n",
              "AZ             2105.750000\n",
              "CO             5289.666667\n",
              "CT              558.000000\n",
              "DE             1612.000000\n",
              "FL            12716.000000\n",
              "GA             8732.000000\n",
              "HI              115.000000\n",
              "IA             4641.000000\n",
              "ID             1358.000000\n",
              "IL            13493.000000\n",
              "IN             3037.500000\n",
              "KS             4006.000000\n",
              "LA             4126.000000\n",
              "MD             3127.500000\n",
              "ME             1539.000000\n",
              "MI             7527.000000\n",
              "MN              135.000000\n",
              "MO               29.000000\n",
              "MS             1038.666667\n",
              "MT             1541.000000\n",
              "NC             4701.000000\n",
              "NE             2743.000000\n",
              "NH             1467.500000\n",
              "NJ             7933.000000\n",
              "NM             1226.666667\n",
              "NV             1726.666667\n",
              "NY            10764.000000\n",
              "OH              240.000000\n",
              "OK             4625.666667\n",
              "OR             4943.000000\n",
              "PA              668.000000\n",
              "RI              102.000000\n",
              "SC               21.000000\n",
              "TX            25192.400000\n",
              "UT             1126.750000\n",
              "VA             3462.000000\n",
              "WA             2356.000000\n",
              "WI              791.000000\n",
              "WV             4159.000000"
            ]
          },
          "metadata": {
            "tags": []
          },
          "execution_count": 135
        }
      ]
    },
    {
      "cell_type": "code",
      "metadata": {
        "id": "_7xAbXwLMhh3",
        "colab_type": "code",
        "colab": {
          "base_uri": "https://localhost:8080/",
          "height": 450
        },
        "outputId": "03d8af7e-b36c-4bdb-c3b1-053caea78340"
      },
      "source": [
        "#subset the data by state and question\n",
        "state_pivot_df = pd.pivot_table(oc_clean_df, index=['question', 'locationabbr'])\n",
        "state_pivot_df"
      ],
      "execution_count": 47,
      "outputs": [
        {
          "output_type": "execute_result",
          "data": {
            "text/html": [
              "<div>\n",
              "<style scoped>\n",
              "    .dataframe tbody tr th:only-of-type {\n",
              "        vertical-align: middle;\n",
              "    }\n",
              "\n",
              "    .dataframe tbody tr th {\n",
              "        vertical-align: top;\n",
              "    }\n",
              "\n",
              "    .dataframe thead th {\n",
              "        text-align: right;\n",
              "    }\n",
              "</style>\n",
              "<table border=\"1\" class=\"dataframe\">\n",
              "  <thead>\n",
              "    <tr style=\"text-align: right;\">\n",
              "      <th></th>\n",
              "      <th></th>\n",
              "      <th>datavalue</th>\n",
              "    </tr>\n",
              "    <tr>\n",
              "      <th>question</th>\n",
              "      <th>locationabbr</th>\n",
              "      <th></th>\n",
              "    </tr>\n",
              "  </thead>\n",
              "  <tbody>\n",
              "    <tr>\n",
              "      <th rowspan=\"5\" valign=\"top\">Current health care coverage among women aged 18-44 years</th>\n",
              "      <th>AK</th>\n",
              "      <td>75.6</td>\n",
              "    </tr>\n",
              "    <tr>\n",
              "      <th>AL</th>\n",
              "      <td>83.2</td>\n",
              "    </tr>\n",
              "    <tr>\n",
              "      <th>AR</th>\n",
              "      <td>86.4</td>\n",
              "    </tr>\n",
              "    <tr>\n",
              "      <th>AZ</th>\n",
              "      <td>90.2</td>\n",
              "    </tr>\n",
              "    <tr>\n",
              "      <th>CA</th>\n",
              "      <td>84.2</td>\n",
              "    </tr>\n",
              "    <tr>\n",
              "      <th>...</th>\n",
              "      <th>...</th>\n",
              "      <td>...</td>\n",
              "    </tr>\n",
              "    <tr>\n",
              "      <th rowspan=\"5\" valign=\"top\">Self-rated health status among women aged 18-44 years</th>\n",
              "      <th>US</th>\n",
              "      <td>88.0</td>\n",
              "    </tr>\n",
              "    <tr>\n",
              "      <th>UT</th>\n",
              "      <td>89.3</td>\n",
              "    </tr>\n",
              "    <tr>\n",
              "      <th>VI</th>\n",
              "      <td>78.5</td>\n",
              "    </tr>\n",
              "    <tr>\n",
              "      <th>WI</th>\n",
              "      <td>88.8</td>\n",
              "    </tr>\n",
              "    <tr>\n",
              "      <th>WV</th>\n",
              "      <td>84.4</td>\n",
              "    </tr>\n",
              "  </tbody>\n",
              "</table>\n",
              "<p>451 rows × 1 columns</p>\n",
              "</div>"
            ],
            "text/plain": [
              "                                                                 datavalue\n",
              "question                                           locationabbr           \n",
              "Current health care coverage among women aged 1... AK                 75.6\n",
              "                                                   AL                 83.2\n",
              "                                                   AR                 86.4\n",
              "                                                   AZ                 90.2\n",
              "                                                   CA                 84.2\n",
              "...                                                                    ...\n",
              "Self-rated health status among women aged 18-44... US                 88.0\n",
              "                                                   UT                 89.3\n",
              "                                                   VI                 78.5\n",
              "                                                   WI                 88.8\n",
              "                                                   WV                 84.4\n",
              "\n",
              "[451 rows x 1 columns]"
            ]
          },
          "metadata": {
            "tags": []
          },
          "execution_count": 47
        }
      ]
    },
    {
      "cell_type": "markdown",
      "metadata": {
        "id": "GYALw_rApoGO",
        "colab_type": "text"
      },
      "source": [
        "**4) Descriptive Statistical Analysis**\n",
        "---\n",
        "\n",
        "\n"
      ]
    },
    {
      "cell_type": "code",
      "metadata": {
        "id": "VyeWGYXVOQLw",
        "colab_type": "code",
        "colab": {
          "base_uri": "https://localhost:8080/",
          "height": 297
        },
        "outputId": "dc2c7b09-adad-4059-ce58-4943bae58260"
      },
      "source": [
        "unhealthy_clean_df.describe()"
      ],
      "execution_count": 182,
      "outputs": [
        {
          "output_type": "execute_result",
          "data": {
            "text/html": [
              "<div>\n",
              "<style scoped>\n",
              "    .dataframe tbody tr th:only-of-type {\n",
              "        vertical-align: middle;\n",
              "    }\n",
              "\n",
              "    .dataframe tbody tr th {\n",
              "        vertical-align: top;\n",
              "    }\n",
              "\n",
              "    .dataframe thead th {\n",
              "        text-align: right;\n",
              "    }\n",
              "</style>\n",
              "<table border=\"1\" class=\"dataframe\">\n",
              "  <thead>\n",
              "    <tr style=\"text-align: right;\">\n",
              "      <th></th>\n",
              "      <th>datavalue</th>\n",
              "    </tr>\n",
              "  </thead>\n",
              "  <tbody>\n",
              "    <tr>\n",
              "      <th>count</th>\n",
              "      <td>140.000000</td>\n",
              "    </tr>\n",
              "    <tr>\n",
              "      <th>mean</th>\n",
              "      <td>4.098571</td>\n",
              "    </tr>\n",
              "    <tr>\n",
              "      <th>std</th>\n",
              "      <td>1.052300</td>\n",
              "    </tr>\n",
              "    <tr>\n",
              "      <th>min</th>\n",
              "      <td>2.300000</td>\n",
              "    </tr>\n",
              "    <tr>\n",
              "      <th>25%</th>\n",
              "      <td>3.500000</td>\n",
              "    </tr>\n",
              "    <tr>\n",
              "      <th>50%</th>\n",
              "      <td>3.900000</td>\n",
              "    </tr>\n",
              "    <tr>\n",
              "      <th>75%</th>\n",
              "      <td>4.500000</td>\n",
              "    </tr>\n",
              "    <tr>\n",
              "      <th>max</th>\n",
              "      <td>9.500000</td>\n",
              "    </tr>\n",
              "  </tbody>\n",
              "</table>\n",
              "</div>"
            ],
            "text/plain": [
              "        datavalue\n",
              "count  140.000000\n",
              "mean     4.098571\n",
              "std      1.052300\n",
              "min      2.300000\n",
              "25%      3.500000\n",
              "50%      3.900000\n",
              "75%      4.500000\n",
              "max      9.500000"
            ]
          },
          "metadata": {
            "tags": []
          },
          "execution_count": 182
        }
      ]
    },
    {
      "cell_type": "code",
      "metadata": {
        "id": "oLHyr0RSOVfF",
        "colab_type": "code",
        "colab": {
          "base_uri": "https://localhost:8080/",
          "height": 297
        },
        "outputId": "701f04df-8698-4d0c-e032-180b2014319c"
      },
      "source": [
        "activity_clean_df.describe()"
      ],
      "execution_count": 183,
      "outputs": [
        {
          "output_type": "execute_result",
          "data": {
            "text/html": [
              "<div>\n",
              "<style scoped>\n",
              "    .dataframe tbody tr th:only-of-type {\n",
              "        vertical-align: middle;\n",
              "    }\n",
              "\n",
              "    .dataframe tbody tr th {\n",
              "        vertical-align: top;\n",
              "    }\n",
              "\n",
              "    .dataframe thead th {\n",
              "        text-align: right;\n",
              "    }\n",
              "</style>\n",
              "<table border=\"1\" class=\"dataframe\">\n",
              "  <thead>\n",
              "    <tr style=\"text-align: right;\">\n",
              "      <th></th>\n",
              "      <th>datavalue</th>\n",
              "    </tr>\n",
              "  </thead>\n",
              "  <tbody>\n",
              "    <tr>\n",
              "      <th>count</th>\n",
              "      <td>120.000000</td>\n",
              "    </tr>\n",
              "    <tr>\n",
              "      <th>mean</th>\n",
              "      <td>2.546667</td>\n",
              "    </tr>\n",
              "    <tr>\n",
              "      <th>std</th>\n",
              "      <td>0.726443</td>\n",
              "    </tr>\n",
              "    <tr>\n",
              "      <th>min</th>\n",
              "      <td>1.000000</td>\n",
              "    </tr>\n",
              "    <tr>\n",
              "      <th>25%</th>\n",
              "      <td>2.100000</td>\n",
              "    </tr>\n",
              "    <tr>\n",
              "      <th>50%</th>\n",
              "      <td>2.400000</td>\n",
              "    </tr>\n",
              "    <tr>\n",
              "      <th>75%</th>\n",
              "      <td>2.900000</td>\n",
              "    </tr>\n",
              "    <tr>\n",
              "      <th>max</th>\n",
              "      <td>4.900000</td>\n",
              "    </tr>\n",
              "  </tbody>\n",
              "</table>\n",
              "</div>"
            ],
            "text/plain": [
              "        datavalue\n",
              "count  120.000000\n",
              "mean     2.546667\n",
              "std      0.726443\n",
              "min      1.000000\n",
              "25%      2.100000\n",
              "50%      2.400000\n",
              "75%      2.900000\n",
              "max      4.900000"
            ]
          },
          "metadata": {
            "tags": []
          },
          "execution_count": 183
        }
      ]
    },
    {
      "cell_type": "code",
      "metadata": {
        "id": "7zm8kVMnOYGj",
        "colab_type": "code",
        "colab": {
          "base_uri": "https://localhost:8080/",
          "height": 297
        },
        "outputId": "a1b7b575-0293-44c6-9060-5bdc7083a989"
      },
      "source": [
        "sleep_clean_df.describe()"
      ],
      "execution_count": 184,
      "outputs": [
        {
          "output_type": "execute_result",
          "data": {
            "text/html": [
              "<div>\n",
              "<style scoped>\n",
              "    .dataframe tbody tr th:only-of-type {\n",
              "        vertical-align: middle;\n",
              "    }\n",
              "\n",
              "    .dataframe tbody tr th {\n",
              "        vertical-align: top;\n",
              "    }\n",
              "\n",
              "    .dataframe thead th {\n",
              "        text-align: right;\n",
              "    }\n",
              "</style>\n",
              "<table border=\"1\" class=\"dataframe\">\n",
              "  <thead>\n",
              "    <tr style=\"text-align: right;\">\n",
              "      <th></th>\n",
              "      <th>datavalue</th>\n",
              "    </tr>\n",
              "  </thead>\n",
              "  <tbody>\n",
              "    <tr>\n",
              "      <th>count</th>\n",
              "      <td>133.000000</td>\n",
              "    </tr>\n",
              "    <tr>\n",
              "      <th>mean</th>\n",
              "      <td>61.191729</td>\n",
              "    </tr>\n",
              "    <tr>\n",
              "      <th>std</th>\n",
              "      <td>6.919100</td>\n",
              "    </tr>\n",
              "    <tr>\n",
              "      <th>min</th>\n",
              "      <td>37.300000</td>\n",
              "    </tr>\n",
              "    <tr>\n",
              "      <th>25%</th>\n",
              "      <td>58.500000</td>\n",
              "    </tr>\n",
              "    <tr>\n",
              "      <th>50%</th>\n",
              "      <td>62.700000</td>\n",
              "    </tr>\n",
              "    <tr>\n",
              "      <th>75%</th>\n",
              "      <td>66.000000</td>\n",
              "    </tr>\n",
              "    <tr>\n",
              "      <th>max</th>\n",
              "      <td>71.000000</td>\n",
              "    </tr>\n",
              "  </tbody>\n",
              "</table>\n",
              "</div>"
            ],
            "text/plain": [
              "        datavalue\n",
              "count  133.000000\n",
              "mean    61.191729\n",
              "std      6.919100\n",
              "min     37.300000\n",
              "25%     58.500000\n",
              "50%     62.700000\n",
              "75%     66.000000\n",
              "max     71.000000"
            ]
          },
          "metadata": {
            "tags": []
          },
          "execution_count": 184
        }
      ]
    },
    {
      "cell_type": "code",
      "metadata": {
        "id": "AmUbgZO2OdPR",
        "colab_type": "code",
        "colab": {
          "base_uri": "https://localhost:8080/",
          "height": 297
        },
        "outputId": "f0143f18-542e-48f9-dd71-f2593a2d3df5"
      },
      "source": [
        "premort_df.describe()"
      ],
      "execution_count": 185,
      "outputs": [
        {
          "output_type": "execute_result",
          "data": {
            "text/html": [
              "<div>\n",
              "<style scoped>\n",
              "    .dataframe tbody tr th:only-of-type {\n",
              "        vertical-align: middle;\n",
              "    }\n",
              "\n",
              "    .dataframe tbody tr th {\n",
              "        vertical-align: top;\n",
              "    }\n",
              "\n",
              "    .dataframe thead th {\n",
              "        text-align: right;\n",
              "    }\n",
              "</style>\n",
              "<table border=\"1\" class=\"dataframe\">\n",
              "  <thead>\n",
              "    <tr style=\"text-align: right;\">\n",
              "      <th></th>\n",
              "      <th>datavalue</th>\n",
              "    </tr>\n",
              "  </thead>\n",
              "  <tbody>\n",
              "    <tr>\n",
              "      <th>count</th>\n",
              "      <td>81.000000</td>\n",
              "    </tr>\n",
              "    <tr>\n",
              "      <th>mean</th>\n",
              "      <td>4554.629630</td>\n",
              "    </tr>\n",
              "    <tr>\n",
              "      <th>std</th>\n",
              "      <td>7062.502976</td>\n",
              "    </tr>\n",
              "    <tr>\n",
              "      <th>min</th>\n",
              "      <td>21.000000</td>\n",
              "    </tr>\n",
              "    <tr>\n",
              "      <th>25%</th>\n",
              "      <td>387.000000</td>\n",
              "    </tr>\n",
              "    <tr>\n",
              "      <th>50%</th>\n",
              "      <td>2657.000000</td>\n",
              "    </tr>\n",
              "    <tr>\n",
              "      <th>75%</th>\n",
              "      <td>5137.000000</td>\n",
              "    </tr>\n",
              "    <tr>\n",
              "      <th>max</th>\n",
              "      <td>40119.000000</td>\n",
              "    </tr>\n",
              "  </tbody>\n",
              "</table>\n",
              "</div>"
            ],
            "text/plain": [
              "          datavalue\n",
              "count     81.000000\n",
              "mean    4554.629630\n",
              "std     7062.502976\n",
              "min       21.000000\n",
              "25%      387.000000\n",
              "50%     2657.000000\n",
              "75%     5137.000000\n",
              "max    40119.000000"
            ]
          },
          "metadata": {
            "tags": []
          },
          "execution_count": 185
        }
      ]
    },
    {
      "cell_type": "code",
      "metadata": {
        "id": "lx02EOSlqu9T",
        "colab_type": "code",
        "colab": {
          "base_uri": "https://localhost:8080/",
          "height": 34
        },
        "outputId": "352634a6-3e0d-4ea7-cdcc-f4b8ec85ccac"
      },
      "source": [
        "#median Recent physically unhealthy days among adults aged >= 18 years across the US\n",
        "unhealthy_clean_df['datavalue'].median()"
      ],
      "execution_count": 189,
      "outputs": [
        {
          "output_type": "execute_result",
          "data": {
            "text/plain": [
              "3.9"
            ]
          },
          "metadata": {
            "tags": []
          },
          "execution_count": 189
        }
      ]
    },
    {
      "cell_type": "code",
      "metadata": {
        "id": "mIB8l_IBqOhG",
        "colab_type": "code",
        "colab": {
          "base_uri": "https://localhost:8080/",
          "height": 34
        },
        "outputId": "0cc01074-f19b-4681-e14c-8ce3412d14eb"
      },
      "source": [
        "#median Prevalence of sufficient sleep among adults aged >= 18 years across the US\n",
        "sleep_clean_df['datavalue'].median()"
      ],
      "execution_count": 190,
      "outputs": [
        {
          "output_type": "execute_result",
          "data": {
            "text/plain": [
              "62.7"
            ]
          },
          "metadata": {
            "tags": []
          },
          "execution_count": 190
        }
      ]
    },
    {
      "cell_type": "code",
      "metadata": {
        "id": "clk5WYxVCrAG",
        "colab_type": "code",
        "colab": {
          "base_uri": "https://localhost:8080/",
          "height": 34
        },
        "outputId": "83bc5f83-2cd7-4a5d-89e6-d37345541852"
      },
      "source": [
        "#median Recent activity limitation across the US\n",
        "activity_clean_df['datavalue'].median()"
      ],
      "execution_count": 191,
      "outputs": [
        {
          "output_type": "execute_result",
          "data": {
            "text/plain": [
              "2.4"
            ]
          },
          "metadata": {
            "tags": []
          },
          "execution_count": 191
        }
      ]
    },
    {
      "cell_type": "code",
      "metadata": {
        "id": "JOEF8_jEGQsK",
        "colab_type": "code",
        "colab": {
          "base_uri": "https://localhost:8080/",
          "height": 34
        },
        "outputId": "2fa1dbcb-fd0f-46d8-f922-ec371f0ba6fa"
      },
      "source": [
        "#median premature mortality in adults across the US\n",
        "premort_df['datavalue'].median()"
      ],
      "execution_count": 192,
      "outputs": [
        {
          "output_type": "execute_result",
          "data": {
            "text/plain": [
              "2657.0"
            ]
          },
          "metadata": {
            "tags": []
          },
          "execution_count": 192
        }
      ]
    },
    {
      "cell_type": "code",
      "metadata": {
        "id": "7shXtJp6NQGw",
        "colab_type": "code",
        "colab": {
          "base_uri": "https://localhost:8080/",
          "height": 901
        },
        "outputId": "5d8fdae0-304f-4ef1-f8ff-548d07987bb5"
      },
      "source": [
        "#group the Recent physically unhealthy days data by state and sort in descending order\n",
        "unhealthy_pivot.groupby(['locationabbr'])['datavalue'].mean().sort_values(ascending=False)"
      ],
      "execution_count": 154,
      "outputs": [
        {
          "output_type": "execute_result",
          "data": {
            "text/plain": [
              "locationabbr\n",
              "TN    6.750000\n",
              "AZ    5.725000\n",
              "AR    5.200000\n",
              "KY    4.925000\n",
              "MI    4.800000\n",
              "NH    4.800000\n",
              "OH    4.733333\n",
              "WV    4.700000\n",
              "PR    4.700000\n",
              "NM    4.700000\n",
              "NE    4.666667\n",
              "ME    4.600000\n",
              "NV    4.540000\n",
              "VI    4.500000\n",
              "OK    4.483333\n",
              "MS    4.450000\n",
              "SC    4.400000\n",
              "AL    4.400000\n",
              "VT    4.333333\n",
              "MO    4.250000\n",
              "PA    4.250000\n",
              "RI    4.100000\n",
              "WY    4.083333\n",
              "IL    4.000000\n",
              "MA    4.000000\n",
              "GA    4.000000\n",
              "LA    4.000000\n",
              "WA    3.850000\n",
              "UT    3.833333\n",
              "ND    3.800000\n",
              "WI    3.750000\n",
              "MT    3.733333\n",
              "KS    3.716667\n",
              "NC    3.700000\n",
              "AK    3.700000\n",
              "OR    3.650000\n",
              "CT    3.600000\n",
              "CO    3.600000\n",
              "VA    3.550000\n",
              "TX    3.500000\n",
              "MN    3.400000\n",
              "IN    3.400000\n",
              "DE    3.350000\n",
              "NJ    3.300000\n",
              "MD    3.225000\n",
              "GU    3.200000\n",
              "SD    3.100000\n",
              "DC    2.800000\n",
              "CA    2.700000\n",
              "NY    2.400000\n",
              "Name: datavalue, dtype: float64"
            ]
          },
          "metadata": {
            "tags": []
          },
          "execution_count": 154
        }
      ]
    },
    {
      "cell_type": "code",
      "metadata": {
        "id": "WhK2oiwMNwVL",
        "colab_type": "code",
        "colab": {
          "base_uri": "https://localhost:8080/",
          "height": 918
        },
        "outputId": "4f5a1556-622f-4d89-b047-2c6b0c911493"
      },
      "source": [
        "#group the Prevalence of sufficient sleep data by state and sort in descending order\n",
        "sleep_pivot.groupby(['locationabbr'])['datavalue'].mean().sort_values(ascending=False)"
      ],
      "execution_count": 86,
      "outputs": [
        {
          "output_type": "execute_result",
          "data": {
            "text/plain": [
              "locationabbr\n",
              "MT    68.966667\n",
              "SD    68.800000\n",
              "ID    68.100000\n",
              "VT    66.600000\n",
              "NM    66.250000\n",
              "ME    66.100000\n",
              "ND    66.066667\n",
              "UT    66.014286\n",
              "WY    65.500000\n",
              "NE    65.350000\n",
              "CO    65.150000\n",
              "MN    65.100000\n",
              "CA    64.666667\n",
              "IL    64.633333\n",
              "AK    64.250000\n",
              "IA    64.080000\n",
              "US    63.500000\n",
              "NC    63.400000\n",
              "VA    63.200000\n",
              "MD    63.100000\n",
              "NY    62.000000\n",
              "TN    61.975000\n",
              "SC    61.900000\n",
              "MS    61.800000\n",
              "WV    61.700000\n",
              "IN    61.666667\n",
              "OR    61.650000\n",
              "WI    61.600000\n",
              "TX    61.400000\n",
              "NJ    61.150000\n",
              "PR    61.100000\n",
              "WA    60.900000\n",
              "CT    60.600000\n",
              "OH    60.300000\n",
              "VI    60.200000\n",
              "DE    59.725000\n",
              "AZ    59.520000\n",
              "FL    59.300000\n",
              "LA    59.066667\n",
              "MA    59.000000\n",
              "NV    58.225000\n",
              "AR    58.100000\n",
              "HI    57.866667\n",
              "OK    56.950000\n",
              "MO    56.300000\n",
              "PA    55.625000\n",
              "AL    54.225000\n",
              "GA    53.433333\n",
              "GU    50.800000\n",
              "KY    50.633333\n",
              "NH    38.800000\n",
              "Name: datavalue, dtype: float64"
            ]
          },
          "metadata": {
            "tags": []
          },
          "execution_count": 86
        }
      ]
    },
    {
      "cell_type": "code",
      "metadata": {
        "id": "Wig1vDWLGd0Q",
        "colab_type": "code",
        "colab": {
          "base_uri": "https://localhost:8080/",
          "height": 867
        },
        "outputId": "4ecdee62-c4b9-4549-e93b-68b75b741457"
      },
      "source": [
        "#group the Recent activity limitation data by state and sort in descending order\n",
        "activity_pivot.groupby(['locationabbr'])['datavalue'].mean().sort_values(ascending=False)"
      ],
      "execution_count": 140,
      "outputs": [
        {
          "output_type": "execute_result",
          "data": {
            "text/plain": [
              "locationabbr\n",
              "TN    3.933333\n",
              "MS    3.766667\n",
              "WV    3.600000\n",
              "AR    3.600000\n",
              "FL    3.450000\n",
              "NJ    3.300000\n",
              "KY    3.300000\n",
              "NH    3.266667\n",
              "AL    3.100000\n",
              "OK    3.000000\n",
              "PA    3.000000\n",
              "IN    2.900000\n",
              "MI    2.900000\n",
              "WA    2.900000\n",
              "AZ    2.800000\n",
              "LA    2.800000\n",
              "MO    2.800000\n",
              "MT    2.700000\n",
              "KS    2.650000\n",
              "OR    2.633333\n",
              "ME    2.600000\n",
              "NY    2.600000\n",
              "HI    2.580000\n",
              "GU    2.580000\n",
              "NV    2.550000\n",
              "WI    2.500000\n",
              "US    2.450000\n",
              "WY    2.400000\n",
              "NC    2.300000\n",
              "IL    2.300000\n",
              "SD    2.240000\n",
              "CO    2.233333\n",
              "DE    2.233333\n",
              "UT    2.200000\n",
              "CT    2.200000\n",
              "OH    2.200000\n",
              "CA    2.166667\n",
              "ID    2.100000\n",
              "MA    2.000000\n",
              "TX    1.966667\n",
              "AK    1.950000\n",
              "ND    1.800000\n",
              "VA    1.800000\n",
              "MN    1.800000\n",
              "VI    1.750000\n",
              "IA    1.650000\n",
              "NE    1.600000\n",
              "MD    1.100000\n",
              "Name: datavalue, dtype: float64"
            ]
          },
          "metadata": {
            "tags": []
          },
          "execution_count": 140
        }
      ]
    },
    {
      "cell_type": "code",
      "metadata": {
        "id": "3WEbyduTGpV5",
        "colab_type": "code",
        "colab": {
          "base_uri": "https://localhost:8080/",
          "height": 765
        },
        "outputId": "f91efa16-d2ca-4863-923e-c1e5d17df853"
      },
      "source": [
        "#group the Premature mortality data by state and sort in descending order\n",
        "premort_pivot.groupby(['locationabbr'])['datavalue'].mean().sort_values(ascending=False)"
      ],
      "execution_count": 141,
      "outputs": [
        {
          "output_type": "execute_result",
          "data": {
            "text/plain": [
              "locationabbr\n",
              "TX    25192.400000\n",
              "IL    13493.000000\n",
              "FL    12716.000000\n",
              "NY    10764.000000\n",
              "GA     8732.000000\n",
              "NJ     7933.000000\n",
              "MI     7527.000000\n",
              "CO     5289.666667\n",
              "OR     4943.000000\n",
              "NC     4701.000000\n",
              "IA     4641.000000\n",
              "OK     4625.666667\n",
              "WV     4159.000000\n",
              "LA     4126.000000\n",
              "KS     4006.000000\n",
              "VA     3462.000000\n",
              "MD     3127.500000\n",
              "IN     3037.500000\n",
              "NE     2743.000000\n",
              "WA     2356.000000\n",
              "AZ     2105.750000\n",
              "AR     2018.000000\n",
              "NV     1726.666667\n",
              "DE     1612.000000\n",
              "MT     1541.000000\n",
              "ME     1539.000000\n",
              "AL     1515.333333\n",
              "NH     1467.500000\n",
              "ID     1358.000000\n",
              "NM     1226.666667\n",
              "UT     1126.750000\n",
              "MS     1038.666667\n",
              "WI      791.000000\n",
              "PA      668.000000\n",
              "CT      558.000000\n",
              "AK      378.000000\n",
              "OH      240.000000\n",
              "MN      135.000000\n",
              "HI      115.000000\n",
              "RI      102.000000\n",
              "MO       29.000000\n",
              "SC       21.000000\n",
              "Name: datavalue, dtype: float64"
            ]
          },
          "metadata": {
            "tags": []
          },
          "execution_count": 141
        }
      ]
    },
    {
      "cell_type": "markdown",
      "metadata": {
        "id": "KZeASNytqA_V",
        "colab_type": "text"
      },
      "source": [
        "**5) Trending**\n",
        "---\n",
        "\n"
      ]
    },
    {
      "cell_type": "code",
      "metadata": {
        "id": "ppZEY6FQNLIo",
        "colab_type": "code",
        "colab": {
          "base_uri": "https://localhost:8080/",
          "height": 85
        },
        "outputId": "a7cd4e3b-3091-4c20-e66e-3e7e312ba788"
      },
      "source": [
        "#Trend the Recent physically unhealthy days data over time\n",
        "unhealthy_df['yearstart'].unique()"
      ],
      "execution_count": 95,
      "outputs": [
        {
          "output_type": "execute_result",
          "data": {
            "text/plain": [
              "array(['2018-01-01T00:00:00.000000000', '2014-01-01T00:00:00.000000000',\n",
              "       '2017-01-01T00:00:00.000000000', '2016-01-01T00:00:00.000000000',\n",
              "       '2012-01-01T00:00:00.000000000', '2011-01-01T00:00:00.000000000',\n",
              "       '2015-01-01T00:00:00.000000000'], dtype='datetime64[ns]')"
            ]
          },
          "metadata": {
            "tags": []
          },
          "execution_count": 95
        }
      ]
    },
    {
      "cell_type": "code",
      "metadata": {
        "id": "U907bNu1NrjJ",
        "colab_type": "code",
        "colab": {
          "base_uri": "https://localhost:8080/",
          "height": 173
        },
        "outputId": "b7e12dfe-c1f3-47b3-8a0f-ed9ed4b23f67"
      },
      "source": [
        "oc_clean_df['datavalue'] = pd.to_numeric(oc_clean_df['datavalue'])"
      ],
      "execution_count": 155,
      "outputs": [
        {
          "output_type": "stream",
          "text": [
            "/usr/local/lib/python3.6/dist-packages/ipykernel_launcher.py:1: SettingWithCopyWarning:\n",
            "\n",
            "\n",
            "A value is trying to be set on a copy of a slice from a DataFrame.\n",
            "Try using .loc[row_indexer,col_indexer] = value instead\n",
            "\n",
            "See the caveats in the documentation: https://pandas.pydata.org/pandas-docs/stable/user_guide/indexing.html#returning-a-view-versus-a-copy\n",
            "\n"
          ],
          "name": "stderr"
        }
      ]
    },
    {
      "cell_type": "code",
      "metadata": {
        "id": "7XyFSDDx7JI2",
        "colab_type": "code",
        "colab": {
          "base_uri": "https://localhost:8080/",
          "height": 403
        },
        "outputId": "d1ccdaf4-01b6-4578-8ccf-11349db9604a"
      },
      "source": [
        "sns.relplot(data=unhealthy_clean_df, x='yearstart', y='datavalue', color='red', kind=\"line\")\n",
        "plt.figure(figsize=(20,5))"
      ],
      "execution_count": 156,
      "outputs": [
        {
          "output_type": "execute_result",
          "data": {
            "text/plain": [
              "<Figure size 1440x360 with 0 Axes>"
            ]
          },
          "metadata": {
            "tags": []
          },
          "execution_count": 156
        },
        {
          "output_type": "display_data",
          "data": {
            "image/png": "[encoded data removed]",
            "text/plain": [
              "<Figure size 360x360 with 1 Axes>"
            ]
          },
          "metadata": {
            "tags": [],
            "needs_background": "light"
          }
        },
        {
          "output_type": "display_data",
          "data": {
            "text/plain": [
              "<Figure size 1440x360 with 0 Axes>"
            ]
          },
          "metadata": {
            "tags": []
          }
        }
      ]
    },
    {
      "cell_type": "code",
      "metadata": {
        "id": "yJTA9TrYBkrl",
        "colab_type": "code",
        "colab": {
          "base_uri": "https://localhost:8080/",
          "height": 403
        },
        "outputId": "7052c5e2-a147-44d1-f022-5577c41fbf90"
      },
      "source": [
        "sns.relplot(data=sleep_clean_df, x='yearstart', y='datavalue', color='blue', kind=\"line\")\n",
        "plt.figure(figsize=(30,5))"
      ],
      "execution_count": 147,
      "outputs": [
        {
          "output_type": "execute_result",
          "data": {
            "text/plain": [
              "<Figure size 2160x360 with 0 Axes>"
            ]
          },
          "metadata": {
            "tags": []
          },
          "execution_count": 147
        },
        {
          "output_type": "display_data",
          "data": {
            "image/png": "[encoded data removed]",
            "text/plain": [
              "<Figure size 360x360 with 1 Axes>"
            ]
          },
          "metadata": {
            "tags": [],
            "needs_background": "light"
          }
        },
        {
          "output_type": "display_data",
          "data": {
            "text/plain": [
              "<Figure size 2160x360 with 0 Axes>"
            ]
          },
          "metadata": {
            "tags": []
          }
        }
      ]
    },
    {
      "cell_type": "code",
      "metadata": {
        "id": "4tnKfmGb9UBE",
        "colab_type": "code",
        "colab": {
          "base_uri": "https://localhost:8080/",
          "height": 403
        },
        "outputId": "c42faf17-58b3-47ef-adc6-dd0af964470a"
      },
      "source": [
        "sns.relplot(data=activity_clean_df, x='yearstart', y='datavalue', color='green', kind=\"line\")\n",
        "plt.figure(figsize=(30,5))"
      ],
      "execution_count": 146,
      "outputs": [
        {
          "output_type": "execute_result",
          "data": {
            "text/plain": [
              "<Figure size 2160x360 with 0 Axes>"
            ]
          },
          "metadata": {
            "tags": []
          },
          "execution_count": 146
        },
        {
          "output_type": "display_data",
          "data": {
            "image/png": "[encoded data removed]",
            "text/plain": [
              "<Figure size 360x360 with 1 Axes>"
            ]
          },
          "metadata": {
            "tags": [],
            "needs_background": "light"
          }
        },
        {
          "output_type": "display_data",
          "data": {
            "text/plain": [
              "<Figure size 2160x360 with 0 Axes>"
            ]
          },
          "metadata": {
            "tags": []
          }
        }
      ]
    },
    {
      "cell_type": "code",
      "metadata": {
        "id": "GAYWbH8UHD3V",
        "colab_type": "code",
        "colab": {
          "base_uri": "https://localhost:8080/",
          "height": 403
        },
        "outputId": "365df60e-5fb9-46a0-df57-75f5c308d92f"
      },
      "source": [
        "sns.relplot(data=premort_df, x='yearstart', y='datavalue', color='purple', kind=\"line\")\n",
        "plt.figure(figsize=(30,5))"
      ],
      "execution_count": 145,
      "outputs": [
        {
          "output_type": "execute_result",
          "data": {
            "text/plain": [
              "<Figure size 2160x360 with 0 Axes>"
            ]
          },
          "metadata": {
            "tags": []
          },
          "execution_count": 145
        },
        {
          "output_type": "display_data",
          "data": {
            "image/png": "[encoded data removed]",
            "text/plain": [
              "<Figure size 360x360 with 1 Axes>"
            ]
          },
          "metadata": {
            "tags": [],
            "needs_background": "light"
          }
        },
        {
          "output_type": "display_data",
          "data": {
            "text/plain": [
              "<Figure size 2160x360 with 0 Axes>"
            ]
          },
          "metadata": {
            "tags": []
          }
        }
      ]
    },
    {
      "cell_type": "markdown",
      "metadata": {
        "id": "s-DTi9U-thuo",
        "colab_type": "text"
      },
      "source": [
        "#Exploratory Data Analysis"
      ]
    },
    {
      "cell_type": "code",
      "metadata": {
        "id": "LYcpIQ5Z3lk0",
        "colab_type": "code",
        "colab": {}
      },
      "source": [
        "import matplotlib.pyplot as plt\n",
        "import seaborn as sns\n",
        "import plotly.graph_objects as go"
      ],
      "execution_count": null,
      "outputs": []
    },
    {
      "cell_type": "code",
      "metadata": {
        "id": "KlHXwEQc2Xv7",
        "colab_type": "code",
        "colab": {
          "base_uri": "https://localhost:8080/",
          "height": 413
        },
        "outputId": "d64fd73f-6b48-4c04-a7e2-3ec7ffa43569"
      },
      "source": [
        "plt.figure(figsize=(20,8))\n",
        "plt.xticks(rotation=25)\n",
        "\n",
        "sns.boxplot(data=unhealthy_clean_df, x='locationabbr', y='datavalue')\n",
        "plt.xlabel(\"State\")\n",
        "plt.ylabel(\"Recent Physically Unhealthy Days in Adults (# days)\")\n",
        "plt.show()"
      ],
      "execution_count": 164,
      "outputs": [
        {
          "output_type": "display_data",
          "data": {
            "image/png": "[encoded data removed]",
            "text/plain": [
              "<Figure size 1440x576 with 1 Axes>"
            ]
          },
          "metadata": {
            "tags": [],
            "needs_background": "light"
          }
        }
      ]
    },
    {
      "cell_type": "code",
      "metadata": {
        "id": "fETV4RKBGi3J",
        "colab_type": "code",
        "colab": {
          "base_uri": "https://localhost:8080/",
          "height": 411
        },
        "outputId": "b842c6d0-2642-4ec9-df22-bbfd26dcee30"
      },
      "source": [
        "plt.figure(figsize=(20,8))\n",
        "plt.xticks(rotation=25)\n",
        "\n",
        "sns.pointplot(data=sleep_clean_df, x='locationabbr', y='datavalue')\n",
        "plt.xlabel(\"State\")\n",
        "plt.ylabel(\"Prevalence of Sufficient Sleep in Adults (%)\")\n",
        "\n",
        "plt.show()"
      ],
      "execution_count": 197,
      "outputs": [
        {
          "output_type": "display_data",
          "data": {
            "image/png": "[encoded data removed]",
            "text/plain": [
              "<Figure size 1440x576 with 1 Axes>"
            ]
          },
          "metadata": {
            "tags": [],
            "needs_background": "light"
          }
        }
      ]
    },
    {
      "cell_type": "code",
      "metadata": {
        "id": "XKeAWIuaJHEo",
        "colab_type": "code",
        "colab": {
          "base_uri": "https://localhost:8080/",
          "height": 410
        },
        "outputId": "4f992c4f-6480-414f-ffee-513e0bcf5e9d"
      },
      "source": [
        "plt.figure(figsize=(20,8))\n",
        "plt.xticks(rotation=25)\n",
        "\n",
        "sns.lineplot(data=activity_clean_df, x='locationabbr', y='datavalue')\n",
        "plt.xlabel(\"State\")\n",
        "plt.ylabel(\"Recent Activity Limitation in Adults (# days)\")\n",
        "\n",
        "plt.show()"
      ],
      "execution_count": 198,
      "outputs": [
        {
          "output_type": "display_data",
          "data": {
            "image/png": "[encoded data removed]",
            "text/plain": [
              "<Figure size 1440x576 with 1 Axes>"
            ]
          },
          "metadata": {
            "tags": [],
            "needs_background": "light"
          }
        }
      ]
    },
    {
      "cell_type": "code",
      "metadata": {
        "id": "BKm4GZ5xJiQf",
        "colab_type": "code",
        "colab": {
          "base_uri": "https://localhost:8080/",
          "height": 405
        },
        "outputId": "03dfec74-4522-4060-c7ea-7ea6edb41209"
      },
      "source": [
        "plt.figure(figsize=(20,8))\n",
        "plt.xticks(rotation=25)\n",
        "\n",
        "sns.barplot(data=premort_df, x='locationabbr', y='datavalue')\n",
        "plt.xlabel(\"State\")\n",
        "plt.ylabel(\"Premature Mortality in Adults (deaths/yr)\")\n",
        "\n",
        "plt.show()"
      ],
      "execution_count": 169,
      "outputs": [
        {
          "output_type": "display_data",
          "data": {
            "image/png": "[encoded data removed]",
            "text/plain": [
              "<Figure size 1440x576 with 1 Axes>"
            ]
          },
          "metadata": {
            "tags": [],
            "needs_background": "light"
          }
        }
      ]
    },
    {
      "cell_type": "code",
      "metadata": {
        "id": "MwZviKStJ_Bw",
        "colab_type": "code",
        "colab": {}
      },
      "source": [
        "import plotly.graph_objects as go"
      ],
      "execution_count": 170,
      "outputs": []
    },
    {
      "cell_type": "code",
      "metadata": {
        "id": "kRY3bgohLlgT",
        "colab_type": "code",
        "colab": {
          "base_uri": "https://localhost:8080/",
          "height": 542
        },
        "outputId": "26661ccb-ac27-4f4f-c6d6-687280d3ca22"
      },
      "source": [
        "# Create figure\n",
        "fig_sleep = go.Figure()\n",
        "\n",
        "fig_sleep.add_trace(\n",
        "    go.Scatter(x=list(sleep_clean_df.yearstart), y=list(sleep_clean_df.datavalue)))\n",
        "\n",
        "# Set title\n",
        "fig_sleep.update_layout(\n",
        "    title_text=\"Time series with range slider and selectors\"\n",
        ")\n",
        "\n",
        "# Add range slider\n",
        "fig_sleep.update_layout(\n",
        "    xaxis=dict(\n",
        "        rangeselector=dict(\n",
        "            buttons=list([\n",
        "                dict(count=1,\n",
        "                     label=\"1m\",\n",
        "                     step=\"month\",\n",
        "                     stepmode=\"backward\"),\n",
        "                dict(count=6,\n",
        "                     label=\"6m\",\n",
        "                     step=\"month\",\n",
        "                     stepmode=\"backward\"),\n",
        "                dict(count=1,\n",
        "                     label=\"YTD\",\n",
        "                     step=\"year\",\n",
        "                     stepmode=\"todate\"),\n",
        "                dict(count=1,\n",
        "                     label=\"1y\",\n",
        "                     step=\"year\",\n",
        "                     stepmode=\"backward\"),\n",
        "                dict(step=\"all\")\n",
        "            ])\n",
        "        ),\n",
        "        rangeslider=dict(\n",
        "            visible=True\n",
        "        ),\n",
        "        type=\"date\"\n",
        "    )\n",
        ")\n",
        "\n",
        "fig_sleep.show()\n",
        "\n"
      ],
      "execution_count": 180,
      "outputs": [
        {
          "output_type": "display_data",
          "data": {
            "text/html": [
              "<html>\n",
              "<head><meta charset=\"utf-8\" /></head>\n",
              "<body>\n",
              "    <div>\n",
              "            <script src=\"https://cdnjs.cloudflare.com/ajax/libs/mathjax/2.7.5/MathJax.js?config=TeX-AMS-MML_SVG\"></script><script type=\"text/javascript\">if (window.MathJax) {MathJax.Hub.Config({SVG: {font: \"STIX-Web\"}});}</script>\n",
              "                <script type=\"text/javascript\">window.PlotlyConfig = {MathJaxConfig: 'local'};</script>\n",
              "        <script src=\"https://cdn.plot.ly/plotly-latest.min.js\"></script>    \n",
              "            <div id=\"8e20e9e3-2db3-4cfb-b783-be4cc53b3361\" class=\"plotly-graph-div\" style=\"height:525px; width:100%;\"></div>\n",
              "            <script type=\"text/javascript\">\n",
              "                \n",
              "                    window.PLOTLYENV=window.PLOTLYENV || {};\n",
              "                    \n",
              "                if (document.getElementById(\"8e20e9e3-2db3-4cfb-b783-be4cc53b3361\")) {\n",
              "                    Plotly.newPlot(\n",
              "                        '8e20e9e3-2db3-4cfb-b783-be4cc53b3361',\n",
              "                        [{\"type\": \"scatter\", \"x\": [\"2018-01-01T00:00:00\", \"2018-01-01T00:00:00\", \"2017-01-01T00:00:00\", \"2016-01-01T00:00:00\", \"2016-01-01T00:00:00\", \"2016-01-01T00:00:00\", \"2016-01-01T00:00:00\", \"2016-01-01T00:00:00\", \"2016-01-01T00:00:00\", \"2016-01-01T00:00:00\", \"2016-01-01T00:00:00\", \"2016-01-01T00:00:00\", \"2016-01-01T00:00:00\", \"2016-01-01T00:00:00\", \"2016-01-01T00:00:00\", \"2016-01-01T00:00:00\", \"2016-01-01T00:00:00\", \"2016-01-01T00:00:00\", \"2016-01-01T00:00:00\", \"2016-01-01T00:00:00\", \"2016-01-01T00:00:00\", \"2016-01-01T00:00:00\", \"2016-01-01T00:00:00\", \"2016-01-01T00:00:00\", \"2016-01-01T00:00:00\", \"2016-01-01T00:00:00\", \"2016-01-01T00:00:00\", \"2016-01-01T00:00:00\", \"2016-01-01T00:00:00\", \"2016-01-01T00:00:00\", \"2016-01-01T00:00:00\", \"2016-01-01T00:00:00\", \"2016-01-01T00:00:00\", \"2016-01-01T00:00:00\", \"2016-01-01T00:00:00\", \"2016-01-01T00:00:00\", \"2016-01-01T00:00:00\", \"2016-01-01T00:00:00\", \"2016-01-01T00:00:00\", \"2016-01-01T00:00:00\", \"2016-01-01T00:00:00\", \"2016-01-01T00:00:00\", \"2016-01-01T00:00:00\", \"2016-01-01T00:00:00\", \"2016-01-01T00:00:00\", \"2016-01-01T00:00:00\", \"2016-01-01T00:00:00\", \"2016-01-01T00:00:00\", \"2016-01-01T00:00:00\", \"2016-01-01T00:00:00\", \"2016-01-01T00:00:00\", \"2016-01-01T00:00:00\", \"2016-01-01T00:00:00\", \"2016-01-01T00:00:00\", \"2016-01-01T00:00:00\", \"2016-01-01T00:00:00\", \"2016-01-01T00:00:00\", \"2016-01-01T00:00:00\", \"2016-01-01T00:00:00\", \"2016-01-01T00:00:00\", \"2016-01-01T00:00:00\", \"2016-01-01T00:00:00\", \"2016-01-01T00:00:00\", \"2016-01-01T00:00:00\", \"2016-01-01T00:00:00\", \"2016-01-01T00:00:00\", \"2016-01-01T00:00:00\", \"2016-01-01T00:00:00\", \"2016-01-01T00:00:00\", \"2016-01-01T00:00:00\", \"2016-01-01T00:00:00\", \"2016-01-01T00:00:00\", \"2016-01-01T00:00:00\", \"2016-01-01T00:00:00\", \"2016-01-01T00:00:00\", \"2016-01-01T00:00:00\", \"2016-01-01T00:00:00\", \"2016-01-01T00:00:00\", \"2016-01-01T00:00:00\", \"2016-01-01T00:00:00\", \"2016-01-01T00:00:00\", \"2016-01-01T00:00:00\", \"2016-01-01T00:00:00\", \"2016-01-01T00:00:00\", \"2016-01-01T00:00:00\", \"2016-01-01T00:00:00\", \"2016-01-01T00:00:00\", \"2016-01-01T00:00:00\", \"2016-01-01T00:00:00\", \"2016-01-01T00:00:00\", \"2016-01-01T00:00:00\", \"2016-01-01T00:00:00\", \"2016-01-01T00:00:00\", \"2016-01-01T00:00:00\", \"2016-01-01T00:00:00\", \"2016-01-01T00:00:00\", \"2016-01-01T00:00:00\", \"2016-01-01T00:00:00\", \"2016-01-01T00:00:00\", \"2016-01-01T00:00:00\", \"2016-01-01T00:00:00\", \"2016-01-01T00:00:00\", \"2016-01-01T00:00:00\", \"2016-01-01T00:00:00\", \"2016-01-01T00:00:00\", \"2016-01-01T00:00:00\", \"2016-01-01T00:00:00\", \"2016-01-01T00:00:00\", \"2016-01-01T00:00:00\", \"2016-01-01T00:00:00\", \"2016-01-01T00:00:00\", \"2016-01-01T00:00:00\", \"2016-01-01T00:00:00\", \"2016-01-01T00:00:00\", \"2016-01-01T00:00:00\", \"2016-01-01T00:00:00\", \"2016-01-01T00:00:00\", \"2016-01-01T00:00:00\", \"2016-01-01T00:00:00\", \"2016-01-01T00:00:00\", \"2016-01-01T00:00:00\", \"2016-01-01T00:00:00\", \"2016-01-01T00:00:00\", \"2016-01-01T00:00:00\", \"2016-01-01T00:00:00\", \"2016-01-01T00:00:00\", \"2016-01-01T00:00:00\", \"2016-01-01T00:00:00\", \"2016-01-01T00:00:00\", \"2016-01-01T00:00:00\", \"2016-01-01T00:00:00\", \"2016-01-01T00:00:00\", \"2018-01-01T00:00:00\"], \"y\": [64.7, 52.9, 59.7, 70.6, 67.2, 61.4, 43.5, 68.3, 58.7, 70.0, 57.7, 64.3, 48.0, 63.1, 58.0, 48.6, 61.2, 66.1, 44.7, 69.0, 67.0, 58.0, 68.2, 48.5, 38.8, 65.6, 47.2, 63.5, 60.5, 66.3, 61.4, 66.4, 61.8, 67.8, 65.4, 62.7, 66.3, 64.6, 65.5, 56.4, 65.4, 64.0, 67.3, 63.4, 59.5, 60.4, 59.5, 66.7, 65.5, 62.6, 62.1, 63.0, 61.1, 69.3, 69.7, 68.0, 61.9, 60.5, 43.8, 63.9, 51.3, 66.0, 57.3, 69.9, 69.7, 68.5, 65.5, 54.7, 62.6, 64.1, 70.8, 59.5, 53.6, 71.0, 63.2, 64.2, 56.2, 68.5, 68.1, 66.0, 66.8, 61.8, 61.9, 65.4, 63.7, 62.0, 66.5, 47.1, 60.9, 54.4, 59.0, 61.3, 70.4, 68.5, 65.5, 48.2, 59.4, 63.5, 59.5, 63.5, 48.0, 61.3, 60.0, 56.9, 65.0, 63.7, 67.7, 64.6, 65.8, 37.3, 55.1, 61.0, 54.7, 52.8, 60.3, 69.3, 55.5, 53.4, 48.5, 63.4, 67.1, 56.9, 61.3, 63.2, 58.5, 60.5, 69.8, 53.1, 63.1, 59.2, 62.9, 67.5, 53.9]}],\n",
              "                        {\"template\": {\"data\": {\"bar\": [{\"error_x\": {\"color\": \"#2a3f5f\"}, \"error_y\": {\"color\": \"#2a3f5f\"}, \"marker\": {\"line\": {\"color\": \"#E5ECF6\", \"width\": 0.5}}, \"type\": \"bar\"}], \"barpolar\": [{\"marker\": {\"line\": {\"color\": \"#E5ECF6\", \"width\": 0.5}}, \"type\": \"barpolar\"}], \"carpet\": [{\"aaxis\": {\"endlinecolor\": \"#2a3f5f\", \"gridcolor\": \"white\", \"linecolor\": \"white\", \"minorgridcolor\": \"white\", \"startlinecolor\": \"#2a3f5f\"}, \"baxis\": {\"endlinecolor\": \"#2a3f5f\", \"gridcolor\": \"white\", \"linecolor\": \"white\", \"minorgridcolor\": \"white\", \"startlinecolor\": \"#2a3f5f\"}, \"type\": \"carpet\"}], \"choropleth\": [{\"colorbar\": {\"outlinewidth\": 0, \"ticks\": \"\"}, \"type\": \"choropleth\"}], \"contour\": [{\"colorbar\": {\"outlinewidth\": 0, \"ticks\": \"\"}, \"colorscale\": [[0.0, \"#0d0887\"], [0.1111111111111111, \"#46039f\"], [0.2222222222222222, \"#7201a8\"], [0.3333333333333333, \"#9c179e\"], [0.4444444444444444, \"#bd3786\"], [0.5555555555555556, \"#d8576b\"], [0.6666666666666666, \"#ed7953\"], [0.7777777777777778, \"#fb9f3a\"], [0.8888888888888888, \"#fdca26\"], [1.0, \"#f0f921\"]], \"type\": \"contour\"}], \"contourcarpet\": [{\"colorbar\": {\"outlinewidth\": 0, \"ticks\": \"\"}, \"type\": \"contourcarpet\"}], \"heatmap\": [{\"colorbar\": {\"outlinewidth\": 0, \"ticks\": \"\"}, \"colorscale\": [[0.0, \"#0d0887\"], [0.1111111111111111, \"#46039f\"], [0.2222222222222222, \"#7201a8\"], [0.3333333333333333, \"#9c179e\"], [0.4444444444444444, \"#bd3786\"], [0.5555555555555556, \"#d8576b\"], [0.6666666666666666, \"#ed7953\"], [0.7777777777777778, \"#fb9f3a\"], [0.8888888888888888, \"#fdca26\"], [1.0, \"#f0f921\"]], \"type\": \"heatmap\"}], \"heatmapgl\": [{\"colorbar\": {\"outlinewidth\": 0, \"ticks\": \"\"}, \"colorscale\": [[0.0, \"#0d0887\"], [0.1111111111111111, \"#46039f\"], [0.2222222222222222, \"#7201a8\"], [0.3333333333333333, \"#9c179e\"], [0.4444444444444444, \"#bd3786\"], [0.5555555555555556, \"#d8576b\"], [0.6666666666666666, \"#ed7953\"], [0.7777777777777778, \"#fb9f3a\"], [0.8888888888888888, \"#fdca26\"], [1.0, \"#f0f921\"]], \"type\": \"heatmapgl\"}], \"histogram\": [{\"marker\": {\"colorbar\": {\"outlinewidth\": 0, \"ticks\": \"\"}}, \"type\": \"histogram\"}], \"histogram2d\": [{\"colorbar\": {\"outlinewidth\": 0, \"ticks\": \"\"}, \"colorscale\": [[0.0, \"#0d0887\"], [0.1111111111111111, \"#46039f\"], [0.2222222222222222, \"#7201a8\"], [0.3333333333333333, \"#9c179e\"], [0.4444444444444444, \"#bd3786\"], [0.5555555555555556, \"#d8576b\"], [0.6666666666666666, \"#ed7953\"], [0.7777777777777778, \"#fb9f3a\"], [0.8888888888888888, \"#fdca26\"], [1.0, \"#f0f921\"]], \"type\": \"histogram2d\"}], \"histogram2dcontour\": [{\"colorbar\": {\"outlinewidth\": 0, \"ticks\": \"\"}, \"colorscale\": [[0.0, \"#0d0887\"], [0.1111111111111111, \"#46039f\"], [0.2222222222222222, \"#7201a8\"], [0.3333333333333333, \"#9c179e\"], [0.4444444444444444, \"#bd3786\"], [0.5555555555555556, \"#d8576b\"], [0.6666666666666666, \"#ed7953\"], [0.7777777777777778, \"#fb9f3a\"], [0.8888888888888888, \"#fdca26\"], [1.0, \"#f0f921\"]], \"type\": \"histogram2dcontour\"}], \"mesh3d\": [{\"colorbar\": {\"outlinewidth\": 0, \"ticks\": \"\"}, \"type\": \"mesh3d\"}], \"parcoords\": [{\"line\": {\"colorbar\": {\"outlinewidth\": 0, \"ticks\": \"\"}}, \"type\": \"parcoords\"}], \"pie\": [{\"automargin\": true, \"type\": \"pie\"}], \"scatter\": [{\"marker\": {\"colorbar\": {\"outlinewidth\": 0, \"ticks\": \"\"}}, \"type\": \"scatter\"}], \"scatter3d\": [{\"line\": {\"colorbar\": {\"outlinewidth\": 0, \"ticks\": \"\"}}, \"marker\": {\"colorbar\": {\"outlinewidth\": 0, \"ticks\": \"\"}}, \"type\": \"scatter3d\"}], \"scattercarpet\": [{\"marker\": {\"colorbar\": {\"outlinewidth\": 0, \"ticks\": \"\"}}, \"type\": \"scattercarpet\"}], \"scattergeo\": [{\"marker\": {\"colorbar\": {\"outlinewidth\": 0, \"ticks\": \"\"}}, \"type\": \"scattergeo\"}], \"scattergl\": [{\"marker\": {\"colorbar\": {\"outlinewidth\": 0, \"ticks\": \"\"}}, \"type\": \"scattergl\"}], \"scattermapbox\": [{\"marker\": {\"colorbar\": {\"outlinewidth\": 0, \"ticks\": \"\"}}, \"type\": \"scattermapbox\"}], \"scatterpolar\": [{\"marker\": {\"colorbar\": {\"outlinewidth\": 0, \"ticks\": \"\"}}, \"type\": \"scatterpolar\"}], \"scatterpolargl\": [{\"marker\": {\"colorbar\": {\"outlinewidth\": 0, \"ticks\": \"\"}}, \"type\": \"scatterpolargl\"}], \"scatterternary\": [{\"marker\": {\"colorbar\": {\"outlinewidth\": 0, \"ticks\": \"\"}}, \"type\": \"scatterternary\"}], \"surface\": [{\"colorbar\": {\"outlinewidth\": 0, \"ticks\": \"\"}, \"colorscale\": [[0.0, \"#0d0887\"], [0.1111111111111111, \"#46039f\"], [0.2222222222222222, \"#7201a8\"], [0.3333333333333333, \"#9c179e\"], [0.4444444444444444, \"#bd3786\"], [0.5555555555555556, \"#d8576b\"], [0.6666666666666666, \"#ed7953\"], [0.7777777777777778, \"#fb9f3a\"], [0.8888888888888888, \"#fdca26\"], [1.0, \"#f0f921\"]], \"type\": \"surface\"}], \"table\": [{\"cells\": {\"fill\": {\"color\": \"#EBF0F8\"}, \"line\": {\"color\": \"white\"}}, \"header\": {\"fill\": {\"color\": \"#C8D4E3\"}, \"line\": {\"color\": \"white\"}}, \"type\": \"table\"}]}, \"layout\": {\"annotationdefaults\": {\"arrowcolor\": \"#2a3f5f\", \"arrowhead\": 0, \"arrowwidth\": 1}, \"coloraxis\": {\"colorbar\": {\"outlinewidth\": 0, \"ticks\": \"\"}}, \"colorscale\": {\"diverging\": [[0, \"#8e0152\"], [0.1, \"#c51b7d\"], [0.2, \"#de77ae\"], [0.3, \"#f1b6da\"], [0.4, \"#fde0ef\"], [0.5, \"#f7f7f7\"], [0.6, \"#e6f5d0\"], [0.7, \"#b8e186\"], [0.8, \"#7fbc41\"], [0.9, \"#4d9221\"], [1, \"#276419\"]], \"sequential\": [[0.0, \"#0d0887\"], [0.1111111111111111, \"#46039f\"], [0.2222222222222222, \"#7201a8\"], [0.3333333333333333, \"#9c179e\"], [0.4444444444444444, \"#bd3786\"], [0.5555555555555556, \"#d8576b\"], [0.6666666666666666, \"#ed7953\"], [0.7777777777777778, \"#fb9f3a\"], [0.8888888888888888, \"#fdca26\"], [1.0, \"#f0f921\"]], \"sequentialminus\": [[0.0, \"#0d0887\"], [0.1111111111111111, \"#46039f\"], [0.2222222222222222, \"#7201a8\"], [0.3333333333333333, \"#9c179e\"], [0.4444444444444444, \"#bd3786\"], [0.5555555555555556, \"#d8576b\"], [0.6666666666666666, \"#ed7953\"], [0.7777777777777778, \"#fb9f3a\"], [0.8888888888888888, \"#fdca26\"], [1.0, \"#f0f921\"]]}, \"colorway\": [\"#636efa\", \"#EF553B\", \"#00cc96\", \"#ab63fa\", \"#FFA15A\", \"#19d3f3\", \"#FF6692\", \"#B6E880\", \"#FF97FF\", \"#FECB52\"], \"font\": {\"color\": \"#2a3f5f\"}, \"geo\": {\"bgcolor\": \"white\", \"lakecolor\": \"white\", \"landcolor\": \"#E5ECF6\", \"showlakes\": true, \"showland\": true, \"subunitcolor\": \"white\"}, \"hoverlabel\": {\"align\": \"left\"}, \"hovermode\": \"closest\", \"mapbox\": {\"style\": \"light\"}, \"paper_bgcolor\": \"white\", \"plot_bgcolor\": \"#E5ECF6\", \"polar\": {\"angularaxis\": {\"gridcolor\": \"white\", \"linecolor\": \"white\", \"ticks\": \"\"}, \"bgcolor\": \"#E5ECF6\", \"radialaxis\": {\"gridcolor\": \"white\", \"linecolor\": \"white\", \"ticks\": \"\"}}, \"scene\": {\"xaxis\": {\"backgroundcolor\": \"#E5ECF6\", \"gridcolor\": \"white\", \"gridwidth\": 2, \"linecolor\": \"white\", \"showbackground\": true, \"ticks\": \"\", \"zerolinecolor\": \"white\"}, \"yaxis\": {\"backgroundcolor\": \"#E5ECF6\", \"gridcolor\": \"white\", \"gridwidth\": 2, \"linecolor\": \"white\", \"showbackground\": true, \"ticks\": \"\", \"zerolinecolor\": \"white\"}, \"zaxis\": {\"backgroundcolor\": \"#E5ECF6\", \"gridcolor\": \"white\", \"gridwidth\": 2, \"linecolor\": \"white\", \"showbackground\": true, \"ticks\": \"\", \"zerolinecolor\": \"white\"}}, \"shapedefaults\": {\"line\": {\"color\": \"#2a3f5f\"}}, \"ternary\": {\"aaxis\": {\"gridcolor\": \"white\", \"linecolor\": \"white\", \"ticks\": \"\"}, \"baxis\": {\"gridcolor\": \"white\", \"linecolor\": \"white\", \"ticks\": \"\"}, \"bgcolor\": \"#E5ECF6\", \"caxis\": {\"gridcolor\": \"white\", \"linecolor\": \"white\", \"ticks\": \"\"}}, \"title\": {\"x\": 0.05}, \"xaxis\": {\"automargin\": true, \"gridcolor\": \"white\", \"linecolor\": \"white\", \"ticks\": \"\", \"title\": {\"standoff\": 15}, \"zerolinecolor\": \"white\", \"zerolinewidth\": 2}, \"yaxis\": {\"automargin\": true, \"gridcolor\": \"white\", \"linecolor\": \"white\", \"ticks\": \"\", \"title\": {\"standoff\": 15}, \"zerolinecolor\": \"white\", \"zerolinewidth\": 2}}}, \"title\": {\"text\": \"Time series with range slider and selectors\"}, \"xaxis\": {\"rangeselector\": {\"buttons\": [{\"count\": 1, \"label\": \"1m\", \"step\": \"month\", \"stepmode\": \"backward\"}, {\"count\": 6, \"label\": \"6m\", \"step\": \"month\", \"stepmode\": \"backward\"}, {\"count\": 1, \"label\": \"YTD\", \"step\": \"year\", \"stepmode\": \"todate\"}, {\"count\": 1, \"label\": \"1y\", \"step\": \"year\", \"stepmode\": \"backward\"}, {\"step\": \"all\"}]}, \"rangeslider\": {\"visible\": true}, \"type\": \"date\"}},\n",
              "                        {\"responsive\": true}\n",
              "                    ).then(function(){\n",
              "                            \n",
              "var gd = document.getElementById('8e20e9e3-2db3-4cfb-b783-be4cc53b3361');\n",
              "var x = new MutationObserver(function (mutations, observer) {{\n",
              "        var display = window.getComputedStyle(gd).display;\n",
              "        if (!display || display === 'none') {{\n",
              "            console.log([gd, 'removed!']);\n",
              "            Plotly.purge(gd);\n",
              "            observer.disconnect();\n",
              "        }}\n",
              "}});\n",
              "\n",
              "// Listen for the removal of the full notebook cells\n",
              "var notebookContainer = gd.closest('#notebook-container');\n",
              "if (notebookContainer) {{\n",
              "    x.observe(notebookContainer, {childList: true});\n",
              "}}\n",
              "\n",
              "// Listen for the clearing of the current output cell\n",
              "var outputEl = gd.closest('.output');\n",
              "if (outputEl) {{\n",
              "    x.observe(outputEl, {childList: true});\n",
              "}}\n",
              "\n",
              "                        })\n",
              "                };\n",
              "                \n",
              "            </script>\n",
              "        </div>\n",
              "</body>\n",
              "</html>"
            ]
          },
          "metadata": {
            "tags": []
          }
        }
      ]
    },
    {
      "cell_type": "markdown",
      "metadata": {
        "id": "X45AdWyHtlE3",
        "colab_type": "text"
      },
      "source": [
        "#Conclusions"
      ]
    },
    {
      "cell_type": "markdown",
      "metadata": {
        "id": "DwQFnZS73NLf",
        "colab_type": "text"
      },
      "source": [
        "# Reference: \n",
        "1. https://healthdata.gov/dataset/us-chronic-disease-indicators-cdi\n",
        "\n",
        "2. https://data.cdc.gov/Chronic-Disease-Indicators/U-S-Chronic-Disease-Indicators-CDI-/g4ie-h725\n",
        "\n",
        "3. https://dev.socrata.com/consumers/getting-started.html\n",
        "\n",
        "4. https://dev.socrata.com/foundry/chronicdata.cdc.gov/g4ie-h725\n",
        "\n",
        "5. https://dev.socrata.com/docs/filtering.html\n"
      ]
    }
  ]
}