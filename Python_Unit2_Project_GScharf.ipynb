{
  "nbformat": 4,
  "nbformat_minor": 0,
  "metadata": {
    "colab": {
      "name": "Python Unit2 Project_GScharf.ipynb",
      "provenance": [],
      "authorship_tag": "ABX9TyO4nZ9KeiKzFl6YTiobqJ+E",
      "include_colab_link": true
    },
    "kernelspec": {
      "name": "python3",
      "display_name": "Python 3"
    }
  },
  "cells": [
    {
      "cell_type": "markdown",
      "metadata": {
        "id": "view-in-github",
        "colab_type": "text"
      },
      "source": [
        "<a href=\"https://colab.research.google.com/github/ghscharf/DA-Python/blob/master/Python_Unit2_Project_GScharf.ipynb\" target=\"_parent\"><img src=\"https://colab.research.google.com/assets/colab-badge.svg\" alt=\"Open In Colab\"/></a>"
      ]
    },
    {
      "cell_type": "markdown",
      "metadata": {
        "id": "gkZsMnG6hf_m",
        "colab_type": "text"
      },
      "source": [
        "•Make a two-player Rock-Paper-Scissors game. (Hint: Ask for player plays (using input), compare them, print out a message of congratulations to the winner, and ask if the players want to start a new game)\n",
        "–Remember the rules:\n",
        "–Rock beats scissors\n",
        "–Scissors beats paper\n",
        "–Paper beats rock\n"
      ]
    },
    {
      "cell_type": "code",
      "metadata": {
        "id": "wFrO1_VswEKo",
        "colab_type": "code",
        "colab": {}
      },
      "source": [
        "game = True\n",
        "\n",
        "player_1_attempt_counter = 1\n",
        "player_2_attempt_counter = 1\n",
        "\n",
        "while game:\n",
        "  player_1 = input('Enter move for Player 1: ')\n",
        "  player_2 = input('Enter move for Player 2: ')\n",
        "\n",
        "  if (player_1 == player_2):\n",
        "    print('It is a tie.')\n",
        "    next_move = input('Hit Enter to play again or type \"quit\" to exit: ')\n",
        "    if next_move == 'quit':\n",
        "      print('Exiting the game...')\n",
        "      game = False\n",
        "    else:\n",
        "      game = True\n",
        "  \n",
        "  elif ((player_1 == 'rock' and player_2 == 'scissors') or (player_1 == 'paper' and player_2 == 'rock') or (player_1 == 'scissors' and player_2 == 'paper')):\n",
        "    print('Congratulations, Player 1!') \n",
        "    next_move = input('Hit Enter to play again or type \"quit\" to exit: ')\n",
        "    if next_move == 'quit':\n",
        "      print('Exiting the game...')\n",
        "      game = False\n",
        "    else:\n",
        "      game = True\n",
        "\n",
        "    if player_1_attempt_counter>2:\n",
        "      print('Player 2, you have lost ' + str(player_1_attempt_counter) + ' times. You suck at this game.')\n",
        "      game = False\n",
        "    else:\n",
        "      game = True\n",
        "\n",
        "    player_1_attempt_counter = player_1_attempt_counter + 1\n",
        "\n",
        "  elif ((player_2 == 'rock' and player_1 == 'scissors') or (player_2 == 'paper' and player_1 == 'rock') or (player_2 == 'scissors' and player_1 == 'paper')):\n",
        "    print('Congratulations, Player 2!') \n",
        "    next_move = input('Hit Enter to play again or type \"quit\" to exit: ')\n",
        "    if next_move == 'quit':\n",
        "      print('Exiting the game...')\n",
        "      game = False\n",
        "    else:\n",
        "      game = True\n",
        "    \n",
        "    if player_2_attempt_counter>2:\n",
        "      print('Player 1, you have lost ' + str(player_2_attempt_counter) + ' times. You suck at this game.')\n",
        "      game = False\n",
        "    else:\n",
        "      game = True\n",
        "\n",
        "    player_2_attempt_counter = player_2_attempt_counter + 1\n",
        "\n",
        "\n",
        "    "
      ],
      "execution_count": null,
      "outputs": []
    },
    {
      "cell_type": "markdown",
      "metadata": {
        "id": "E9tL47yHmprq",
        "colab_type": "text"
      },
      "source": [
        "•Ask the user for a number. Depending \n",
        "on whether the number is even or odd, print out an appropriate message to the user.  Hint: how does an even / odd number react differently when divided by 2?\n"
      ]
    },
    {
      "cell_type": "code",
      "metadata": {
        "id": "6oIPDlYWjCHP",
        "colab_type": "code",
        "colab": {}
      },
      "source": [
        "num_input = True\n",
        "\n",
        "while num_input:\n",
        "  command = int(input('Enter an integer number: '))\n",
        "  message_1 = 'This is an even number.'\n",
        "  message_2 = 'This is an odd number.'\n",
        "  if command % 2 == 0 or command % 2 == 2 or command % 2 == 4 or command % 2 == 6 or command % 2 == 8:\n",
        "    print(message_1)\n",
        "    next_move = input('Hit Enter to play again or type \"quit\" to exit: ')\n",
        "    if next_move == 'quit':\n",
        "      print('The end.')\n",
        "      num_input = False\n",
        "    else:\n",
        "      num_input = True\n",
        "\n",
        "  else:\n",
        "    print(message_2)\n",
        "    next_move = input('Hit Enter to play again or type \"quit\" to exit: ')\n",
        "    if next_move == 'quit':\n",
        "      print('The end.')\n",
        "      num_input = False\n",
        "    else:\n",
        "      num_input = True\n"
      ],
      "execution_count": null,
      "outputs": []
    },
    {
      "cell_type": "markdown",
      "metadata": {
        "id": "c4lD6B6w5a2D",
        "colab_type": "text"
      },
      "source": [
        "•If the number is a multiple of 4, print out a different message.\n"
      ]
    },
    {
      "cell_type": "code",
      "metadata": {
        "id": "A-qsLZubolJK",
        "colab_type": "code",
        "colab": {}
      },
      "source": [
        "num_input_2 = True\n",
        "\n",
        "while num_input_2:\n",
        "  command = int(input('Enter an integer number: '))\n",
        "  message_1 = 'This is an even number.'\n",
        "  message_2 = 'This is an odd number.'\n",
        "  if command % 4 == 0:\n",
        "    print('This is a multiple of 4.')\n",
        "    next_move = input('Hit Enter to play again or type \"quit\" to exit: ')\n",
        "    if next_move == 'quit':\n",
        "      print('The end.')\n",
        "      num_input_2 = False\n",
        "    else:\n",
        "      num_input_2 = True\n",
        "\n",
        "  elif command % 2 == 0 or command % 2 == 2 or command % 2 == 4 or command % 2 == 6 or command % 2 == 8:\n",
        "    print(message_1)\n",
        "    next_move = input('Hit Enter to play again or type \"quit\" to exit: ')\n",
        "    if next_move == 'quit':\n",
        "      print('The end.')\n",
        "      num_input_2 = False\n",
        "    else:\n",
        "      num_input_2 = True\n",
        "\n",
        "  else:\n",
        "    print(message_2)\n",
        "    next_move = input('Hit Enter to play again or type \"quit\" to exit: ')\n",
        "    if next_move == 'quit':\n",
        "      print('The end.')\n",
        "      num_input_2 = False\n",
        "    else:\n",
        "      num_input_2 = True"
      ],
      "execution_count": null,
      "outputs": []
    },
    {
      "cell_type": "markdown",
      "metadata": {
        "id": "yYUkOanq5g68",
        "colab_type": "text"
      },
      "source": [
        "•Ask the user for two numbers: one number to check (call it num) and one number to divide by (check).  If check divides evenly into num, tell that to the user.  If not, print a different appropriate message."
      ]
    },
    {
      "cell_type": "code",
      "metadata": {
        "id": "xvXJH-zapBJP",
        "colab_type": "code",
        "colab": {}
      },
      "source": [
        "num_division = True\n",
        "\n",
        "while num_division:\n",
        "  num = int(input('Enter an integer number for \"num\": '))\n",
        "  check = int(input('Enter another integer number for \"check\": '))\n",
        "  message_1 = 'check divides evenly into num.'\n",
        "  message_2 = 'check does not divide evenly into num.'\n",
        "\n",
        "  if num % check == 0:\n",
        "    print(message_1)\n",
        "    next_move = input('Hit Enter to play again or type \"quit\" to exit: ')\n",
        "    if next_move == 'quit':\n",
        "      print('The end.')\n",
        "      num_division = False\n",
        "    else:\n",
        "      num_division = True\n",
        "\n",
        "  else:\n",
        "    print(message_2)\n",
        "    next_move = input('Hit Enter to play again or type \"quit\" to exit: ')\n",
        "    if next_move == 'quit':\n",
        "      print('The end.')\n",
        "      num_division = False\n",
        "    else:\n",
        "      num_division = True"
      ],
      "execution_count": null,
      "outputs": []
    }
  ]
}